{
 "cells": [
  {
   "cell_type": "markdown",
   "metadata": {},
   "source": [
    "<br> \n",
    "<center><img src=\"http://i.imgur.com/sSaOozN.png\" width=\"500\"></center>\n",
    "\n",
    "\n",
    "## Course: Data-Driven Management and Policy\n",
    "\n",
    "### Prof. José Manuel Magallanes, PhD \n",
    "\n",
    "_____\n",
    "\n",
    "\n",
    "# Session 4: Working with Data Frames\n",
    "\n",
    "<a id='beginning'></a>\n",
    "\n",
    "\n",
    "The data frame is a common data structure for people with experience with spreasheets or data tables. It is just that: a collection of rows with several columns. However, each software application has its own way of dealing with data frames.\n",
    "\n",
    "In this session, we will learn the main strategies that we use to deal with data frames:\n",
    "\n",
    "1. [Logical Operators.](#part1) \n",
    "2. [Control of Execution.](#part2) \n",
    "3. [Functions.](#part3) \n",
    "\n",
    "----\n",
    "\n",
    "<a id='part1'></a>\n",
    "\n",
    "## Logical Operators\n",
    "\n",
    "Let me open a simple data frame from an Excel file:"
   ]
  },
  {
   "cell_type": "code",
   "execution_count": null,
   "metadata": {},
   "outputs": [],
   "source": [
    "library(rio)\n",
    "fileName='people.xlsx'\n",
    "people=import(fileName) # table '1'\n",
    "people"
   ]
  },
  {
   "cell_type": "markdown",
   "metadata": {},
   "source": [
    "The first step is making sure of what data types you have:"
   ]
  },
  {
   "cell_type": "code",
   "execution_count": null,
   "metadata": {},
   "outputs": [],
   "source": [
    "str(people)"
   ]
  },
  {
   "cell_type": "markdown",
   "metadata": {},
   "source": [
    "Education is represented as a number, let me turn it into a category:"
   ]
  },
  {
   "cell_type": "code",
   "execution_count": null,
   "metadata": {},
   "outputs": [],
   "source": [
    "people$education=factor(people$education,\n",
    "                        levels=c(1,2,3),\n",
    "                        labels=c(\"Low\",\"Medium\",\"High\"),\n",
    "                        ordered = T)"
   ]
  },
  {
   "cell_type": "markdown",
   "metadata": {},
   "source": [
    "The purpose of logical operatos can be divided into:\n",
    "\n",
    "* DETECTING COMPLIANCE\n",
    "\n",
    "**How many people are older that 30?**\n"
   ]
  },
  {
   "cell_type": "code",
   "execution_count": null,
   "metadata": {},
   "outputs": [],
   "source": [
    "# count:\n",
    "sum(people$ages>30)\n"
   ]
  },
  {
   "cell_type": "code",
   "execution_count": null,
   "metadata": {},
   "outputs": [],
   "source": [
    "# count:\n",
    "nrow(people[people$ages>30,])\n"
   ]
  },
  {
   "cell_type": "code",
   "execution_count": null,
   "metadata": {},
   "outputs": [],
   "source": [
    "#count:\n",
    "table(people$ages>30)"
   ]
  },
  {
   "cell_type": "code",
   "execution_count": null,
   "metadata": {},
   "outputs": [],
   "source": [
    "# percent:\n",
    "mean(people$ages>30)"
   ]
  },
  {
   "cell_type": "code",
   "execution_count": null,
   "metadata": {},
   "outputs": [],
   "source": [
    "# percent:\n",
    "nrow(people[people$ages>30,])/nrow(people)"
   ]
  },
  {
   "cell_type": "code",
   "execution_count": null,
   "metadata": {},
   "outputs": [],
   "source": [
    "# percent:\n",
    "prop.table(table(people$ages>30))"
   ]
  },
  {
   "cell_type": "markdown",
   "metadata": {},
   "source": [
    "* SUBSETTING \n",
    "\n",
    "**Case 1: selecting rows**"
   ]
  },
  {
   "cell_type": "code",
   "execution_count": null,
   "metadata": {},
   "outputs": [],
   "source": [
    "#People from WA\n",
    "\n",
    "condition=c(\"WA\")\n",
    "people[people$state %in% condition,]"
   ]
  },
  {
   "cell_type": "code",
   "execution_count": null,
   "metadata": {},
   "outputs": [],
   "source": [
    "#People from WA and NY\n",
    "\n",
    "condition=c(\"WA\",\"NY\")\n",
    "people[people$state %in% condition,]\n"
   ]
  },
  {
   "cell_type": "code",
   "execution_count": null,
   "metadata": {},
   "outputs": [],
   "source": [
    "#top two highest levels\n",
    "\n",
    "condition=c(\"Medium\",\"High\")\n",
    "people[people$education %in% condition,]"
   ]
  },
  {
   "cell_type": "code",
   "execution_count": null,
   "metadata": {},
   "outputs": [],
   "source": [
    "#top two highest levels\n",
    "\n",
    "people[people$education >= \"Medium\",] # valid for ordinal factors"
   ]
  },
  {
   "cell_type": "markdown",
   "metadata": {},
   "source": [
    "The logical operator \">=\" can not be used in text, or nominal variables, as they do not have order."
   ]
  },
  {
   "cell_type": "code",
   "execution_count": null,
   "metadata": {},
   "outputs": [],
   "source": [
    "#People aged 37 OR 25\n",
    "\n",
    "condition=c(37,25)\n",
    "people[people$ages %in% condition,]"
   ]
  },
  {
   "cell_type": "code",
   "execution_count": null,
   "metadata": {},
   "outputs": [],
   "source": [
    "#People older than 35\n",
    "\n",
    "condition=35\n",
    "people[people$ages > condition,]"
   ]
  },
  {
   "cell_type": "code",
   "execution_count": null,
   "metadata": {},
   "outputs": [],
   "source": [
    "# the youngest person/people\n",
    "\n",
    "condition=min(people$ages)\n",
    "people[people$ages==condition,]"
   ]
  },
  {
   "cell_type": "code",
   "execution_count": null,
   "metadata": {},
   "outputs": [],
   "source": [
    "# compare\n",
    "people[which.min(people$ages),]"
   ]
  },
  {
   "cell_type": "markdown",
   "metadata": {},
   "source": [
    "**Multiple conditions** bring the challenge of dealing with several data types:"
   ]
  },
  {
   "cell_type": "code",
   "execution_count": null,
   "metadata": {},
   "outputs": [],
   "source": [
    "# older than 35 OR younger than 27\n",
    "people[people$ages>35 | people$ages<27,]\n"
   ]
  },
  {
   "cell_type": "code",
   "execution_count": null,
   "metadata": {},
   "outputs": [],
   "source": [
    "# younger than 27 WITH education level Medium\n",
    "people[people$ages<27 & people$education==\"Medium\",]"
   ]
  },
  {
   "cell_type": "code",
   "execution_count": null,
   "metadata": {},
   "outputs": [],
   "source": [
    "# younger than 30 WITH education level 2 or 3\n",
    "condition=c(\"Medium\",\"High\")\n",
    "people[people$ages<30 & people$education %in% condition,]"
   ]
  },
  {
   "cell_type": "code",
   "execution_count": null,
   "metadata": {},
   "outputs": [],
   "source": [
    "# older than 30 WITH education level 2 OR 3 FROM NY\n",
    "\n",
    "people[ people$ages>30& \n",
    "           people$education %in% condition &\n",
    "           people$state=='NY',]"
   ]
  },
  {
   "cell_type": "markdown",
   "metadata": {},
   "source": [
    "R has the **filter()** function which allows the selection of rows in an 'english language' approach:"
   ]
  },
  {
   "cell_type": "code",
   "execution_count": null,
   "metadata": {},
   "outputs": [],
   "source": [
    "library(dplyr)\n",
    "filter( people, ages > 30 & \n",
    "            education %in% condition & \n",
    "            people$state=='NY'  )"
   ]
  },
  {
   "cell_type": "markdown",
   "metadata": {},
   "source": [
    "**Case 2: selecting columns**\n",
    "\n",
    "This is how you can get some columns:\n"
   ]
  },
  {
   "cell_type": "code",
   "execution_count": null,
   "metadata": {},
   "outputs": [],
   "source": [
    "people[,c('cod','state')] # notice the comma position"
   ]
  },
  {
   "cell_type": "markdown",
   "metadata": {},
   "source": [
    "This can be also done by using **select** (from dplyr)"
   ]
  },
  {
   "cell_type": "code",
   "execution_count": null,
   "metadata": {},
   "outputs": [],
   "source": [
    "select(people, c('cod','state'))"
   ]
  },
  {
   "cell_type": "markdown",
   "metadata": {},
   "source": [
    "Or like this:"
   ]
  },
  {
   "cell_type": "code",
   "execution_count": null,
   "metadata": {},
   "outputs": [],
   "source": [
    "select(people, cod,state)"
   ]
  },
  {
   "cell_type": "markdown",
   "metadata": {},
   "source": [
    "Of course, you can use conditions for rows and columns. "
   ]
  },
  {
   "cell_type": "code",
   "execution_count": null,
   "metadata": {},
   "outputs": [],
   "source": [
    "# older than 35 OR younger than 27\n",
    "people[people$ages>35 | people$ages<27,c('cod','state')]"
   ]
  },
  {
   "cell_type": "markdown",
   "metadata": {},
   "source": [
    "You can turn the previous command using the dplyr tools and the **pip** (%>%) operator:"
   ]
  },
  {
   "cell_type": "code",
   "execution_count": null,
   "metadata": {},
   "outputs": [],
   "source": [
    "people %>% filter(ages>35 | ages<27) %>% select(cod,state)"
   ]
  },
  {
   "cell_type": "markdown",
   "metadata": {},
   "source": [
    "**Note on missing values**\n",
    "\n",
    "It is always a good practice, when you know missing values are present, so that you can anticipate possible unexpected results."
   ]
  },
  {
   "cell_type": "code",
   "execution_count": null,
   "metadata": {},
   "outputs": [],
   "source": [
    "# current value\n",
    "people$ages[1]\n"
   ]
  },
  {
   "cell_type": "code",
   "execution_count": null,
   "metadata": {},
   "outputs": [],
   "source": [
    "#turning that value to  missing:\n",
    "people$ages[1]=NA\n"
   ]
  },
  {
   "cell_type": "code",
   "execution_count": null,
   "metadata": {},
   "outputs": [],
   "source": [
    "# then\n",
    "people\n"
   ]
  },
  {
   "cell_type": "markdown",
   "metadata": {},
   "source": [
    "Let me query:"
   ]
  },
  {
   "cell_type": "code",
   "execution_count": null,
   "metadata": {},
   "outputs": [],
   "source": [
    "people[people$ages>27,]"
   ]
  },
  {
   "cell_type": "markdown",
   "metadata": {},
   "source": [
    "What is the row at the top?\n",
    "\n",
    "Now,\n"
   ]
  },
  {
   "cell_type": "code",
   "execution_count": null,
   "metadata": {},
   "outputs": [],
   "source": [
    "people[people$ages<=27,]"
   ]
  },
  {
   "cell_type": "markdown",
   "metadata": {},
   "source": [
    "Again the same row appears.\n",
    "\n",
    "R gave you a row with all missing values. This happens when your query does not control the _NA_. You may want to use this to create your sub data frame:\n"
   ]
  },
  {
   "cell_type": "code",
   "execution_count": null,
   "metadata": {},
   "outputs": [],
   "source": [
    "people[people$ages>27 & !is.na(people$ages) ,]"
   ]
  },
  {
   "cell_type": "markdown",
   "metadata": {},
   "source": [
    "It is different if the query does not refer to a column with missing values:"
   ]
  },
  {
   "cell_type": "code",
   "execution_count": null,
   "metadata": {},
   "outputs": [],
   "source": [
    "people[people$education==\"High\",]"
   ]
  },
  {
   "cell_type": "markdown",
   "metadata": {},
   "source": [
    "[Go to page beginning](#beginning)\n",
    "\n",
    "____\n",
    "\n",
    "<a id='part2'></a>\n",
    "\n",
    "## Control of Execution\n",
    "\n",
    "We will teach soon how to build functions, and for that you may want to have some knowledge on how to program in R. For that, you need to know how you can control the execution of code. This is done via:\n",
    "\n",
    "* Conditional execution\n",
    "* Repetitive execution\n",
    "\n",
    "**CONDITIONAL EXECUTION** is how you tell the computer what part of a code to execute, depending if an event is true or false.\n"
   ]
  },
  {
   "cell_type": "code",
   "execution_count": null,
   "metadata": {},
   "outputs": [],
   "source": [
    "###### INPUT\n",
    "value=-100\n",
    "\n",
    "###### CONDITIONAL EXECUTION\n",
    "\n",
    "if (value >= 0){ \n",
    "  # what to do if condition is TRUE\n",
    "  rootValue=sqrt(value)\n",
    "  print (rootValue)\n",
    "} else {  \n",
    "  # what to do if condition is FALSE\n",
    "  print('Sorry, I do not compute square roots of negative numbers')\n",
    "}"
   ]
  },
  {
   "cell_type": "markdown",
   "metadata": {},
   "source": [
    "Notice the use of **parenthesis** in the condition. Also, the use of **{}**  to enclose the commands. You do not need those curly braces if you have just _one_ command after the condition. If you omitted the whole **else{}** section, the program will still run, but the program will not get a message when the input is invalid.\n",
    "\n",
    "\n",
    "**REPETITIVE EXECUTION** is how you tell the computer to do something many times (and stop when it has to):\n"
   ]
  },
  {
   "cell_type": "code",
   "execution_count": null,
   "metadata": {},
   "outputs": [],
   "source": [
    "values=c(9,25,100)\n",
    "\n",
    "for (value in values){ # do this for each value in values\n",
    "  print(sqrt(value))\n",
    "}\n"
   ]
  },
  {
   "cell_type": "markdown",
   "metadata": {},
   "source": [
    "You do not need to show each result, you could save the results."
   ]
  },
  {
   "cell_type": "code",
   "execution_count": null,
   "metadata": {},
   "outputs": [],
   "source": [
    "values=c(9,25,100,500)\n",
    "rootValues=c() # empty vector\n",
    "for (value in values){\n",
    "  rootValues=c(rootValues,sqrt(value)) # updating vector\n",
    "}\n"
   ]
  },
  {
   "cell_type": "markdown",
   "metadata": {},
   "source": [
    "Then, you see what you saved:"
   ]
  },
  {
   "cell_type": "code",
   "execution_count": null,
   "metadata": {},
   "outputs": [],
   "source": [
    "# to see the results:\n",
    "rootValues\n"
   ]
  },
  {
   "cell_type": "markdown",
   "metadata": {},
   "source": [
    "It is evident that combining *loops* and *control of execution*, we can make better programs. For example, this code is not controlling well the process:\n"
   ]
  },
  {
   "cell_type": "code",
   "execution_count": null,
   "metadata": {},
   "outputs": [],
   "source": [
    "values=c(9,25,-100)\n",
    "rootValues=c()\n",
    "for (value in values){\n",
    "  rootValues=c(rootValues,sqrt(value))\n",
    "}\n"
   ]
  },
  {
   "cell_type": "markdown",
   "metadata": {},
   "source": [
    "Then,"
   ]
  },
  {
   "cell_type": "code",
   "execution_count": null,
   "metadata": {},
   "outputs": [],
   "source": [
    "# to see the results:\n",
    "rootValues\n"
   ]
  },
  {
   "cell_type": "markdown",
   "metadata": {},
   "source": [
    "In the last result, R decided what to do when a negative value was input (it also sent a warning). This one does a better job:\n"
   ]
  },
  {
   "cell_type": "code",
   "execution_count": null,
   "metadata": {},
   "outputs": [],
   "source": [
    "values=c(9,25,-100,144,-72)\n",
    "rootValuesNew=c()\n",
    "\n",
    "for (value in values){\n",
    "  if (value >=0){\n",
    "    rootValuesNew=c(rootValuesNew,sqrt(value))\n",
    "  }else {\n",
    "    print('We added a missing value, negative input detected')\n",
    "    rootValuesNew=c(rootValuesNew,NA)\n",
    "  }\n",
    "}"
   ]
  },
  {
   "cell_type": "markdown",
   "metadata": {},
   "source": [
    "Then,"
   ]
  },
  {
   "cell_type": "code",
   "execution_count": null,
   "metadata": {},
   "outputs": [],
   "source": [
    "# to see the results:\n",
    "rootValues\n"
   ]
  },
  {
   "cell_type": "markdown",
   "metadata": {},
   "source": [
    "We are producing an ouput with the same size as input. If we omit the **else** structure, we will produce an output with smaller size than the input. \n",
    "\n",
    "\n",
    "You can also use **break** when you consider the execution should stop:\n"
   ]
  },
  {
   "cell_type": "code",
   "execution_count": null,
   "metadata": {},
   "outputs": [],
   "source": [
    "values=c(9,25,-100,144,-72)\n",
    "rootValues=c()\n",
    "for (value in values){\n",
    "  if (value <0){\n",
    "    print('We need to stop, invalid value detected')\n",
    "    break\n",
    "  }\n",
    "  rootValues=c(rootValues,sqrt(value))\n",
    "}"
   ]
  },
  {
   "cell_type": "markdown",
   "metadata": {},
   "source": [
    "The code above halted the program, but some results were saved:"
   ]
  },
  {
   "cell_type": "code",
   "execution_count": null,
   "metadata": {},
   "outputs": [],
   "source": [
    "rootValues"
   ]
  },
  {
   "cell_type": "markdown",
   "metadata": {},
   "source": [
    "You can use **next** when you consider the execution should continue:\n"
   ]
  },
  {
   "cell_type": "code",
   "execution_count": null,
   "metadata": {},
   "outputs": [],
   "source": [
    "values=list(9,NA,'1000',-100,144,-72)\n",
    "\n",
    "\n",
    "for (value in values){\n",
    "  if (is.na(value)){\n",
    "    print('missing value as input')\n",
    "    next\n",
    "  }\n",
    "  \n",
    "  if (value <0){\n",
    "    print('negative value as input')\n",
    "    next\n",
    "  }\n",
    "  \n",
    "  if (is.character(value)){\n",
    "    print('char as input')\n",
    "    next\n",
    "  }\n",
    "  rootVal=sqrt(value)\n",
    "  print(paste(rootVal,'is the root of ',value))\n",
    "}"
   ]
  },
  {
   "cell_type": "markdown",
   "metadata": {},
   "source": [
    "[Go to page beginning](#beginning)\n",
    "\n",
    "____\n",
    "<a id='part3'></a>\n",
    "\n",
    "\n",
    "## Functions\n",
    "\n",
    "We build functions to make the code more readable. Functions plus the data structures and control of execution capabilities you saw before will give you the basic tools you need to develop your own programs. \n",
    "\n",
    "A function is a three-step process: Input, Transformation, Output. For example, if you need to convert a numeric value from Fahrenheit into Celsius , the input is the value in Fahrenheit, the transformation is the formula, and the output the result of the formula (a value in Celsius).\n"
   ]
  },
  {
   "cell_type": "code",
   "execution_count": null,
   "metadata": {},
   "outputs": [],
   "source": [
    "converterToCelsius=function(valueInFarenheit){ #input\n",
    "  #transformation\n",
    "  resultInCelsius= (valueInFarenheit-32)*5/9\n",
    "  #output\n",
    "  return (resultInCelsius)}\n"
   ]
  },
  {
   "cell_type": "markdown",
   "metadata": {},
   "source": [
    "\n",
    "* A function has a name (for example: _converterToCelsius_) to the left of the **=**; \n",
    "* then _a definition of the input of the function_ using the reserved word **function**; \n",
    "* the _transformation process_ between **{}**; \n",
    "* the process  _output_ (for example: _resultInCelsius_), which requires the keyword **return** and **()**. \n",
    "\n",
    "You can omit the _return_ command and a function still works; in that case, R will output the last line that was **executed**; I avoid doing that as it impoverishes reading the code. \n",
    "\n",
    "Above, we created a function, and after you run it,  R has a new function available:\n",
    "\n"
   ]
  },
  {
   "cell_type": "code",
   "execution_count": null,
   "metadata": {},
   "outputs": [],
   "source": [
    "converterToCelsius(100)"
   ]
  },
  {
   "cell_type": "markdown",
   "metadata": {},
   "source": [
    "### The function input\n",
    "\n",
    "We control the amount of input in a function:\n"
   ]
  },
  {
   "cell_type": "code",
   "execution_count": null,
   "metadata": {},
   "outputs": [],
   "source": [
    "# this function requires TWO inputs:\n",
    "XsumY=function(valueX,valueY){\n",
    "  ###\n",
    "  resultSum=valueX+valueY\n",
    "  ###\n",
    "  return (resultSum)\n",
    "}\n"
   ]
  },
  {
   "cell_type": "markdown",
   "metadata": {},
   "source": [
    "The code above receives two values and outputs their sum. You can see how it works this way:"
   ]
  },
  {
   "cell_type": "code",
   "execution_count": null,
   "metadata": {},
   "outputs": [],
   "source": [
    "XsumY(3,10)"
   ]
  },
  {
   "cell_type": "markdown",
   "metadata": {},
   "source": [
    "You can have some inputs with _default_ values:"
   ]
  },
  {
   "cell_type": "code",
   "execution_count": null,
   "metadata": {},
   "outputs": [],
   "source": [
    "riseToPower=function(base,exponent=2){\n",
    "  #####\n",
    "  result=1\n",
    "  if (exponent > 0){\n",
    "    for (time in 1:exponent){\n",
    "      result=result*base\n",
    "    }\n",
    "  }\n",
    "  #####\n",
    "  return(result)\n",
    "}"
   ]
  },
  {
   "cell_type": "markdown",
   "metadata": {},
   "source": [
    "Since you have a default value in the input arguments, you decide if you give that input or not. Let's see how it works:"
   ]
  },
  {
   "cell_type": "code",
   "execution_count": null,
   "metadata": {},
   "outputs": [],
   "source": [
    "# to the power 2 by default\n",
    "riseToPower(9) \n"
   ]
  },
  {
   "cell_type": "code",
   "execution_count": null,
   "metadata": {},
   "outputs": [],
   "source": [
    "# to the power 3\n",
    "riseToPower(9,3) \n"
   ]
  },
  {
   "cell_type": "code",
   "execution_count": null,
   "metadata": {},
   "outputs": [],
   "source": [
    "# using argument names does not require order:\n",
    "riseToPower(exponent=0,base=9)\n"
   ]
  },
  {
   "cell_type": "markdown",
   "metadata": {},
   "source": [
    "### The function output\n",
    "\n",
    "\n",
    "Our output has been a single value, but it can be several ones; however, you need the right structure.\n"
   ]
  },
  {
   "cell_type": "code",
   "execution_count": null,
   "metadata": {},
   "outputs": [],
   "source": [
    "# one input, and several output in simple data structure:\n",
    "factors=function(number){\n",
    "    # empty vector that will collect output\n",
    "    vectorOfAnswers=c()\n",
    "    \n",
    "    # for every value in the sequence...\n",
    "    for (i in 1:number){\n",
    "        \n",
    "        #if the remainder of 'number'/'i' equals zero...\n",
    "        if ((number %% i) == 0){ \n",
    "            \n",
    "            # ...add 'i' to the vector of factors!\n",
    "            vectorOfAnswers=c(vectorOfAnswers,i)\n",
    "    }\n",
    "  }\n",
    "  return (vectorOfAnswers) # returning  the vector\n",
    "}"
   ]
  },
  {
   "cell_type": "markdown",
   "metadata": {},
   "source": [
    "Testing:"
   ]
  },
  {
   "cell_type": "code",
   "execution_count": null,
   "metadata": {},
   "outputs": [],
   "source": [
    "factors(20) "
   ]
  },
  {
   "cell_type": "markdown",
   "metadata": {},
   "source": [
    "### Applying functions to data structures\n",
    "\n",
    "Imaging you have created a function that takes a value and multiplies it by two, like this:\n"
   ]
  },
  {
   "cell_type": "code",
   "execution_count": null,
   "metadata": {},
   "outputs": [],
   "source": [
    "double=function(x){\n",
    "    return (2*x)\n",
    "    }\n"
   ]
  },
  {
   "cell_type": "markdown",
   "metadata": {},
   "source": [
    "and you have this vector:"
   ]
  },
  {
   "cell_type": "code",
   "execution_count": null,
   "metadata": {},
   "outputs": [],
   "source": [
    "myVector=c(1,2,3)"
   ]
  },
  {
   "cell_type": "markdown",
   "metadata": {},
   "source": [
    "What will you get here?"
   ]
  },
  {
   "cell_type": "code",
   "execution_count": null,
   "metadata": {},
   "outputs": [],
   "source": [
    "double(myVector)"
   ]
  },
  {
   "cell_type": "markdown",
   "metadata": {},
   "source": [
    "If you use a vector as an input in a function in R, R will apply the function to each element. \n",
    "\n",
    "If you use a list of numbers as input:\n"
   ]
  },
  {
   "cell_type": "code",
   "execution_count": null,
   "metadata": {},
   "outputs": [],
   "source": [
    "myList=list(1,2,3)"
   ]
  },
  {
   "cell_type": "markdown",
   "metadata": {},
   "source": [
    "You get:"
   ]
  },
  {
   "cell_type": "code",
   "execution_count": null,
   "metadata": {},
   "outputs": [],
   "source": [
    "double(myList)"
   ]
  },
  {
   "cell_type": "markdown",
   "metadata": {},
   "source": [
    "...you get an error. In this case, you can use **Map** or **mapply**:"
   ]
  },
  {
   "cell_type": "code",
   "execution_count": null,
   "metadata": {},
   "outputs": [],
   "source": [
    "# Map returns a list, and the input can be a vector or a list\n",
    "Map(double,myList)\n"
   ]
  },
  {
   "cell_type": "markdown",
   "metadata": {},
   "source": [
    "You can also use **mapply**:"
   ]
  },
  {
   "cell_type": "code",
   "execution_count": null,
   "metadata": {},
   "outputs": [],
   "source": [
    "# mapply returns a vector, and the input can be a vector or a list\n",
    "mapply(double,myList)"
   ]
  },
  {
   "cell_type": "markdown",
   "metadata": {},
   "source": [
    "Notice that the outputs are returned in different data structures.\n",
    "\n",
    "As we use data frames most of the time, pay attention on how you use a function and what you get as result:\n",
    "\n"
   ]
  },
  {
   "cell_type": "code",
   "execution_count": null,
   "metadata": {},
   "outputs": [],
   "source": [
    "numberA=c(10,20,30,40,50)\n",
    "numberB=c(6,7,8,9,10)\n",
    "dataDF=data.frame(numberA,numberB)\n",
    "dataDF\n"
   ]
  },
  {
   "cell_type": "markdown",
   "metadata": {},
   "source": [
    "Let's _double_ each value applying the function _directly_ to the data frame:\n"
   ]
  },
  {
   "cell_type": "code",
   "execution_count": null,
   "metadata": {},
   "outputs": [],
   "source": [
    "double(dataDF)"
   ]
  },
  {
   "cell_type": "markdown",
   "metadata": {},
   "source": [
    "As you saw above, the function _double_ was designed to receive as input a simple value (a number). Then, without effort from your side, R itself decided to apply it to each element in the data frame. \n",
    "\n",
    "Try now simple function as **as.character()** :\n"
   ]
  },
  {
   "cell_type": "code",
   "execution_count": null,
   "metadata": {},
   "outputs": [],
   "source": [
    "as.character(dataDF)"
   ]
  },
  {
   "cell_type": "markdown",
   "metadata": {},
   "source": [
    "I am pretty sure, this is not what you wanted.\n",
    "\n",
    "You know that it works in one column (but not in a data frame):\n"
   ]
  },
  {
   "cell_type": "code",
   "execution_count": null,
   "metadata": {},
   "outputs": [],
   "source": [
    "as.character(dataDF$numberA)"
   ]
  },
  {
   "cell_type": "markdown",
   "metadata": {},
   "source": [
    "We can use *Map()*:"
   ]
  },
  {
   "cell_type": "code",
   "execution_count": null,
   "metadata": {},
   "outputs": [],
   "source": [
    "Map(as.character,dataDF)"
   ]
  },
  {
   "cell_type": "markdown",
   "metadata": {},
   "source": [
    "Or the very common **lapply()**:"
   ]
  },
  {
   "cell_type": "code",
   "execution_count": null,
   "metadata": {},
   "outputs": [],
   "source": [
    "lapply(dataDF,as.character)"
   ]
  },
  {
   "cell_type": "markdown",
   "metadata": {},
   "source": [
    "In both cases, the function worked with a data frame as an input; but the output was a list. If you want a data frame as output:\n"
   ]
  },
  {
   "cell_type": "code",
   "execution_count": null,
   "metadata": {},
   "outputs": [],
   "source": [
    "# selecting columns:\n",
    "dataDF[,c(1,2)]=lapply(dataDF[,c(1,2)],as.character)\n",
    "\n",
    "dataDF\n"
   ]
  },
  {
   "cell_type": "markdown",
   "metadata": {},
   "source": [
    "Then, to get the data frame using **lapply**, you need to specify the columns.\n",
    "\n",
    "Let me turn the values back to numbers:\n"
   ]
  },
  {
   "cell_type": "code",
   "execution_count": null,
   "metadata": {},
   "outputs": [],
   "source": [
    "dataDF[,c(1,2)]=lapply(dataDF[,c(1,2)],as.numeric)"
   ]
  },
  {
   "cell_type": "markdown",
   "metadata": {},
   "source": [
    "There are functions that could be applied to columns or rows and get a total from them. Keep in mind that **lapply** applies a function to columns."
   ]
  },
  {
   "cell_type": "code",
   "execution_count": null,
   "metadata": {},
   "outputs": [],
   "source": [
    "# you are adding the column values here:\n",
    "as.data.frame(lapply(dataDF,sum))"
   ]
  },
  {
   "cell_type": "markdown",
   "metadata": {},
   "source": [
    "If you need to apply a function by row or by column, the right option is **apply**:"
   ]
  },
  {
   "cell_type": "code",
   "execution_count": null,
   "metadata": {},
   "outputs": [],
   "source": [
    "# you are adding by row:\n",
    "apply(dataDF,1,sum) # 1 to apply by row (2 for column)."
   ]
  },
  {
   "cell_type": "markdown",
   "metadata": {},
   "source": [
    "Let me use the data frame _people_ to show **tapply**\n"
   ]
  },
  {
   "cell_type": "code",
   "execution_count": null,
   "metadata": {},
   "outputs": [],
   "source": [
    "tapply(X=people$ages,INDEX=list(people$education),FUN=mean)"
   ]
  },
  {
   "cell_type": "markdown",
   "metadata": {},
   "source": [
    "This function applies a function to X, organised by the variables in INDEX. Then:"
   ]
  },
  {
   "cell_type": "code",
   "execution_count": null,
   "metadata": {},
   "outputs": [],
   "source": [
    "tapply(X=people$ages,\n",
    "       INDEX=list(people$education,people$state),\n",
    "       FUN=mean)"
   ]
  },
  {
   "cell_type": "markdown",
   "metadata": {},
   "source": [
    "The results are not data frames. You can get them using:"
   ]
  },
  {
   "cell_type": "code",
   "execution_count": null,
   "metadata": {},
   "outputs": [],
   "source": [
    "people  %>%  \n",
    "    group_by( education, state )  %>%  \n",
    "    summarize(mean(ages))  # summarize('means'=mean(ages))\n"
   ]
  },
  {
   "cell_type": "markdown",
   "metadata": {},
   "source": [
    "### Manipulating the data frame structure\n",
    "\n",
    "I have two spreadsheets. One has information on the democracy index:\n",
    "\n",
    "![](democracy.png)\n",
    "\n",
    "The other one about the Human Development Index:\n",
    "\n",
    "![](hdi.png)\n",
    "\n",
    "\n",
    "The first spreadsheet has three tables, _Full_, _notFull_ and _scoresALL_; while the second has only one.\n",
    "\n",
    "**APPENDING** is when you combine blocks of data that have a similar structure. \n",
    "\n",
    "From the first spreadsheet, we can append the first two tables horizontally:\n",
    "\n"
   ]
  },
  {
   "cell_type": "code",
   "execution_count": null,
   "metadata": {},
   "outputs": [],
   "source": [
    "# read data\n",
    "\n",
    "full=import(\"Democracy.xlsx\",which = \"Full\")\n",
    "notfull=import(\"Democracy.xlsx\",which=\"notFull\")\n"
   ]
  },
  {
   "cell_type": "markdown",
   "metadata": {},
   "source": [
    "Then,"
   ]
  },
  {
   "cell_type": "code",
   "execution_count": null,
   "metadata": {},
   "outputs": [],
   "source": [
    "all=rbind(full,notfull)\n",
    "str(all)\n"
   ]
  },
  {
   "cell_type": "markdown",
   "metadata": {},
   "source": [
    "We can add the last column, by doing a vertical appending:"
   ]
  },
  {
   "cell_type": "code",
   "execution_count": null,
   "metadata": {},
   "outputs": [],
   "source": [
    "# read in\n",
    "scores=import(\"Democracy.xlsx\",which=\"scoresALL\")"
   ]
  },
  {
   "cell_type": "markdown",
   "metadata": {},
   "source": [
    "First let's see the first rows:"
   ]
  },
  {
   "cell_type": "code",
   "execution_count": null,
   "metadata": {},
   "outputs": [],
   "source": [
    "head(scores)"
   ]
  },
  {
   "cell_type": "code",
   "execution_count": null,
   "metadata": {},
   "outputs": [],
   "source": [
    "head(all)"
   ]
  },
  {
   "cell_type": "markdown",
   "metadata": {},
   "source": [
    "We can not append vertically if the size or order are different. In this case, the order is.\n",
    "\n",
    "Then,"
   ]
  },
  {
   "cell_type": "code",
   "execution_count": null,
   "metadata": {},
   "outputs": [],
   "source": [
    "all=arrange(all, country) \n",
    "scores=arrange(scores, country) \n"
   ]
  },
  {
   "cell_type": "markdown",
   "metadata": {},
   "source": [
    "This has sorted BOTH data frames by the column country.\n",
    "\n",
    "Now you can do:\n"
   ]
  },
  {
   "cell_type": "code",
   "execution_count": null,
   "metadata": {},
   "outputs": [],
   "source": [
    "demo=cbind(all,scores)"
   ]
  },
  {
   "cell_type": "markdown",
   "metadata": {},
   "source": [
    "However..."
   ]
  },
  {
   "cell_type": "code",
   "execution_count": null,
   "metadata": {},
   "outputs": [],
   "source": [
    "head(demo,10)"
   ]
  },
  {
   "cell_type": "markdown",
   "metadata": {},
   "source": [
    "This appending produced a repeated column. Then,"
   ]
  },
  {
   "cell_type": "code",
   "execution_count": null,
   "metadata": {},
   "outputs": [],
   "source": [
    "demo=demo[,-c(3)] # without the third."
   ]
  },
  {
   "cell_type": "markdown",
   "metadata": {},
   "source": [
    "Now let me get the other data frame:"
   ]
  },
  {
   "cell_type": "code",
   "execution_count": null,
   "metadata": {},
   "outputs": [],
   "source": [
    "hdi=import(\"hdi.xlsx\")\n",
    "str(hdi)\n"
   ]
  },
  {
   "cell_type": "markdown",
   "metadata": {},
   "source": [
    "**MERGING** has the goal of integrating two data frames that have a common column, the _key_. Merging will not produced a repeated column, as _cbind_ did. \n",
    "\n",
    "Let's do it:\n"
   ]
  },
  {
   "cell_type": "code",
   "execution_count": null,
   "metadata": {},
   "outputs": [],
   "source": [
    "demo_hdi=merge(demo,hdi,by.x = 'country', by.y = 'COUNTRY')\n",
    "head(demo_hdi)\n"
   ]
  },
  {
   "cell_type": "markdown",
   "metadata": {},
   "source": [
    "Notice some details:\n",
    "\n",
    "1. One of the _key_ columns dissappeared, as it becomes redundant.\n",
    "\n",
    "2. You do not use _cbind_ this time, because data comes from different sources, and that you are not sure the _key_ columns are the same.\n",
    "\n",
    "3. The democray data had 167 rows, and the hdi 190. But the merge produces 161 rows. Those are the countries from demo that found a country with hdi in the second data frame.\n",
    "\n",
    "From the last point, let's try to keep all countries from both files:\n"
   ]
  },
  {
   "cell_type": "code",
   "execution_count": null,
   "metadata": {},
   "outputs": [],
   "source": [
    "ALLALL=merge(demo,hdi,by.x = 'country', by.y = 'COUNTRY',\n",
    "             all.x = T, all.y = T)\n"
   ]
  },
  {
   "cell_type": "markdown",
   "metadata": {},
   "source": [
    "This one has 196 countries. This means that there are countries in one data set that are not present in the other. These are the countries that are not present in the DEMOCRACY data frame:\n"
   ]
  },
  {
   "cell_type": "code",
   "execution_count": null,
   "metadata": {},
   "outputs": [],
   "source": [
    "ALLALL[!complete.cases(ALLALL$hdi),\"country\"]"
   ]
  },
  {
   "cell_type": "markdown",
   "metadata": {},
   "source": [
    "These are the countries that are not present in the HDI data frame:"
   ]
  },
  {
   "cell_type": "code",
   "execution_count": null,
   "metadata": {},
   "outputs": [],
   "source": [
    "ALLALL[!complete.cases(ALLALL$demScore),\"country\"]"
   ]
  },
  {
   "cell_type": "markdown",
   "metadata": {},
   "source": [
    "In both cases, you see that there are countries or territories that are not common. But also you see that the CONGO countries are present in both countries, but are written differently.\n",
    "\n",
    "**RESHAPING** is the process of turning the data frame from wide format to long format, and viceversa. So far we have used only wide format. \n"
   ]
  },
  {
   "cell_type": "code",
   "execution_count": null,
   "metadata": {},
   "outputs": [],
   "source": [
    "head(people)"
   ]
  },
  {
   "cell_type": "markdown",
   "metadata": {},
   "source": [
    "The long format for this data frame is:"
   ]
  },
  {
   "cell_type": "code",
   "execution_count": null,
   "metadata": {},
   "outputs": [],
   "source": [
    "library(reshape2)\n",
    "people_L1=melt(people)\n",
    "people_L1\n"
   ]
  },
  {
   "cell_type": "markdown",
   "metadata": {},
   "source": [
    "The melt function assumed that the only variables were _ages_ and _agesGroup_, as this were the only numeric ones. Then the column _value_ is filled with numeric values, and the column named _variable_ holds the names of the melted variables. The rest were considered *id*entifiers:\n",
    "\n",
    "\n",
    "\n",
    "This is how you separate the variables from the identifiers:\n"
   ]
  },
  {
   "cell_type": "code",
   "execution_count": null,
   "metadata": {},
   "outputs": [],
   "source": [
    "people_L2=melt(people, id=c('cod','state'))\n",
    "people_L2\n"
   ]
  },
  {
   "cell_type": "markdown",
   "metadata": {},
   "source": [
    "Notice that the last column has been formatted as character.\n",
    "\n",
    "Once you have created a long format, you can turn it back into a wide format with **dcast()**:\n"
   ]
  },
  {
   "cell_type": "code",
   "execution_count": null,
   "metadata": {},
   "outputs": [],
   "source": [
    "dcast(people_L1,cod + state + education~ variable)"
   ]
  },
  {
   "cell_type": "markdown",
   "metadata": {},
   "source": [
    "Notice this is the original data frame.\n",
    "\n",
    "Now, for the second case:\n"
   ]
  },
  {
   "cell_type": "code",
   "execution_count": null,
   "metadata": {},
   "outputs": [],
   "source": [
    "people_L2=melt(people, id=c('cod','state'))\n",
    "dcast(people_L2,cod + state ~ variable)\n"
   ]
  },
  {
   "cell_type": "markdown",
   "metadata": {},
   "source": [
    "Notice this look like the original data frame, but the data types are not the original ones."
   ]
  }
 ],
 "metadata": {
  "hide_input": false,
  "kernelspec": {
   "display_name": "R",
   "language": "R",
   "name": "ir"
  },
  "language_info": {
   "codemirror_mode": "r",
   "file_extension": ".r",
   "mimetype": "text/x-r-source",
   "name": "R",
   "pygments_lexer": "r",
   "version": "3.5.1"
  }
 },
 "nbformat": 4,
 "nbformat_minor": 2
}
