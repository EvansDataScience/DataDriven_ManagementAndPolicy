{
 "cells": [
  {
   "cell_type": "markdown",
   "metadata": {},
   "source": [
    "<br> \n",
    "<center><img src=\"http://i.imgur.com/sSaOozN.png\" width=\"500\"></center>\n",
    "\n",
    "\n",
    "## Course: Data-Driven Management and Policy\n",
    "\n",
    "### Prof. José Manuel Magallanes, PhD \n",
    "\n",
    "_____\n",
    "\n",
    "# Session 3: Data Structures\n"
   ]
  },
  {
   "cell_type": "markdown",
   "metadata": {},
   "source": [
    "\n",
    "\n",
    "\n",
    "<a id='beginning'></a>\n",
    "\n",
    "Programming languages use _data structures_ to tell the computer how to organize the data we are working with. That is, data structures provided by a programming language are not the same in another one. However, in most cases, a name given to a data structure in one programming language should generally be the same in other one. It is worth keeping in mind, that a particular data structure may serve for one purpose, but not for other ones.  \n",
    "\n",
    "In everyday life, a book can be considered a data structure: we use it to store some kind of information. It has some advantages: it has a table of contents; it has numbers on the pages; you can take it with you; read it as long as you can see the words; and read it again as many times as you want. It has some disadvantages: you can lose it, and need to buy it again; it can deteriorate; get eaten by an insect; and so on. \n",
    "\n",
    "We are going to talk about 3 data structures in R:\n",
    "\n",
    "1. [Lists.](#part1) \n",
    "2. [Vectors.](#part2) \n",
    "3. [Data Frame.](#part3) \n",
    "\n",
    "**Lists** and **vectors** are simple structures; a **data frame** is a more complex one (built from the simple ones). \n",
    "\n",
    "----\n",
    "\n",
    "<a id='part1'></a>\n",
    "\n",
    "## List\n",
    "\n",
    "Lists are containers of values. The values can be of any kind (numbers or non-numbers), and even other containers (simple or complex). If we have an spreadsheet as a reference, a row is a 'natural' list.\n"
   ]
  },
  {
   "cell_type": "code",
   "execution_count": 87,
   "metadata": {},
   "outputs": [],
   "source": [
    "DetailStudent=list(\"Fred Meyers\",\n",
    "                   40,\n",
    "                   FALSE)"
   ]
  },
  {
   "cell_type": "markdown",
   "metadata": {},
   "source": [
    "The *object* 'DetailStudent' serves to store _temporarily_ the list in the computer. To name a list, use combinations of letters and numbers (do not start with a number or a special character) in a meaningful way.\n",
    "\n",
    "Typing the name of the object 'DetailStudent', now representing a list, will give you all the contents you saved in there:\n"
   ]
  },
  {
   "cell_type": "code",
   "execution_count": 88,
   "metadata": {},
   "outputs": [
    {
     "data": {
      "text/html": [
       "<ol>\n",
       "\t<li>'Fred Meyers'</li>\n",
       "\t<li>40</li>\n",
       "\t<li>FALSE</li>\n",
       "</ol>\n"
      ],
      "text/latex": [
       "\\begin{enumerate}\n",
       "\\item 'Fred Meyers'\n",
       "\\item 40\n",
       "\\item FALSE\n",
       "\\end{enumerate}\n"
      ],
      "text/markdown": [
       "1. 'Fred Meyers'\n",
       "2. 40\n",
       "3. FALSE\n",
       "\n",
       "\n"
      ],
      "text/plain": [
       "[[1]]\n",
       "[1] \"Fred Meyers\"\n",
       "\n",
       "[[2]]\n",
       "[1] 40\n",
       "\n",
       "[[3]]\n",
       "[1] FALSE\n"
      ]
     },
     "metadata": {},
     "output_type": "display_data"
    }
   ],
   "source": [
    "DetailStudent"
   ]
  },
  {
   "cell_type": "markdown",
   "metadata": {},
   "source": [
    "The list above has three elements. However, you may be wondering if those elements have in a meaning altogether. In those situations, it is better to have names for each elements.\n"
   ]
  },
  {
   "cell_type": "code",
   "execution_count": 89,
   "metadata": {},
   "outputs": [],
   "source": [
    "DetailStudent=list(fullName=\"Fred Meyers\",\n",
    "                   age=40,\n",
    "                   female=FALSE)"
   ]
  },
  {
   "cell_type": "code",
   "execution_count": 90,
   "metadata": {},
   "outputs": [
    {
     "data": {
      "text/html": [
       "<dl>\n",
       "\t<dt>$fullName</dt>\n",
       "\t\t<dd>'Fred Meyers'</dd>\n",
       "\t<dt>$age</dt>\n",
       "\t\t<dd>40</dd>\n",
       "\t<dt>$female</dt>\n",
       "\t\t<dd>FALSE</dd>\n",
       "</dl>\n"
      ],
      "text/latex": [
       "\\begin{description}\n",
       "\\item[\\$fullName] 'Fred Meyers'\n",
       "\\item[\\$age] 40\n",
       "\\item[\\$female] FALSE\n",
       "\\end{description}\n"
      ],
      "text/markdown": [
       "$fullName\n",
       ":   'Fred Meyers'\n",
       "$age\n",
       ":   40\n",
       "$female\n",
       ":   FALSE\n",
       "\n",
       "\n"
      ],
      "text/plain": [
       "$fullName\n",
       "[1] \"Fred Meyers\"\n",
       "\n",
       "$age\n",
       "[1] 40\n",
       "\n",
       "$female\n",
       "[1] FALSE\n"
      ]
     },
     "metadata": {},
     "output_type": "display_data"
    }
   ],
   "source": [
    "# seeing the result\n",
    "DetailStudent"
   ]
  },
  {
   "cell_type": "markdown",
   "metadata": {},
   "source": [
    "This list has three elements, which we can also call _fields_. Each of these, in this case, holds a different data type:\n",
    "\n",
    "* *FullName* holds characters\n",
    "* *age* holds a number\n",
    "* *female* holds a logical (Boolean) value."
   ]
  },
  {
   "cell_type": "markdown",
   "metadata": {},
   "source": [
    "You can access any of those elements using these approaches:"
   ]
  },
  {
   "cell_type": "code",
   "execution_count": 91,
   "metadata": {},
   "outputs": [
    {
     "data": {
      "text/html": [
       "'Fred Meyers'"
      ],
      "text/latex": [
       "'Fred Meyers'"
      ],
      "text/markdown": [
       "'Fred Meyers'"
      ],
      "text/plain": [
       "[1] \"Fred Meyers\""
      ]
     },
     "metadata": {},
     "output_type": "display_data"
    }
   ],
   "source": [
    "# position\n",
    "DetailStudent[[1]]"
   ]
  },
  {
   "cell_type": "code",
   "execution_count": 94,
   "metadata": {},
   "outputs": [
    {
     "data": {
      "text/html": [
       "'Fred Meyers'"
      ],
      "text/latex": [
       "'Fred Meyers'"
      ],
      "text/markdown": [
       "'Fred Meyers'"
      ],
      "text/plain": [
       "[1] \"Fred Meyers\""
      ]
     },
     "metadata": {},
     "output_type": "display_data"
    }
   ],
   "source": [
    "# name of the field\n",
    "DetailStudent[['fullName']]"
   ]
  },
  {
   "cell_type": "code",
   "execution_count": 93,
   "metadata": {},
   "outputs": [
    {
     "data": {
      "text/html": [
       "'Fred Meyers'"
      ],
      "text/latex": [
       "'Fred Meyers'"
      ],
      "text/markdown": [
       "'Fred Meyers'"
      ],
      "text/plain": [
       "[1] \"Fred Meyers\""
      ]
     },
     "metadata": {},
     "output_type": "display_data"
    }
   ],
   "source": [
    "# name of the field\n",
    "DetailStudent$fullName"
   ]
  },
  {
   "cell_type": "markdown",
   "metadata": {},
   "source": [
    "If you do not have _names_ for the list fields, you can only access them using positions:"
   ]
  },
  {
   "cell_type": "code",
   "execution_count": 12,
   "metadata": {},
   "outputs": [
    {
     "data": {
      "text/html": [
       "'a'"
      ],
      "text/latex": [
       "'a'"
      ],
      "text/markdown": [
       "'a'"
      ],
      "text/plain": [
       "[1] \"a\""
      ]
     },
     "metadata": {},
     "output_type": "display_data"
    }
   ],
   "source": [
    "NewList=list('a','b','c','d',1,2,3)\n",
    "NewList[[1]]"
   ]
  },
  {
   "cell_type": "markdown",
   "metadata": {},
   "source": [
    "Once you access an element, you can alter it:"
   ]
  },
  {
   "cell_type": "code",
   "execution_count": 18,
   "metadata": {},
   "outputs": [
    {
     "data": {
      "text/html": [
       "<dl>\n",
       "\t<dt>$fullName</dt>\n",
       "\t\t<dd>'Alfred Mayer'</dd>\n",
       "\t<dt>$age</dt>\n",
       "\t\t<dd>40</dd>\n",
       "\t<dt>$female</dt>\n",
       "\t\t<dd>FALSE</dd>\n",
       "</dl>\n"
      ],
      "text/latex": [
       "\\begin{description}\n",
       "\\item[\\$fullName] 'Alfred Mayer'\n",
       "\\item[\\$age] 40\n",
       "\\item[\\$female] FALSE\n",
       "\\end{description}\n"
      ],
      "text/markdown": [
       "$fullName\n",
       ":   'Alfred Mayer'\n",
       "$age\n",
       ":   40\n",
       "$female\n",
       ":   FALSE\n",
       "\n",
       "\n"
      ],
      "text/plain": [
       "$fullName\n",
       "[1] \"Alfred Mayer\"\n",
       "\n",
       "$age\n",
       "[1] 40\n",
       "\n",
       "$female\n",
       "[1] FALSE\n"
      ]
     },
     "metadata": {},
     "output_type": "display_data"
    }
   ],
   "source": [
    "DetailStudent[[1]]='Alfred Mayer'\n",
    "# Then:\n",
    "DetailStudent"
   ]
  },
  {
   "cell_type": "markdown",
   "metadata": {},
   "source": [
    "You can even add an totally NEW field like this:"
   ]
  },
  {
   "cell_type": "code",
   "execution_count": 20,
   "metadata": {},
   "outputs": [
    {
     "data": {
      "text/html": [
       "<dl>\n",
       "\t<dt>$fullName</dt>\n",
       "\t\t<dd>'Alfred Mayer'</dd>\n",
       "\t<dt>$age</dt>\n",
       "\t\t<dd>40</dd>\n",
       "\t<dt>$female</dt>\n",
       "\t\t<dd>FALSE</dd>\n",
       "\t<dt>$city</dt>\n",
       "\t\t<dd>'Seattle'</dd>\n",
       "</dl>\n"
      ],
      "text/latex": [
       "\\begin{description}\n",
       "\\item[\\$fullName] 'Alfred Mayer'\n",
       "\\item[\\$age] 40\n",
       "\\item[\\$female] FALSE\n",
       "\\item[\\$city] 'Seattle'\n",
       "\\end{description}\n"
      ],
      "text/markdown": [
       "$fullName\n",
       ":   'Alfred Mayer'\n",
       "$age\n",
       ":   40\n",
       "$female\n",
       ":   FALSE\n",
       "$city\n",
       ":   'Seattle'\n",
       "\n",
       "\n"
      ],
      "text/plain": [
       "$fullName\n",
       "[1] \"Alfred Mayer\"\n",
       "\n",
       "$age\n",
       "[1] 40\n",
       "\n",
       "$female\n",
       "[1] FALSE\n",
       "\n",
       "$city\n",
       "[1] \"Seattle\"\n"
      ]
     },
     "metadata": {},
     "output_type": "display_data"
    }
   ],
   "source": [
    "DetailStudent$city='Seattle'\n",
    "\n",
    "# show:\n",
    "DetailStudent"
   ]
  },
  {
   "cell_type": "markdown",
   "metadata": {},
   "source": [
    "And destroy it by **NULL**ing it, like this:"
   ]
  },
  {
   "cell_type": "code",
   "execution_count": 12,
   "metadata": {},
   "outputs": [
    {
     "data": {
      "text/html": [
       "<dl>\n",
       "\t<dt>$fullName</dt>\n",
       "\t\t<dd>'Alfred Mayer'</dd>\n",
       "\t<dt>$age</dt>\n",
       "\t\t<dd>40</dd>\n",
       "\t<dt>$female</dt>\n",
       "\t\t<dd>FALSE</dd>\n",
       "</dl>\n"
      ],
      "text/latex": [
       "\\begin{description}\n",
       "\\item[\\$fullName] 'Alfred Mayer'\n",
       "\\item[\\$age] 40\n",
       "\\item[\\$female] FALSE\n",
       "\\end{description}\n"
      ],
      "text/markdown": [
       "$fullName\n",
       ":   'Alfred Mayer'\n",
       "$age\n",
       ":   40\n",
       "$female\n",
       ":   FALSE\n",
       "\n",
       "\n"
      ],
      "text/plain": [
       "$fullName\n",
       "[1] \"Alfred Mayer\"\n",
       "\n",
       "$age\n",
       "[1] 40\n",
       "\n",
       "$female\n",
       "[1] FALSE\n"
      ]
     },
     "metadata": {},
     "output_type": "display_data"
    }
   ],
   "source": [
    "DetailStudent$city=NULL # do you like: DetailStudent[[4]]=NULL\n",
    "DetailStudent"
   ]
  },
  {
   "cell_type": "markdown",
   "metadata": {},
   "source": [
    "You can get rid of a list using:"
   ]
  },
  {
   "cell_type": "code",
   "execution_count": 52,
   "metadata": {},
   "outputs": [
    {
     "ename": "ERROR",
     "evalue": "Error in eval(expr, envir, enclos): object 'DetailStudent' not found\n",
     "output_type": "error",
     "traceback": [
      "Error in eval(expr, envir, enclos): object 'DetailStudent' not found\nTraceback:\n"
     ]
    }
   ],
   "source": [
    "rm(DetailStudent)\n",
    "DetailStudent"
   ]
  },
  {
   "cell_type": "markdown",
   "metadata": {},
   "source": [
    "** How would you create a list of this person out of his personal information data?**\n",
    "\n",
    "\n",
    "<img src=\"listExample.png\" alt=\"Drawing\" style=\"width: 200px;\"/>"
   ]
  },
  {
   "cell_type": "code",
   "execution_count": 1,
   "metadata": {},
   "outputs": [],
   "source": [
    "cr7=list('FullName'='Cristiano Ronaldo dos Santos Aveiro', \n",
    "         'DateOfBirth'='5 February 1985',\n",
    "         'PlaceOfBirth'='Funchal, Madeira, Portugal',\n",
    "         'HeightInMeters'=1.89,\n",
    "         'PlayingPosition'='Forward'\n",
    "        )"
   ]
  },
  {
   "cell_type": "code",
   "execution_count": 2,
   "metadata": {},
   "outputs": [
    {
     "data": {
      "text/html": [
       "<dl>\n",
       "\t<dt>$FullName</dt>\n",
       "\t\t<dd>'Cristiano Ronaldo dos Santos Aveiro'</dd>\n",
       "\t<dt>$DateOfBirth</dt>\n",
       "\t\t<dd>'5 February 1985'</dd>\n",
       "\t<dt>$PlaceOfBirth</dt>\n",
       "\t\t<dd>'Funchal, Madeira, Portugal'</dd>\n",
       "\t<dt>$HeightInMeters</dt>\n",
       "\t\t<dd>1.89</dd>\n",
       "\t<dt>$PlayingPosition</dt>\n",
       "\t\t<dd>'Forward'</dd>\n",
       "</dl>\n"
      ],
      "text/latex": [
       "\\begin{description}\n",
       "\\item[\\$FullName] 'Cristiano Ronaldo dos Santos Aveiro'\n",
       "\\item[\\$DateOfBirth] '5 February 1985'\n",
       "\\item[\\$PlaceOfBirth] 'Funchal, Madeira, Portugal'\n",
       "\\item[\\$HeightInMeters] 1.89\n",
       "\\item[\\$PlayingPosition] 'Forward'\n",
       "\\end{description}\n"
      ],
      "text/markdown": [
       "$FullName\n",
       ":   'Cristiano Ronaldo dos Santos Aveiro'\n",
       "$DateOfBirth\n",
       ":   '5 February 1985'\n",
       "$PlaceOfBirth\n",
       ":   'Funchal, Madeira, Portugal'\n",
       "$HeightInMeters\n",
       ":   1.89\n",
       "$PlayingPosition\n",
       ":   'Forward'\n",
       "\n",
       "\n"
      ],
      "text/plain": [
       "$FullName\n",
       "[1] \"Cristiano Ronaldo dos Santos Aveiro\"\n",
       "\n",
       "$DateOfBirth\n",
       "[1] \"5 February 1985\"\n",
       "\n",
       "$PlaceOfBirth\n",
       "[1] \"Funchal, Madeira, Portugal\"\n",
       "\n",
       "$HeightInMeters\n",
       "[1] 1.89\n",
       "\n",
       "$PlayingPosition\n",
       "[1] \"Forward\"\n"
      ]
     },
     "metadata": {},
     "output_type": "display_data"
    }
   ],
   "source": [
    "#seeing the result:\n",
    "cr7"
   ]
  },
  {
   "cell_type": "markdown",
   "metadata": {},
   "source": [
    "The previous list has nothing wrong. But keep in mind that we save data to retrieve it and act (decide) upon its value. For example, can we answer the question:\n",
    "\n",
    "* What is Ronaldo's playing position?"
   ]
  },
  {
   "cell_type": "code",
   "execution_count": 3,
   "metadata": {},
   "outputs": [
    {
     "data": {
      "text/html": [
       "'Forward'"
      ],
      "text/latex": [
       "'Forward'"
      ],
      "text/markdown": [
       "'Forward'"
      ],
      "text/plain": [
       "[1] \"Forward\""
      ]
     },
     "metadata": {},
     "output_type": "display_data"
    }
   ],
   "source": [
    "cr7$PlayingPosition"
   ]
  },
  {
   "cell_type": "markdown",
   "metadata": {},
   "source": [
    "Great! However, we can not answer, directly:\n",
    "\n",
    "* How old is he?\n",
    "\n"
   ]
  },
  {
   "cell_type": "code",
   "execution_count": 4,
   "metadata": {},
   "outputs": [
    {
     "ename": "ERROR",
     "evalue": "Error in \"15 April 2019\" - cr7$DateOfBirth: non-numeric argument to binary operator\n",
     "output_type": "error",
     "traceback": [
      "Error in \"15 April 2019\" - cr7$DateOfBirth: non-numeric argument to binary operator\nTraceback:\n"
     ]
    }
   ],
   "source": [
    "\"15 April 2019\" - cr7$DateOfBirth"
   ]
  },
  {
   "cell_type": "markdown",
   "metadata": {},
   "source": [
    "We failed. \n",
    "In this situation, we should consider updating the field type:"
   ]
  },
  {
   "cell_type": "code",
   "execution_count": 33,
   "metadata": {},
   "outputs": [
    {
     "data": {
      "text/html": [
       "'English_United States.1252'"
      ],
      "text/latex": [
       "'English\\_United States.1252'"
      ],
      "text/markdown": [
       "'English_United States.1252'"
      ],
      "text/plain": [
       "[1] \"English_United States.1252\""
      ]
     },
     "metadata": {},
     "output_type": "display_data"
    }
   ],
   "source": [
    "# make sure the language is right\n",
    "\n",
    "Sys.setlocale(\"LC_TIME\", \"English\")"
   ]
  },
  {
   "cell_type": "code",
   "execution_count": 34,
   "metadata": {},
   "outputs": [],
   "source": [
    "cr7$DateOfBirth=as.Date('5 February 1985',format=\"%d %B %Y\")"
   ]
  },
  {
   "cell_type": "code",
   "execution_count": 36,
   "metadata": {},
   "outputs": [
    {
     "data": {
      "text/plain": [
       "Time difference of 12473 days"
      ]
     },
     "metadata": {},
     "output_type": "display_data"
    }
   ],
   "source": [
    "# then\n",
    "\n",
    "Sys.Date()-cr7$DateOfBirth"
   ]
  },
  {
   "cell_type": "markdown",
   "metadata": {},
   "source": [
    "You will need to divide:"
   ]
  },
  {
   "cell_type": "code",
   "execution_count": 49,
   "metadata": {},
   "outputs": [
    {
     "data": {
      "text/plain": [
       "Time difference of 34.14991 days"
      ]
     },
     "metadata": {},
     "output_type": "display_data"
    }
   ],
   "source": [
    "# Then\n",
    "(Sys.Date()-cr7$DateOfBirth)/365.2425"
   ]
  },
  {
   "cell_type": "code",
   "execution_count": 48,
   "metadata": {},
   "outputs": [
    {
     "data": {
      "text/html": [
       "34.1506849315069"
      ],
      "text/latex": [
       "34.1506849315069"
      ],
      "text/markdown": [
       "34.1506849315069"
      ],
      "text/plain": [
       "[1] 34.15068"
      ]
     },
     "metadata": {},
     "output_type": "display_data"
    }
   ],
   "source": [
    "library(lubridate)\n",
    "time_length(interval(cr7$DateOfBirth,Sys.Date()),\"years\")"
   ]
  },
  {
   "cell_type": "code",
   "execution_count": 42,
   "metadata": {},
   "outputs": [],
   "source": [
    "?time_length"
   ]
  },
  {
   "cell_type": "markdown",
   "metadata": {},
   "source": [
    "[Go to page beginning](#beginning)\n",
    "\n",
    "----\n",
    "\n",
    "<a id='part2'></a> \n",
    "\n",
    "## Vectors\n",
    "Vectors are also containers of values. The values should be of only __one__ type (__R__ may alter or _coerce_ them silently, otherwise). If we have an spreadsheet as a reference, a column can be a natural vector (when every value of a spreadsheet HAS to be a vector, a \"bidimensional vector\" is known as a **matrix**<sup><a href=\"#fn1\" id=\"ref1\">1</a></sup>).\n",
    "\n",
    "Here, we will create three vectors using the \"**c(...)**\" function: "
   ]
  },
  {
   "cell_type": "code",
   "execution_count": 29,
   "metadata": {},
   "outputs": [],
   "source": [
    "fullnames=c(\"Fred Meyers\",\"Sarah Jones\", \"Lou Ferrigno\",\"Sky Turner\")\n",
    "ages=c(40,35, 60,77)\n",
    "female=c(F,T,T,T)"
   ]
  },
  {
   "cell_type": "markdown",
   "metadata": {},
   "source": [
    "Each *object* is holding temporarily a vector. Use combinations of letters and numbers (never start with a number or a special character) in a meaningful way to name a vector. When typing the name of the object you will get all the contents:"
   ]
  },
  {
   "cell_type": "code",
   "execution_count": 30,
   "metadata": {},
   "outputs": [
    {
     "data": {
      "text/html": [
       "<ol class=list-inline>\n",
       "\t<li>'Fred Meyers'</li>\n",
       "\t<li>'Sarah Jones'</li>\n",
       "\t<li>'Lou Ferrigno'</li>\n",
       "\t<li>'Sky Turner'</li>\n",
       "</ol>\n"
      ],
      "text/latex": [
       "\\begin{enumerate*}\n",
       "\\item 'Fred Meyers'\n",
       "\\item 'Sarah Jones'\n",
       "\\item 'Lou Ferrigno'\n",
       "\\item 'Sky Turner'\n",
       "\\end{enumerate*}\n"
      ],
      "text/markdown": [
       "1. 'Fred Meyers'\n",
       "2. 'Sarah Jones'\n",
       "3. 'Lou Ferrigno'\n",
       "4. 'Sky Turner'\n",
       "\n",
       "\n"
      ],
      "text/plain": [
       "[1] \"Fred Meyers\"  \"Sarah Jones\"  \"Lou Ferrigno\" \"Sky Turner\"  "
      ]
     },
     "metadata": {},
     "output_type": "display_data"
    }
   ],
   "source": [
    "fullnames"
   ]
  },
  {
   "cell_type": "code",
   "execution_count": 31,
   "metadata": {},
   "outputs": [
    {
     "data": {
      "text/html": [
       "<ol class=list-inline>\n",
       "\t<li>40</li>\n",
       "\t<li>35</li>\n",
       "\t<li>60</li>\n",
       "\t<li>77</li>\n",
       "</ol>\n"
      ],
      "text/latex": [
       "\\begin{enumerate*}\n",
       "\\item 40\n",
       "\\item 35\n",
       "\\item 60\n",
       "\\item 77\n",
       "\\end{enumerate*}\n"
      ],
      "text/markdown": [
       "1. 40\n",
       "2. 35\n",
       "3. 60\n",
       "4. 77\n",
       "\n",
       "\n"
      ],
      "text/plain": [
       "[1] 40 35 60 77"
      ]
     },
     "metadata": {},
     "output_type": "display_data"
    }
   ],
   "source": [
    "ages"
   ]
  },
  {
   "cell_type": "code",
   "execution_count": 32,
   "metadata": {},
   "outputs": [
    {
     "data": {
      "text/html": [
       "<ol class=list-inline>\n",
       "\t<li>FALSE</li>\n",
       "\t<li>TRUE</li>\n",
       "\t<li>TRUE</li>\n",
       "\t<li>TRUE</li>\n",
       "</ol>\n"
      ],
      "text/latex": [
       "\\begin{enumerate*}\n",
       "\\item FALSE\n",
       "\\item TRUE\n",
       "\\item TRUE\n",
       "\\item TRUE\n",
       "\\end{enumerate*}\n"
      ],
      "text/markdown": [
       "1. FALSE\n",
       "2. TRUE\n",
       "3. TRUE\n",
       "4. TRUE\n",
       "\n",
       "\n"
      ],
      "text/plain": [
       "[1] FALSE  TRUE  TRUE  TRUE"
      ]
     },
     "metadata": {},
     "output_type": "display_data"
    }
   ],
   "source": [
    "female"
   ]
  },
  {
   "cell_type": "markdown",
   "metadata": {},
   "source": [
    "Each vector is composed of elements with the same type. If you want to access individual elements, you can write:"
   ]
  },
  {
   "cell_type": "code",
   "execution_count": 33,
   "metadata": {},
   "outputs": [
    {
     "data": {
      "text/html": [
       "'Fred Meyers'"
      ],
      "text/latex": [
       "'Fred Meyers'"
      ],
      "text/markdown": [
       "'Fred Meyers'"
      ],
      "text/plain": [
       "[1] \"Fred Meyers\""
      ]
     },
     "metadata": {},
     "output_type": "display_data"
    }
   ],
   "source": [
    "fullnames[1]"
   ]
  },
  {
   "cell_type": "code",
   "execution_count": 34,
   "metadata": {},
   "outputs": [
    {
     "data": {
      "text/html": [
       "40"
      ],
      "text/latex": [
       "40"
      ],
      "text/markdown": [
       "40"
      ],
      "text/plain": [
       "[1] 40"
      ]
     },
     "metadata": {},
     "output_type": "display_data"
    }
   ],
   "source": [
    "# or\n",
    "ages[1]"
   ]
  },
  {
   "cell_type": "code",
   "execution_count": 35,
   "metadata": {},
   "outputs": [
    {
     "data": {
      "text/html": [
       "FALSE"
      ],
      "text/latex": [
       "FALSE"
      ],
      "text/markdown": [
       "FALSE"
      ],
      "text/plain": [
       "[1] FALSE"
      ]
     },
     "metadata": {},
     "output_type": "display_data"
    }
   ],
   "source": [
    "# or\n",
    "female[1]"
   ]
  },
  {
   "cell_type": "markdown",
   "metadata": {},
   "source": [
    "You can alter the vector using any of the above mechanisms:"
   ]
  },
  {
   "cell_type": "code",
   "execution_count": 36,
   "metadata": {},
   "outputs": [
    {
     "data": {
      "text/html": [
       "'Alfred Mayer'"
      ],
      "text/latex": [
       "'Alfred Mayer'"
      ],
      "text/markdown": [
       "'Alfred Mayer'"
      ],
      "text/plain": [
       "[1] \"Alfred Mayer\""
      ]
     },
     "metadata": {},
     "output_type": "display_data"
    }
   ],
   "source": [
    "names[1]='Alfred Mayer'\n",
    "# Then:\n",
    "names[1]"
   ]
  },
  {
   "cell_type": "markdown",
   "metadata": {},
   "source": [
    "You can add an element to a vector like this:"
   ]
  },
  {
   "cell_type": "code",
   "execution_count": 44,
   "metadata": {},
   "outputs": [
    {
     "data": {
      "text/html": [
       "<ol class=list-inline>\n",
       "\t<li>1</li>\n",
       "\t<li>20</li>\n",
       "\t<li>3</li>\n",
       "\t<li>40</li>\n",
       "</ol>\n"
      ],
      "text/latex": [
       "\\begin{enumerate*}\n",
       "\\item 1\n",
       "\\item 20\n",
       "\\item 3\n",
       "\\item 40\n",
       "\\end{enumerate*}\n"
      ],
      "text/markdown": [
       "1. 1\n",
       "2. 20\n",
       "3. 3\n",
       "4. 40\n",
       "\n",
       "\n"
      ],
      "text/plain": [
       "[1]  1 20  3 40"
      ]
     },
     "metadata": {},
     "output_type": "display_data"
    }
   ],
   "source": [
    "elements=c(1,20,3)\n",
    "elements=c(elements,40) # adding to the same one\n",
    "elements"
   ]
  },
  {
   "cell_type": "markdown",
   "metadata": {},
   "source": [
    "You can NOT delete it with NULL:"
   ]
  },
  {
   "cell_type": "code",
   "execution_count": 45,
   "metadata": {},
   "outputs": [
    {
     "data": {
      "text/html": [
       "<ol class=list-inline>\n",
       "\t<li>1</li>\n",
       "\t<li>20</li>\n",
       "\t<li>3</li>\n",
       "\t<li>40</li>\n",
       "</ol>\n"
      ],
      "text/latex": [
       "\\begin{enumerate*}\n",
       "\\item 1\n",
       "\\item 20\n",
       "\\item 3\n",
       "\\item 40\n",
       "\\end{enumerate*}\n"
      ],
      "text/markdown": [
       "1. 1\n",
       "2. 20\n",
       "3. 3\n",
       "4. 40\n",
       "\n",
       "\n"
      ],
      "text/plain": [
       "[1]  1 20  3 40"
      ]
     },
     "metadata": {},
     "output_type": "display_data"
    },
    {
     "ename": "ERROR",
     "evalue": "Error in elements[4] = NULL: replacement has length zero\n",
     "output_type": "error",
     "traceback": [
      "Error in elements[4] = NULL: replacement has length zero\nTraceback:\n"
     ]
    }
   ],
   "source": [
    "elements\n",
    "elements[4]=NULL"
   ]
  },
  {
   "cell_type": "markdown",
   "metadata": {},
   "source": [
    "Just do this:"
   ]
  },
  {
   "cell_type": "code",
   "execution_count": 48,
   "metadata": {},
   "outputs": [
    {
     "data": {
      "text/html": [
       "<ol class=list-inline>\n",
       "\t<li>1</li>\n",
       "\t<li>20</li>\n",
       "\t<li>3</li>\n",
       "\t<li>40</li>\n",
       "</ol>\n"
      ],
      "text/latex": [
       "\\begin{enumerate*}\n",
       "\\item 1\n",
       "\\item 20\n",
       "\\item 3\n",
       "\\item 40\n",
       "\\end{enumerate*}\n"
      ],
      "text/markdown": [
       "1. 1\n",
       "2. 20\n",
       "3. 3\n",
       "4. 40\n",
       "\n",
       "\n"
      ],
      "text/plain": [
       "[1]  1 20  3 40"
      ]
     },
     "metadata": {},
     "output_type": "display_data"
    },
    {
     "data": {
      "text/html": [
       "<ol class=list-inline>\n",
       "\t<li>1</li>\n",
       "\t<li>3</li>\n",
       "\t<li>40</li>\n",
       "</ol>\n"
      ],
      "text/latex": [
       "\\begin{enumerate*}\n",
       "\\item 1\n",
       "\\item 3\n",
       "\\item 40\n",
       "\\end{enumerate*}\n"
      ],
      "text/markdown": [
       "1. 1\n",
       "2. 3\n",
       "3. 40\n",
       "\n",
       "\n"
      ],
      "text/plain": [
       "[1]  1  3 40"
      ]
     },
     "metadata": {},
     "output_type": "display_data"
    }
   ],
   "source": [
    "# by position\n",
    "elements\n",
    "elements2=elements[-2] # vector 'without' position 4\n",
    "elements2"
   ]
  },
  {
   "cell_type": "code",
   "execution_count": 47,
   "metadata": {},
   "outputs": [
    {
     "data": {
      "text/html": [
       "<ol class=list-inline>\n",
       "\t<li>1</li>\n",
       "\t<li>3</li>\n",
       "\t<li>40</li>\n",
       "</ol>\n"
      ],
      "text/latex": [
       "\\begin{enumerate*}\n",
       "\\item 1\n",
       "\\item 3\n",
       "\\item 40\n",
       "\\end{enumerate*}\n"
      ],
      "text/markdown": [
       "1. 1\n",
       "2. 3\n",
       "3. 40\n",
       "\n",
       "\n"
      ],
      "text/plain": [
       "[1]  1  3 40"
      ]
     },
     "metadata": {},
     "output_type": "display_data"
    }
   ],
   "source": [
    "# by value\n",
    "elements3=elements[elements!=20]\n",
    "elements3"
   ]
  },
  {
   "cell_type": "markdown",
   "metadata": {},
   "source": [
    "You can get rid of those vectors using:"
   ]
  },
  {
   "cell_type": "code",
   "execution_count": 51,
   "metadata": {},
   "outputs": [
    {
     "ename": "ERROR",
     "evalue": "Error in eval(expr, envir, enclos): object 'elements2' not found\n",
     "output_type": "error",
     "traceback": [
      "Error in eval(expr, envir, enclos): object 'elements2' not found\nTraceback:\n"
     ]
    }
   ],
   "source": [
    "rm(elements2)\n",
    "elements2"
   ]
  },
  {
   "cell_type": "markdown",
   "metadata": {},
   "source": [
    "Another important operation is to get rid of repeated values:"
   ]
  },
  {
   "cell_type": "code",
   "execution_count": 24,
   "metadata": {},
   "outputs": [
    {
     "data": {
      "text/html": [
       "<ol class=list-inline>\n",
       "\t<li>'M'</li>\n",
       "\t<li>'T'</li>\n",
       "\t<li>'W'</li>\n",
       "\t<li>'Th'</li>\n",
       "\t<li>'S'</li>\n",
       "\t<li>'Su'</li>\n",
       "\t<li>'Su'</li>\n",
       "</ol>\n"
      ],
      "text/latex": [
       "\\begin{enumerate*}\n",
       "\\item 'M'\n",
       "\\item 'T'\n",
       "\\item 'W'\n",
       "\\item 'Th'\n",
       "\\item 'S'\n",
       "\\item 'Su'\n",
       "\\item 'Su'\n",
       "\\end{enumerate*}\n"
      ],
      "text/markdown": [
       "1. 'M'\n",
       "2. 'T'\n",
       "3. 'W'\n",
       "4. 'Th'\n",
       "5. 'S'\n",
       "6. 'Su'\n",
       "7. 'Su'\n",
       "\n",
       "\n"
      ],
      "text/plain": [
       "[1] \"M\"  \"T\"  \"W\"  \"Th\" \"S\"  \"Su\" \"Su\""
      ]
     },
     "metadata": {},
     "output_type": "display_data"
    }
   ],
   "source": [
    "weekdays=c('M','T','W','Th','S','Su','Su')\n",
    "weekdays"
   ]
  },
  {
   "cell_type": "markdown",
   "metadata": {},
   "source": [
    "Then, use the function _unique_:"
   ]
  },
  {
   "cell_type": "code",
   "execution_count": 25,
   "metadata": {},
   "outputs": [
    {
     "data": {
      "text/html": [
       "<ol class=list-inline>\n",
       "\t<li>'M'</li>\n",
       "\t<li>'T'</li>\n",
       "\t<li>'W'</li>\n",
       "\t<li>'Th'</li>\n",
       "\t<li>'S'</li>\n",
       "\t<li>'Su'</li>\n",
       "</ol>\n"
      ],
      "text/latex": [
       "\\begin{enumerate*}\n",
       "\\item 'M'\n",
       "\\item 'T'\n",
       "\\item 'W'\n",
       "\\item 'Th'\n",
       "\\item 'S'\n",
       "\\item 'Su'\n",
       "\\end{enumerate*}\n"
      ],
      "text/markdown": [
       "1. 'M'\n",
       "2. 'T'\n",
       "3. 'W'\n",
       "4. 'Th'\n",
       "5. 'S'\n",
       "6. 'Su'\n",
       "\n",
       "\n"
      ],
      "text/plain": [
       "[1] \"M\"  \"T\"  \"W\"  \"Th\" \"S\"  \"Su\""
      ]
     },
     "metadata": {},
     "output_type": "display_data"
    }
   ],
   "source": [
    "unique(weekdays)"
   ]
  },
  {
   "cell_type": "markdown",
   "metadata": {},
   "source": [
    "Vector elements can have 'names', but their contents still need to be homogeneous:"
   ]
  },
  {
   "cell_type": "code",
   "execution_count": 56,
   "metadata": {},
   "outputs": [
    {
     "data": {
      "text/html": [
       "<dl class=dl-horizontal>\n",
       "\t<dt>Sam</dt>\n",
       "\t\t<dd>'50'</dd>\n",
       "\t<dt>Paul</dt>\n",
       "\t\t<dd>'30'</dd>\n",
       "\t<dt>Name</dt>\n",
       "\t\t<dd>'Jim'</dd>\n",
       "</dl>\n"
      ],
      "text/latex": [
       "\\begin{description*}\n",
       "\\item[Sam] '50'\n",
       "\\item[Paul] '30'\n",
       "\\item[Name] 'Jim'\n",
       "\\end{description*}\n"
      ],
      "text/markdown": [
       "Sam\n",
       ":   '50'Paul\n",
       ":   '30'Name\n",
       ":   'Jim'\n",
       "\n"
      ],
      "text/plain": [
       "  Sam  Paul  Name \n",
       " \"50\"  \"30\" \"Jim\" "
      ]
     },
     "metadata": {},
     "output_type": "display_data"
    }
   ],
   "source": [
    "newAges=c(\"Sam\"=50, \"Paul\"=30, \"Name\"=\"Jim\")\n",
    "newAges"
   ]
  },
  {
   "cell_type": "markdown",
   "metadata": {},
   "source": [
    "As you see above, the presence of \"Jim\" as an element, *coerced* the other values to *characters* (the _numbers_ are now _text_, the symbol **''** is used to show that). Eliminating that value will keep the values as numeric ones in the  vector:"
   ]
  },
  {
   "cell_type": "code",
   "execution_count": 54,
   "metadata": {},
   "outputs": [
    {
     "data": {
      "text/html": [
       "<dl class=dl-horizontal>\n",
       "\t<dt>Sam</dt>\n",
       "\t\t<dd>50</dd>\n",
       "\t<dt>Paul</dt>\n",
       "\t\t<dd>30</dd>\n",
       "</dl>\n"
      ],
      "text/latex": [
       "\\begin{description*}\n",
       "\\item[Sam] 50\n",
       "\\item[Paul] 30\n",
       "\\end{description*}\n"
      ],
      "text/markdown": [
       "Sam\n",
       ":   50Paul\n",
       ":   30\n",
       "\n"
      ],
      "text/plain": [
       " Sam Paul \n",
       "  50   30 "
      ]
     },
     "metadata": {},
     "output_type": "display_data"
    }
   ],
   "source": [
    "newAgesGood=c(\"Sam\"=50, \"Paul\"=30)\n",
    "newAgesGood"
   ]
  },
  {
   "cell_type": "markdown",
   "metadata": {},
   "source": [
    "### Vectors versus Lists\n",
    "\n",
    "Let me share some ideas for comparing these two basic structures:\n",
    "\n",
    "__A) Make sure what you have:__\n",
    "\n",
    "The functions **is.vector**, **is.list**, **is.character** and **is.numeric** should be used frequently, because we need to be sure of what structure we are dealing with:\n"
   ]
  },
  {
   "cell_type": "code",
   "execution_count": 62,
   "metadata": {},
   "outputs": [
    {
     "data": {
      "text/html": [
       "TRUE"
      ],
      "text/latex": [
       "TRUE"
      ],
      "text/markdown": [
       "TRUE"
      ],
      "text/plain": [
       "[1] TRUE"
      ]
     },
     "metadata": {},
     "output_type": "display_data"
    },
    {
     "data": {
      "text/html": [
       "FALSE"
      ],
      "text/latex": [
       "FALSE"
      ],
      "text/markdown": [
       "FALSE"
      ],
      "text/plain": [
       "[1] FALSE"
      ]
     },
     "metadata": {},
     "output_type": "display_data"
    }
   ],
   "source": [
    "aList=list(1,2,3)\n",
    "aVector=c(1,2,3)\n",
    "\n",
    "is.vector(aVector); is.list(aVector)"
   ]
  },
  {
   "cell_type": "code",
   "execution_count": 65,
   "metadata": {},
   "outputs": [
    {
     "data": {
      "text/html": [
       "FALSE"
      ],
      "text/latex": [
       "FALSE"
      ],
      "text/markdown": [
       "FALSE"
      ],
      "text/plain": [
       "[1] FALSE"
      ]
     },
     "metadata": {},
     "output_type": "display_data"
    },
    {
     "data": {
      "text/html": [
       "TRUE"
      ],
      "text/latex": [
       "TRUE"
      ],
      "text/markdown": [
       "TRUE"
      ],
      "text/plain": [
       "[1] TRUE"
      ]
     },
     "metadata": {},
     "output_type": "display_data"
    }
   ],
   "source": [
    "# then:\n",
    "is.vector(aList,mode='vector'); is.list(aList)"
   ]
  },
  {
   "cell_type": "markdown",
   "metadata": {},
   "source": [
    "The function **str** could be another alternative to find out what we have:\n"
   ]
  },
  {
   "cell_type": "code",
   "execution_count": 66,
   "metadata": {},
   "outputs": [
    {
     "name": "stdout",
     "output_type": "stream",
     "text": [
      " num [1:3] 1 2 3\n"
     ]
    }
   ],
   "source": [
    "str(aVector)"
   ]
  },
  {
   "cell_type": "code",
   "execution_count": 67,
   "metadata": {},
   "outputs": [
    {
     "name": "stdout",
     "output_type": "stream",
     "text": [
      "List of 3\n",
      " $ : num 1\n",
      " $ : num 2\n",
      " $ : num 3\n"
     ]
    }
   ],
   "source": [
    "str(aList)"
   ]
  },
  {
   "cell_type": "markdown",
   "metadata": {},
   "source": [
    "__B) Arithmetics:__\n",
    "\n",
    "You will find great differences when doing arithmetics:"
   ]
  },
  {
   "cell_type": "code",
   "execution_count": 68,
   "metadata": {},
   "outputs": [],
   "source": [
    "# if we have these vectors:\n",
    "numbers1=c(1,2,3)\n",
    "numbers2=c(10,20,30)\n",
    "numbers3=c(5)\n",
    "numbers4=c(1,10)"
   ]
  },
  {
   "cell_type": "markdown",
   "metadata": {},
   "source": [
    "Then, these work well:"
   ]
  },
  {
   "cell_type": "code",
   "execution_count": 70,
   "metadata": {},
   "outputs": [
    {
     "data": {
      "text/html": [
       "<ol class=list-inline>\n",
       "\t<li>11</li>\n",
       "\t<li>22</li>\n",
       "\t<li>33</li>\n",
       "</ol>\n"
      ],
      "text/latex": [
       "\\begin{enumerate*}\n",
       "\\item 11\n",
       "\\item 22\n",
       "\\item 33\n",
       "\\end{enumerate*}\n"
      ],
      "text/markdown": [
       "1. 11\n",
       "2. 22\n",
       "3. 33\n",
       "\n",
       "\n"
      ],
      "text/plain": [
       "[1] 11 22 33"
      ]
     },
     "metadata": {},
     "output_type": "display_data"
    }
   ],
   "source": [
    "# adding element by element:\n",
    "numbers1+numbers2"
   ]
  },
  {
   "cell_type": "code",
   "execution_count": 75,
   "metadata": {},
   "outputs": [
    {
     "data": {
      "text/html": [
       "<ol class=list-inline>\n",
       "\t<li>15</li>\n",
       "\t<li>25</li>\n",
       "\t<li>35</li>\n",
       "</ol>\n"
      ],
      "text/latex": [
       "\\begin{enumerate*}\n",
       "\\item 15\n",
       "\\item 25\n",
       "\\item 35\n",
       "\\end{enumerate*}\n"
      ],
      "text/markdown": [
       "1. 15\n",
       "2. 25\n",
       "3. 35\n",
       "\n",
       "\n"
      ],
      "text/plain": [
       "[1] 15 25 35"
      ]
     },
     "metadata": {},
     "output_type": "display_data"
    }
   ],
   "source": [
    "# adding 5  to all the elements of other vector:\n",
    "numbers2+numbers3"
   ]
  },
  {
   "cell_type": "code",
   "execution_count": 72,
   "metadata": {},
   "outputs": [
    {
     "data": {
      "text/html": [
       "<ol class=list-inline>\n",
       "\t<li>10</li>\n",
       "\t<li>40</li>\n",
       "\t<li>90</li>\n",
       "</ol>\n"
      ],
      "text/latex": [
       "\\begin{enumerate*}\n",
       "\\item 10\n",
       "\\item 40\n",
       "\\item 90\n",
       "\\end{enumerate*}\n"
      ],
      "text/markdown": [
       "1. 10\n",
       "2. 40\n",
       "3. 90\n",
       "\n",
       "\n"
      ],
      "text/plain": [
       "[1] 10 40 90"
      ]
     },
     "metadata": {},
     "output_type": "display_data"
    }
   ],
   "source": [
    "# multiplication (element by element):\n",
    "numbers1*numbers2"
   ]
  },
  {
   "cell_type": "code",
   "execution_count": 73,
   "metadata": {},
   "outputs": [
    {
     "data": {
      "text/html": [
       "<ol class=list-inline>\n",
       "\t<li>5</li>\n",
       "\t<li>10</li>\n",
       "\t<li>15</li>\n",
       "</ol>\n"
      ],
      "text/latex": [
       "\\begin{enumerate*}\n",
       "\\item 5\n",
       "\\item 10\n",
       "\\item 15\n",
       "\\end{enumerate*}\n"
      ],
      "text/markdown": [
       "1. 5\n",
       "2. 10\n",
       "3. 15\n",
       "\n",
       "\n"
      ],
      "text/plain": [
       "[1]  5 10 15"
      ]
     },
     "metadata": {},
     "output_type": "display_data"
    }
   ],
   "source": [
    "# and this kind of multiplication:\n",
    "numbers1 * numbers3"
   ]
  },
  {
   "cell_type": "markdown",
   "metadata": {},
   "source": [
    "However, R will give another warning here:"
   ]
  },
  {
   "cell_type": "code",
   "execution_count": 76,
   "metadata": {},
   "outputs": [
    {
     "name": "stderr",
     "output_type": "stream",
     "text": [
      "Warning message in numbers1 + numbers4:\n",
      "“longer object length is not a multiple of shorter object length”"
     ]
    },
    {
     "data": {
      "text/html": [
       "<ol class=list-inline>\n",
       "\t<li>2</li>\n",
       "\t<li>12</li>\n",
       "\t<li>4</li>\n",
       "</ol>\n"
      ],
      "text/latex": [
       "\\begin{enumerate*}\n",
       "\\item 2\n",
       "\\item 12\n",
       "\\item 4\n",
       "\\end{enumerate*}\n"
      ],
      "text/markdown": [
       "1. 2\n",
       "2. 12\n",
       "3. 4\n",
       "\n",
       "\n"
      ],
      "text/plain": [
       "[1]  2 12  4"
      ]
     },
     "metadata": {},
     "output_type": "display_data"
    }
   ],
   "source": [
    "numbers1+numbers4 # different size matters!"
   ]
  },
  {
   "cell_type": "markdown",
   "metadata": {},
   "source": [
    "Comparissons make sense:"
   ]
  },
  {
   "cell_type": "code",
   "execution_count": 83,
   "metadata": {},
   "outputs": [
    {
     "data": {
      "text/html": [
       "<ol class=list-inline>\n",
       "\t<li>FALSE</li>\n",
       "\t<li>FALSE</li>\n",
       "\t<li>FALSE</li>\n",
       "</ol>\n"
      ],
      "text/latex": [
       "\\begin{enumerate*}\n",
       "\\item FALSE\n",
       "\\item FALSE\n",
       "\\item FALSE\n",
       "\\end{enumerate*}\n"
      ],
      "text/markdown": [
       "1. FALSE\n",
       "2. FALSE\n",
       "3. FALSE\n",
       "\n",
       "\n"
      ],
      "text/plain": [
       "[1] FALSE FALSE FALSE"
      ]
     },
     "metadata": {},
     "output_type": "display_data"
    }
   ],
   "source": [
    "numbers1>numbers2"
   ]
  },
  {
   "cell_type": "code",
   "execution_count": 86,
   "metadata": {},
   "outputs": [
    {
     "name": "stderr",
     "output_type": "stream",
     "text": [
      "Warning message in numbers1 > numbers4:\n",
      "“longer object length is not a multiple of shorter object length”"
     ]
    },
    {
     "data": {
      "text/html": [
       "<ol class=list-inline>\n",
       "\t<li>FALSE</li>\n",
       "\t<li>FALSE</li>\n",
       "\t<li>TRUE</li>\n",
       "</ol>\n"
      ],
      "text/latex": [
       "\\begin{enumerate*}\n",
       "\\item FALSE\n",
       "\\item FALSE\n",
       "\\item TRUE\n",
       "\\end{enumerate*}\n"
      ],
      "text/markdown": [
       "1. FALSE\n",
       "2. FALSE\n",
       "3. TRUE\n",
       "\n",
       "\n"
      ],
      "text/plain": [
       "[1] FALSE FALSE  TRUE"
      ]
     },
     "metadata": {},
     "output_type": "display_data"
    }
   ],
   "source": [
    "# but:\n",
    "numbers1>numbers4"
   ]
  },
  {
   "cell_type": "markdown",
   "metadata": {},
   "source": [
    "Now, let's see how the previous operations work here. These are our lists:"
   ]
  },
  {
   "cell_type": "code",
   "execution_count": 77,
   "metadata": {},
   "outputs": [],
   "source": [
    "numbersL1=list(11,22,33)\n",
    "numbersL2=list(1,2,3)"
   ]
  },
  {
   "cell_type": "markdown",
   "metadata": {},
   "source": [
    "...the _adding_ can not be interpreted:"
   ]
  },
  {
   "cell_type": "code",
   "execution_count": 78,
   "metadata": {},
   "outputs": [
    {
     "ename": "ERROR",
     "evalue": "Error in numbersL1 + numbersL2: non-numeric argument to binary operator\n",
     "output_type": "error",
     "traceback": [
      "Error in numbersL1 + numbersL2: non-numeric argument to binary operator\nTraceback:\n"
     ]
    }
   ],
   "source": [
    "numbersL1+numbersL2"
   ]
  },
  {
   "cell_type": "markdown",
   "metadata": {},
   "source": [
    "... and neither the comparisons..."
   ]
  },
  {
   "cell_type": "code",
   "execution_count": 79,
   "metadata": {},
   "outputs": [
    {
     "ename": "ERROR",
     "evalue": "Error in numbersL1 > numbersL2: comparison of these types is not implemented\n",
     "output_type": "error",
     "traceback": [
      "Error in numbersL1 > numbersL2: comparison of these types is not implemented\nTraceback:\n"
     ]
    }
   ],
   "source": [
    "numbersL1>numbersL2"
   ]
  },
  {
   "cell_type": "markdown",
   "metadata": {},
   "source": [
    "So do not expect neither of these to work:"
   ]
  },
  {
   "cell_type": "code",
   "execution_count": 80,
   "metadata": {},
   "outputs": [
    {
     "ename": "ERROR",
     "evalue": "Error in numbersL1 * numbersL2: non-numeric argument to binary operator\n",
     "output_type": "error",
     "traceback": [
      "Error in numbersL1 * numbersL2: non-numeric argument to binary operator\nTraceback:\n"
     ]
    }
   ],
   "source": [
    "numbersL1*numbersL2"
   ]
  },
  {
   "cell_type": "code",
   "execution_count": 81,
   "metadata": {},
   "outputs": [
    {
     "ename": "ERROR",
     "evalue": "Error in numbersL1 * 3: non-numeric argument to binary operator\n",
     "output_type": "error",
     "traceback": [
      "Error in numbersL1 * 3: non-numeric argument to binary operator\nTraceback:\n"
     ]
    }
   ],
   "source": [
    "numbersL1*3"
   ]
  },
  {
   "cell_type": "markdown",
   "metadata": {},
   "source": [
    "[Go to page beginning](#beginning)\n",
    "\n",
    "----\n",
    "\n",
    "<a id='part3'></a>\n",
    "\n",
    "## Data Frames\n",
    "\n",
    "Data frames are containers of values. You use a data frame because you need to combine what vectors and lists do. The most common analogy is a data table like  the ones in a __spreadsheet__: \n"
   ]
  },
  {
   "cell_type": "code",
   "execution_count": 54,
   "metadata": {},
   "outputs": [
    {
     "data": {
      "text/html": [
       "<table>\n",
       "<thead><tr><th></th><th scope=col>ages</th><th scope=col>country</th><th scope=col>education</th></tr></thead>\n",
       "<tbody>\n",
       "\t<tr><th scope=row>Qing</th><td>32     </td><td>China  </td><td>Bach   </td></tr>\n",
       "\t<tr><th scope=row>Françoise</th><td>33     </td><td>Senegal</td><td>Bach   </td></tr>\n",
       "\t<tr><th scope=row>Raúl</th><td>28     </td><td>Spain  </td><td>Master </td></tr>\n",
       "\t<tr><th scope=row>Bjork</th><td>30     </td><td>Norway </td><td>PhD    </td></tr>\n",
       "</tbody>\n",
       "</table>\n"
      ],
      "text/latex": [
       "\\begin{tabular}{r|lll}\n",
       "  & ages & country & education\\\\\n",
       "\\hline\n",
       "\tQing & 32      & China   & Bach   \\\\\n",
       "\tFrançoise & 33      & Senegal & Bach   \\\\\n",
       "\tRaúl & 28      & Spain   & Master \\\\\n",
       "\tBjork & 30      & Norway  & PhD    \\\\\n",
       "\\end{tabular}\n"
      ],
      "text/markdown": [
       "\n",
       "| <!--/--> | ages | country | education | \n",
       "|---|---|---|---|\n",
       "| Qing | 32      | China   | Bach    | \n",
       "| Françoise | 33      | Senegal | Bach    | \n",
       "| Raúl | 28      | Spain   | Master  | \n",
       "| Bjork | 30      | Norway  | PhD     | \n",
       "\n",
       "\n"
      ],
      "text/plain": [
       "          ages country education\n",
       "Qing      32   China   Bach     \n",
       "Françoise 33   Senegal Bach     \n",
       "Raúl      28   Spain   Master   \n",
       "Bjork     30   Norway  PhD      "
      ]
     },
     "metadata": {},
     "output_type": "display_data"
    }
   ],
   "source": [
    "# VECTORS\n",
    "names=c(\"Qing\", \"Françoise\", \"Raúl\", \"Bjork\")\n",
    "ages=c(32,33,28,30)\n",
    "country=c(\"China\", \"Senegal\", \"Spain\", \"Norway\")\n",
    "education=c(\"Bach\", \"Bach\", \"Master\", \"PhD\")\n",
    "\n",
    "#DF as a \"List\" of vectors:\n",
    "students=data.frame(ages,country,education,row.names=names)\n",
    "students"
   ]
  },
  {
   "cell_type": "markdown",
   "metadata": {},
   "source": [
    "You see your data frame above. Just by watching, you can not be sure of what you have, so using **str** is highly recommended:"
   ]
  },
  {
   "cell_type": "code",
   "execution_count": 55,
   "metadata": {},
   "outputs": [
    {
     "name": "stdout",
     "output_type": "stream",
     "text": [
      "'data.frame':\t4 obs. of  3 variables:\n",
      " $ ages     : num  32 33 28 30\n",
      " $ country  : Factor w/ 4 levels \"China\",\"Norway\",..: 1 3 4 2\n",
      " $ education: Factor w/ 3 levels \"Bach\",\"Master\",..: 1 1 2 3\n"
     ]
    }
   ],
   "source": [
    "str(students)"
   ]
  },
  {
   "cell_type": "markdown",
   "metadata": {},
   "source": [
    "This data frame uses the vector 'names' as the __row names__, so that vector is not considered a column, that is fine:"
   ]
  },
  {
   "cell_type": "code",
   "execution_count": 57,
   "metadata": {},
   "outputs": [
    {
     "data": {
      "text/html": [
       "<table>\n",
       "<thead><tr><th></th><th scope=col>ages</th><th scope=col>country</th><th scope=col>education</th></tr></thead>\n",
       "<tbody>\n",
       "\t<tr><th scope=row>Qing</th><td>32   </td><td>China</td><td>Bach </td></tr>\n",
       "</tbody>\n",
       "</table>\n"
      ],
      "text/latex": [
       "\\begin{tabular}{r|lll}\n",
       "  & ages & country & education\\\\\n",
       "\\hline\n",
       "\tQing & 32    & China & Bach \\\\\n",
       "\\end{tabular}\n"
      ],
      "text/markdown": [
       "\n",
       "| <!--/--> | ages | country | education | \n",
       "|---|\n",
       "| Qing | 32    | China | Bach  | \n",
       "\n",
       "\n"
      ],
      "text/plain": [
       "     ages country education\n",
       "Qing 32   China   Bach     "
      ]
     },
     "metadata": {},
     "output_type": "display_data"
    },
    {
     "data": {
      "text/html": [
       "<table>\n",
       "<thead><tr><th></th><th scope=col>ages</th><th scope=col>country</th><th scope=col>education</th></tr></thead>\n",
       "<tbody>\n",
       "\t<tr><th scope=row>Qing</th><td>32   </td><td>China</td><td>Bach </td></tr>\n",
       "</tbody>\n",
       "</table>\n"
      ],
      "text/latex": [
       "\\begin{tabular}{r|lll}\n",
       "  & ages & country & education\\\\\n",
       "\\hline\n",
       "\tQing & 32    & China & Bach \\\\\n",
       "\\end{tabular}\n"
      ],
      "text/markdown": [
       "\n",
       "| <!--/--> | ages | country | education | \n",
       "|---|\n",
       "| Qing | 32    | China | Bach  | \n",
       "\n",
       "\n"
      ],
      "text/plain": [
       "     ages country education\n",
       "Qing 32   China   Bach     "
      ]
     },
     "metadata": {},
     "output_type": "display_data"
    }
   ],
   "source": [
    "students[1,] #first row\n",
    "students['Qing',] # row with 'Qing' as row name\n"
   ]
  },
  {
   "cell_type": "code",
   "execution_count": 58,
   "metadata": {},
   "outputs": [
    {
     "ename": "ERROR",
     "evalue": "Error in `[.data.frame`(students, \"Qing\"): undefined columns selected\n",
     "output_type": "error",
     "traceback": [
      "Error in `[.data.frame`(students, \"Qing\"): undefined columns selected\nTraceback:\n",
      "1. students[\"Qing\"]",
      "2. `[.data.frame`(students, \"Qing\")",
      "3. stop(\"undefined columns selected\")"
     ]
    }
   ],
   "source": [
    "# this is wrong: \n",
    "students['Qing']"
   ]
  },
  {
   "cell_type": "markdown",
   "metadata": {},
   "source": [
    "But the problem you should have detected is that country and education are considered of type *factor*, that is, R is coercing them as a **categorical variable**. If you do not want that, because these are proper names, you should create your data frame requesting that explicitly:"
   ]
  },
  {
   "cell_type": "code",
   "execution_count": 59,
   "metadata": {},
   "outputs": [
    {
     "name": "stdout",
     "output_type": "stream",
     "text": [
      "'data.frame':\t4 obs. of  4 variables:\n",
      " $ names    : chr  \"Qing\" \"Françoise\" \"Raúl\" \"Bjork\"\n",
      " $ ages     : num  32 33 28 30\n",
      " $ country  : chr  \"China\" \"Senegal\" \"Spain\" \"Norway\"\n",
      " $ education: chr  \"Bach\" \"Bach\" \"Master\" \"PhD\"\n"
     ]
    }
   ],
   "source": [
    "students=data.frame(names,ages,country,education,\n",
    "                    stringsAsFactors=F)\n",
    "str(students)"
   ]
  },
  {
   "cell_type": "markdown",
   "metadata": {},
   "source": [
    "Notice that in this new version, I am considering *names* as a column and not as the row names; then, R will use numbers in each row by default:"
   ]
  },
  {
   "cell_type": "code",
   "execution_count": 60,
   "metadata": {},
   "outputs": [
    {
     "data": {
      "text/html": [
       "<table>\n",
       "<thead><tr><th scope=col>names</th><th scope=col>ages</th><th scope=col>country</th><th scope=col>education</th></tr></thead>\n",
       "<tbody>\n",
       "\t<tr><td>Qing     </td><td>32       </td><td>China    </td><td>Bach     </td></tr>\n",
       "\t<tr><td>Françoise</td><td>33       </td><td>Senegal  </td><td>Bach     </td></tr>\n",
       "\t<tr><td>Raúl     </td><td>28       </td><td>Spain    </td><td>Master   </td></tr>\n",
       "\t<tr><td>Bjork    </td><td>30       </td><td>Norway   </td><td>PhD      </td></tr>\n",
       "</tbody>\n",
       "</table>\n"
      ],
      "text/latex": [
       "\\begin{tabular}{r|llll}\n",
       " names & ages & country & education\\\\\n",
       "\\hline\n",
       "\t Qing      & 32        & China     & Bach     \\\\\n",
       "\t Françoise & 33        & Senegal   & Bach     \\\\\n",
       "\t Raúl      & 28        & Spain     & Master   \\\\\n",
       "\t Bjork     & 30        & Norway    & PhD      \\\\\n",
       "\\end{tabular}\n"
      ],
      "text/markdown": [
       "\n",
       "names | ages | country | education | \n",
       "|---|---|---|---|\n",
       "| Qing      | 32        | China     | Bach      | \n",
       "| Françoise | 33        | Senegal   | Bach      | \n",
       "| Raúl      | 28        | Spain     | Master    | \n",
       "| Bjork     | 30        | Norway    | PhD       | \n",
       "\n",
       "\n"
      ],
      "text/plain": [
       "  names     ages country education\n",
       "1 Qing      32   China   Bach     \n",
       "2 Françoise 33   Senegal Bach     \n",
       "3 Raúl      28   Spain   Master   \n",
       "4 Bjork     30   Norway  PhD      "
      ]
     },
     "metadata": {},
     "output_type": "display_data"
    }
   ],
   "source": [
    "students"
   ]
  },
  {
   "cell_type": "markdown",
   "metadata": {},
   "source": [
    "The function _str_ showed you the dimensions of the structure (number of rows and columns); R has alternative ways to get the dimensions:"
   ]
  },
  {
   "cell_type": "code",
   "execution_count": 61,
   "metadata": {},
   "outputs": [
    {
     "data": {
      "text/html": [
       "<ol class=list-inline>\n",
       "\t<li>4</li>\n",
       "\t<li>4</li>\n",
       "</ol>\n"
      ],
      "text/latex": [
       "\\begin{enumerate*}\n",
       "\\item 4\n",
       "\\item 4\n",
       "\\end{enumerate*}\n"
      ],
      "text/markdown": [
       "1. 4\n",
       "2. 4\n",
       "\n",
       "\n"
      ],
      "text/plain": [
       "[1] 4 4"
      ]
     },
     "metadata": {},
     "output_type": "display_data"
    },
    {
     "data": {
      "text/html": [
       "4"
      ],
      "text/latex": [
       "4"
      ],
      "text/markdown": [
       "4"
      ],
      "text/plain": [
       "[1] 4"
      ]
     },
     "metadata": {},
     "output_type": "display_data"
    },
    {
     "data": {
      "text/html": [
       "4"
      ],
      "text/latex": [
       "4"
      ],
      "text/markdown": [
       "4"
      ],
      "text/plain": [
       "[1] 4"
      ]
     },
     "metadata": {},
     "output_type": "display_data"
    }
   ],
   "source": [
    "dim(students)\n",
    "\n",
    "#also\n",
    "nrow(students)  # we have ncol() too!\n",
    "\n",
    "# and very important:\n",
    "length(students)"
   ]
  },
  {
   "cell_type": "markdown",
   "metadata": {},
   "source": [
    "We know _length_ works for vectors and lists. In data frames, it gives you number of columns, NOT rows. Data frames have the functions __head()__, which is very useful to show the top rows of the dataframe:"
   ]
  },
  {
   "cell_type": "code",
   "execution_count": 62,
   "metadata": {},
   "outputs": [
    {
     "data": {
      "text/html": [
       "<table>\n",
       "<thead><tr><th scope=col>names</th><th scope=col>ages</th><th scope=col>country</th><th scope=col>education</th></tr></thead>\n",
       "<tbody>\n",
       "\t<tr><td>Qing     </td><td>32       </td><td>China    </td><td>Bach     </td></tr>\n",
       "\t<tr><td>Françoise</td><td>33       </td><td>Senegal  </td><td>Bach     </td></tr>\n",
       "</tbody>\n",
       "</table>\n"
      ],
      "text/latex": [
       "\\begin{tabular}{r|llll}\n",
       " names & ages & country & education\\\\\n",
       "\\hline\n",
       "\t Qing      & 32        & China     & Bach     \\\\\n",
       "\t Françoise & 33        & Senegal   & Bach     \\\\\n",
       "\\end{tabular}\n"
      ],
      "text/markdown": [
       "\n",
       "names | ages | country | education | \n",
       "|---|---|\n",
       "| Qing      | 32        | China     | Bach      | \n",
       "| Françoise | 33        | Senegal   | Bach      | \n",
       "\n",
       "\n"
      ],
      "text/plain": [
       "  names     ages country education\n",
       "1 Qing      32   China   Bach     \n",
       "2 Françoise 33   Senegal Bach     "
      ]
     },
     "metadata": {},
     "output_type": "display_data"
    }
   ],
   "source": [
    "head(students,2) # top 2"
   ]
  },
  {
   "cell_type": "markdown",
   "metadata": {},
   "source": [
    "Of course, we have __tail__:"
   ]
  },
  {
   "cell_type": "code",
   "execution_count": 64,
   "metadata": {},
   "outputs": [
    {
     "data": {
      "text/html": [
       "<table>\n",
       "<thead><tr><th></th><th scope=col>names</th><th scope=col>ages</th><th scope=col>country</th><th scope=col>education</th></tr></thead>\n",
       "<tbody>\n",
       "\t<tr><th scope=row>3</th><td>Raúl  </td><td>28    </td><td>Spain </td><td>Master</td></tr>\n",
       "\t<tr><th scope=row>4</th><td>Bjork </td><td>30    </td><td>Norway</td><td>PhD   </td></tr>\n",
       "</tbody>\n",
       "</table>\n"
      ],
      "text/latex": [
       "\\begin{tabular}{r|llll}\n",
       "  & names & ages & country & education\\\\\n",
       "\\hline\n",
       "\t3 & Raúl   & 28     & Spain  & Master\\\\\n",
       "\t4 & Bjork  & 30     & Norway & PhD   \\\\\n",
       "\\end{tabular}\n"
      ],
      "text/markdown": [
       "\n",
       "| <!--/--> | names | ages | country | education | \n",
       "|---|---|\n",
       "| 3 | Raúl   | 28     | Spain  | Master | \n",
       "| 4 | Bjork  | 30     | Norway | PhD    | \n",
       "\n",
       "\n"
      ],
      "text/plain": [
       "  names ages country education\n",
       "3 Raúl  28   Spain   Master   \n",
       "4 Bjork 30   Norway  PhD      "
      ]
     },
     "metadata": {},
     "output_type": "display_data"
    }
   ],
   "source": [
    "tail(students,2) # last 2"
   ]
  },
  {
   "cell_type": "markdown",
   "metadata": {},
   "source": [
    "You can access data frames elements in an easy way:"
   ]
  },
  {
   "cell_type": "code",
   "execution_count": 65,
   "metadata": {},
   "outputs": [
    {
     "data": {
      "text/html": [
       "<ol class=list-inline>\n",
       "\t<li>'Qing'</li>\n",
       "\t<li>'Françoise'</li>\n",
       "\t<li>'Raúl'</li>\n",
       "\t<li>'Bjork'</li>\n",
       "</ol>\n"
      ],
      "text/latex": [
       "\\begin{enumerate*}\n",
       "\\item 'Qing'\n",
       "\\item 'Françoise'\n",
       "\\item 'Raúl'\n",
       "\\item 'Bjork'\n",
       "\\end{enumerate*}\n"
      ],
      "text/markdown": [
       "1. 'Qing'\n",
       "2. 'Françoise'\n",
       "3. 'Raúl'\n",
       "4. 'Bjork'\n",
       "\n",
       "\n"
      ],
      "text/plain": [
       "[1] \"Qing\"      \"Françoise\" \"Raúl\"      \"Bjork\"    "
      ]
     },
     "metadata": {},
     "output_type": "display_data"
    },
    {
     "data": {
      "text/html": [
       "<table>\n",
       "<thead><tr><th scope=col>names</th><th scope=col>education</th></tr></thead>\n",
       "<tbody>\n",
       "\t<tr><td>Qing     </td><td>Bach     </td></tr>\n",
       "\t<tr><td>Françoise</td><td>Bach     </td></tr>\n",
       "\t<tr><td>Raúl     </td><td>Master   </td></tr>\n",
       "\t<tr><td>Bjork    </td><td>PhD      </td></tr>\n",
       "</tbody>\n",
       "</table>\n"
      ],
      "text/latex": [
       "\\begin{tabular}{r|ll}\n",
       " names & education\\\\\n",
       "\\hline\n",
       "\t Qing      & Bach     \\\\\n",
       "\t Françoise & Bach     \\\\\n",
       "\t Raúl      & Master   \\\\\n",
       "\t Bjork     & PhD      \\\\\n",
       "\\end{tabular}\n"
      ],
      "text/markdown": [
       "\n",
       "names | education | \n",
       "|---|---|---|---|\n",
       "| Qing      | Bach      | \n",
       "| Françoise | Bach      | \n",
       "| Raúl      | Master    | \n",
       "| Bjork     | PhD       | \n",
       "\n",
       "\n"
      ],
      "text/plain": [
       "  names     education\n",
       "1 Qing      Bach     \n",
       "2 Françoise Bach     \n",
       "3 Raúl      Master   \n",
       "4 Bjork     PhD      "
      ]
     },
     "metadata": {},
     "output_type": "display_data"
    },
    {
     "data": {
      "text/html": [
       "<table>\n",
       "<thead><tr><th scope=col>names</th><th scope=col>education</th></tr></thead>\n",
       "<tbody>\n",
       "\t<tr><td>Qing     </td><td>Bach     </td></tr>\n",
       "\t<tr><td>Françoise</td><td>Bach     </td></tr>\n",
       "\t<tr><td>Raúl     </td><td>Master   </td></tr>\n",
       "\t<tr><td>Bjork    </td><td>PhD      </td></tr>\n",
       "</tbody>\n",
       "</table>\n"
      ],
      "text/latex": [
       "\\begin{tabular}{r|ll}\n",
       " names & education\\\\\n",
       "\\hline\n",
       "\t Qing      & Bach     \\\\\n",
       "\t Françoise & Bach     \\\\\n",
       "\t Raúl      & Master   \\\\\n",
       "\t Bjork     & PhD      \\\\\n",
       "\\end{tabular}\n"
      ],
      "text/markdown": [
       "\n",
       "names | education | \n",
       "|---|---|---|---|\n",
       "| Qing      | Bach      | \n",
       "| Françoise | Bach      | \n",
       "| Raúl      | Master    | \n",
       "| Bjork     | PhD       | \n",
       "\n",
       "\n"
      ],
      "text/plain": [
       "  names     education\n",
       "1 Qing      Bach     \n",
       "2 Françoise Bach     \n",
       "3 Raúl      Master   \n",
       "4 Bjork     PhD      "
      ]
     },
     "metadata": {},
     "output_type": "display_data"
    }
   ],
   "source": [
    "# one particular column\n",
    "students$names\n",
    "# two columns using positions\n",
    "students[,c(1,4)]\n",
    "## two columns using names of columns\n",
    "students[,c('names','education')]"
   ]
  },
  {
   "cell_type": "markdown",
   "metadata": {},
   "source": [
    "Using positions is the best way to get several columns:"
   ]
  },
  {
   "cell_type": "code",
   "execution_count": 66,
   "metadata": {},
   "outputs": [
    {
     "data": {
      "text/html": [
       "<table>\n",
       "<thead><tr><th scope=col>names</th><th scope=col>ages</th><th scope=col>country</th></tr></thead>\n",
       "<tbody>\n",
       "\t<tr><td>Qing     </td><td>32       </td><td>China    </td></tr>\n",
       "\t<tr><td>Françoise</td><td>33       </td><td>Senegal  </td></tr>\n",
       "\t<tr><td>Raúl     </td><td>28       </td><td>Spain    </td></tr>\n",
       "\t<tr><td>Bjork    </td><td>30       </td><td>Norway   </td></tr>\n",
       "</tbody>\n",
       "</table>\n"
      ],
      "text/latex": [
       "\\begin{tabular}{r|lll}\n",
       " names & ages & country\\\\\n",
       "\\hline\n",
       "\t Qing      & 32        & China    \\\\\n",
       "\t Françoise & 33        & Senegal  \\\\\n",
       "\t Raúl      & 28        & Spain    \\\\\n",
       "\t Bjork     & 30        & Norway   \\\\\n",
       "\\end{tabular}\n"
      ],
      "text/markdown": [
       "\n",
       "names | ages | country | \n",
       "|---|---|---|---|\n",
       "| Qing      | 32        | China     | \n",
       "| Françoise | 33        | Senegal   | \n",
       "| Raúl      | 28        | Spain     | \n",
       "| Bjork     | 30        | Norway    | \n",
       "\n",
       "\n"
      ],
      "text/plain": [
       "  names     ages country\n",
       "1 Qing      32   China  \n",
       "2 Françoise 33   Senegal\n",
       "3 Raúl      28   Spain  \n",
       "4 Bjork     30   Norway "
      ]
     },
     "metadata": {},
     "output_type": "display_data"
    }
   ],
   "source": [
    "students[,c(1:3)] # ':' is used to facilitate 'from-to' sequence"
   ]
  },
  {
   "cell_type": "markdown",
   "metadata": {},
   "source": [
    "Of course, you can create a new object with **subsets**:"
   ]
  },
  {
   "cell_type": "code",
   "execution_count": 67,
   "metadata": {},
   "outputs": [
    {
     "data": {
      "text/html": [
       "<table>\n",
       "<thead><tr><th scope=col>names</th><th scope=col>ages</th><th scope=col>country</th></tr></thead>\n",
       "<tbody>\n",
       "\t<tr><td>Qing     </td><td>32       </td><td>China    </td></tr>\n",
       "\t<tr><td>Françoise</td><td>33       </td><td>Senegal  </td></tr>\n",
       "\t<tr><td>Raúl     </td><td>28       </td><td>Spain    </td></tr>\n",
       "\t<tr><td>Bjork    </td><td>30       </td><td>Norway   </td></tr>\n",
       "</tbody>\n",
       "</table>\n"
      ],
      "text/latex": [
       "\\begin{tabular}{r|lll}\n",
       " names & ages & country\\\\\n",
       "\\hline\n",
       "\t Qing      & 32        & China    \\\\\n",
       "\t Françoise & 33        & Senegal  \\\\\n",
       "\t Raúl      & 28        & Spain    \\\\\n",
       "\t Bjork     & 30        & Norway   \\\\\n",
       "\\end{tabular}\n"
      ],
      "text/markdown": [
       "\n",
       "names | ages | country | \n",
       "|---|---|---|---|\n",
       "| Qing      | 32        | China     | \n",
       "| Françoise | 33        | Senegal   | \n",
       "| Raúl      | 28        | Spain     | \n",
       "| Bjork     | 30        | Norway    | \n",
       "\n",
       "\n"
      ],
      "text/plain": [
       "  names     ages country\n",
       "1 Qing      32   China  \n",
       "2 Françoise 33   Senegal\n",
       "3 Raúl      28   Spain  \n",
       "4 Bjork     30   Norway "
      ]
     },
     "metadata": {},
     "output_type": "display_data"
    }
   ],
   "source": [
    "studentsNoEd=students[,c(1:3)]\n",
    "studentsNoEd"
   ]
  },
  {
   "cell_type": "markdown",
   "metadata": {},
   "source": [
    "You can modify any values in a data frame. Let me create a copy of this data frame to play with:\n"
   ]
  },
  {
   "cell_type": "code",
   "execution_count": 68,
   "metadata": {},
   "outputs": [],
   "source": [
    "studentsCopy=students # I make a copy to avoid altering my original dataframe"
   ]
  },
  {
   "cell_type": "markdown",
   "metadata": {},
   "source": [
    "Now, I can change the age of Qing to 23 replacing 32:"
   ]
  },
  {
   "cell_type": "code",
   "execution_count": 69,
   "metadata": {},
   "outputs": [
    {
     "data": {
      "text/html": [
       "<table>\n",
       "<thead><tr><th scope=col>names</th><th scope=col>ages</th><th scope=col>country</th><th scope=col>education</th></tr></thead>\n",
       "<tbody>\n",
       "\t<tr><td>Qing </td><td>23   </td><td>China</td><td>Bach </td></tr>\n",
       "</tbody>\n",
       "</table>\n"
      ],
      "text/latex": [
       "\\begin{tabular}{r|llll}\n",
       " names & ages & country & education\\\\\n",
       "\\hline\n",
       "\t Qing  & 23    & China & Bach \\\\\n",
       "\\end{tabular}\n"
      ],
      "text/markdown": [
       "\n",
       "names | ages | country | education | \n",
       "|---|\n",
       "| Qing  | 23    | China | Bach  | \n",
       "\n",
       "\n"
      ],
      "text/plain": [
       "  names ages country education\n",
       "1 Qing  23   China   Bach     "
      ]
     },
     "metadata": {},
     "output_type": "display_data"
    }
   ],
   "source": [
    "studentsCopy[1,2]=23\n",
    "# change is immediate! (you will not get any warning)\n",
    "studentsCopy[1,]"
   ]
  },
  {
   "cell_type": "markdown",
   "metadata": {},
   "source": [
    "We can set a column as **missing**:"
   ]
  },
  {
   "cell_type": "code",
   "execution_count": 70,
   "metadata": {},
   "outputs": [],
   "source": [
    "studentsCopy$country=NA"
   ]
  },
  {
   "cell_type": "code",
   "execution_count": 71,
   "metadata": {},
   "outputs": [
    {
     "data": {
      "text/html": [
       "<table>\n",
       "<thead><tr><th scope=col>names</th><th scope=col>ages</th><th scope=col>country</th><th scope=col>education</th></tr></thead>\n",
       "<tbody>\n",
       "\t<tr><td>Qing     </td><td>23       </td><td>NA       </td><td>Bach     </td></tr>\n",
       "\t<tr><td>Françoise</td><td>33       </td><td>NA       </td><td>Bach     </td></tr>\n",
       "\t<tr><td>Raúl     </td><td>28       </td><td>NA       </td><td>Master   </td></tr>\n",
       "\t<tr><td>Bjork    </td><td>30       </td><td>NA       </td><td>PhD      </td></tr>\n",
       "</tbody>\n",
       "</table>\n"
      ],
      "text/latex": [
       "\\begin{tabular}{r|llll}\n",
       " names & ages & country & education\\\\\n",
       "\\hline\n",
       "\t Qing      & 23        & NA        & Bach     \\\\\n",
       "\t Françoise & 33        & NA        & Bach     \\\\\n",
       "\t Raúl      & 28        & NA        & Master   \\\\\n",
       "\t Bjork     & 30        & NA        & PhD      \\\\\n",
       "\\end{tabular}\n"
      ],
      "text/markdown": [
       "\n",
       "names | ages | country | education | \n",
       "|---|---|---|---|\n",
       "| Qing      | 23        | NA        | Bach      | \n",
       "| Françoise | 33        | NA        | Bach      | \n",
       "| Raúl      | 28        | NA        | Master    | \n",
       "| Bjork     | 30        | NA        | PhD       | \n",
       "\n",
       "\n"
      ],
      "text/plain": [
       "  names     ages country education\n",
       "1 Qing      23   NA      Bach     \n",
       "2 Françoise 33   NA      Bach     \n",
       "3 Raúl      28   NA      Master   \n",
       "4 Bjork     30   NA      PhD      "
      ]
     },
     "metadata": {},
     "output_type": "display_data"
    }
   ],
   "source": [
    "studentsCopy"
   ]
  },
  {
   "cell_type": "markdown",
   "metadata": {},
   "source": [
    "And, delete a column by **null**ing it:"
   ]
  },
  {
   "cell_type": "code",
   "execution_count": 72,
   "metadata": {},
   "outputs": [],
   "source": [
    "studentsCopy$ages=NULL"
   ]
  },
  {
   "cell_type": "code",
   "execution_count": 73,
   "metadata": {},
   "outputs": [
    {
     "data": {
      "text/html": [
       "<table>\n",
       "<thead><tr><th scope=col>names</th><th scope=col>country</th><th scope=col>education</th></tr></thead>\n",
       "<tbody>\n",
       "\t<tr><td>Qing     </td><td>NA       </td><td>Bach     </td></tr>\n",
       "\t<tr><td>Françoise</td><td>NA       </td><td>Bach     </td></tr>\n",
       "\t<tr><td>Raúl     </td><td>NA       </td><td>Master   </td></tr>\n",
       "\t<tr><td>Bjork    </td><td>NA       </td><td>PhD      </td></tr>\n",
       "</tbody>\n",
       "</table>\n"
      ],
      "text/latex": [
       "\\begin{tabular}{r|lll}\n",
       " names & country & education\\\\\n",
       "\\hline\n",
       "\t Qing      & NA        & Bach     \\\\\n",
       "\t Françoise & NA        & Bach     \\\\\n",
       "\t Raúl      & NA        & Master   \\\\\n",
       "\t Bjork     & NA        & PhD      \\\\\n",
       "\\end{tabular}\n"
      ],
      "text/markdown": [
       "\n",
       "names | country | education | \n",
       "|---|---|---|---|\n",
       "| Qing      | NA        | Bach      | \n",
       "| Françoise | NA        | Bach      | \n",
       "| Raúl      | NA        | Master    | \n",
       "| Bjork     | NA        | PhD       | \n",
       "\n",
       "\n"
      ],
      "text/plain": [
       "  names     country education\n",
       "1 Qing      NA      Bach     \n",
       "2 Françoise NA      Bach     \n",
       "3 Raúl      NA      Master   \n",
       "4 Bjork     NA      PhD      "
      ]
     },
     "metadata": {},
     "output_type": "display_data"
    }
   ],
   "source": [
    "studentsCopy"
   ]
  },
  {
   "cell_type": "markdown",
   "metadata": {},
   "source": [
    "### Querying Data Frames:"
   ]
  },
  {
   "cell_type": "markdown",
   "metadata": {},
   "source": [
    "Once you have a data frame you can start writing interesting queries (notice the use of _commas_):"
   ]
  },
  {
   "cell_type": "markdown",
   "metadata": {},
   "source": [
    "**Who is the oldest in the group?**"
   ]
  },
  {
   "cell_type": "code",
   "execution_count": 74,
   "metadata": {},
   "outputs": [
    {
     "data": {
      "text/html": [
       "<table>\n",
       "<thead><tr><th></th><th scope=col>names</th><th scope=col>ages</th><th scope=col>country</th><th scope=col>education</th></tr></thead>\n",
       "<tbody>\n",
       "\t<tr><th scope=row>2</th><td>Françoise</td><td>33       </td><td>Senegal  </td><td>Bach     </td></tr>\n",
       "</tbody>\n",
       "</table>\n"
      ],
      "text/latex": [
       "\\begin{tabular}{r|llll}\n",
       "  & names & ages & country & education\\\\\n",
       "\\hline\n",
       "\t2 & Françoise & 33        & Senegal   & Bach     \\\\\n",
       "\\end{tabular}\n"
      ],
      "text/markdown": [
       "\n",
       "| <!--/--> | names | ages | country | education | \n",
       "|---|\n",
       "| 2 | Françoise | 33        | Senegal   | Bach      | \n",
       "\n",
       "\n"
      ],
      "text/plain": [
       "  names     ages country education\n",
       "2 Françoise 33   Senegal Bach     "
      ]
     },
     "metadata": {},
     "output_type": "display_data"
    }
   ],
   "source": [
    "students[which.max(students$ages),] "
   ]
  },
  {
   "cell_type": "markdown",
   "metadata": {},
   "source": [
    "**Who is the youngest in the group?**"
   ]
  },
  {
   "cell_type": "code",
   "execution_count": 75,
   "metadata": {},
   "outputs": [
    {
     "data": {
      "text/html": [
       "<table>\n",
       "<thead><tr><th></th><th scope=col>names</th><th scope=col>ages</th><th scope=col>country</th><th scope=col>education</th></tr></thead>\n",
       "<tbody>\n",
       "\t<tr><th scope=row>3</th><td>Raúl  </td><td>28    </td><td>Spain </td><td>Master</td></tr>\n",
       "</tbody>\n",
       "</table>\n"
      ],
      "text/latex": [
       "\\begin{tabular}{r|llll}\n",
       "  & names & ages & country & education\\\\\n",
       "\\hline\n",
       "\t3 & Raúl   & 28     & Spain  & Master\\\\\n",
       "\\end{tabular}\n"
      ],
      "text/markdown": [
       "\n",
       "| <!--/--> | names | ages | country | education | \n",
       "|---|\n",
       "| 3 | Raúl   | 28     | Spain  | Master | \n",
       "\n",
       "\n"
      ],
      "text/plain": [
       "  names ages country education\n",
       "3 Raúl  28   Spain   Master   "
      ]
     },
     "metadata": {},
     "output_type": "display_data"
    }
   ],
   "source": [
    "students[which.min(students$ages),] "
   ]
  },
  {
   "cell_type": "markdown",
   "metadata": {},
   "source": [
    "**Who is above 30 and from China?**"
   ]
  },
  {
   "cell_type": "code",
   "execution_count": 76,
   "metadata": {},
   "outputs": [
    {
     "data": {
      "text/html": [
       "<table>\n",
       "<thead><tr><th scope=col>names</th><th scope=col>ages</th><th scope=col>country</th><th scope=col>education</th></tr></thead>\n",
       "<tbody>\n",
       "\t<tr><td>Qing </td><td>32   </td><td>China</td><td>Bach </td></tr>\n",
       "</tbody>\n",
       "</table>\n"
      ],
      "text/latex": [
       "\\begin{tabular}{r|llll}\n",
       " names & ages & country & education\\\\\n",
       "\\hline\n",
       "\t Qing  & 32    & China & Bach \\\\\n",
       "\\end{tabular}\n"
      ],
      "text/markdown": [
       "\n",
       "names | ages | country | education | \n",
       "|---|\n",
       "| Qing  | 32    | China | Bach  | \n",
       "\n",
       "\n"
      ],
      "text/plain": [
       "  names ages country education\n",
       "1 Qing  32   China   Bach     "
      ]
     },
     "metadata": {},
     "output_type": "display_data"
    }
   ],
   "source": [
    "students[students$ages>30 & students$country=='China',] "
   ]
  },
  {
   "cell_type": "markdown",
   "metadata": {},
   "source": [
    "**Who is not from Norway?**"
   ]
  },
  {
   "cell_type": "code",
   "execution_count": 77,
   "metadata": {},
   "outputs": [
    {
     "data": {
      "text/html": [
       "<table>\n",
       "<thead><tr><th scope=col>names</th><th scope=col>ages</th><th scope=col>country</th><th scope=col>education</th></tr></thead>\n",
       "<tbody>\n",
       "\t<tr><td>Qing     </td><td>32       </td><td>China    </td><td>Bach     </td></tr>\n",
       "\t<tr><td>Françoise</td><td>33       </td><td>Senegal  </td><td>Bach     </td></tr>\n",
       "\t<tr><td>Raúl     </td><td>28       </td><td>Spain    </td><td>Master   </td></tr>\n",
       "</tbody>\n",
       "</table>\n"
      ],
      "text/latex": [
       "\\begin{tabular}{r|llll}\n",
       " names & ages & country & education\\\\\n",
       "\\hline\n",
       "\t Qing      & 32        & China     & Bach     \\\\\n",
       "\t Françoise & 33        & Senegal   & Bach     \\\\\n",
       "\t Raúl      & 28        & Spain     & Master   \\\\\n",
       "\\end{tabular}\n"
      ],
      "text/markdown": [
       "\n",
       "names | ages | country | education | \n",
       "|---|---|---|\n",
       "| Qing      | 32        | China     | Bach      | \n",
       "| Françoise | 33        | Senegal   | Bach      | \n",
       "| Raúl      | 28        | Spain     | Master    | \n",
       "\n",
       "\n"
      ],
      "text/plain": [
       "  names     ages country education\n",
       "1 Qing      32   China   Bach     \n",
       "2 Françoise 33   Senegal Bach     \n",
       "3 Raúl      28   Spain   Master   "
      ]
     },
     "metadata": {},
     "output_type": "display_data"
    }
   ],
   "source": [
    "students[students$country!=\"Norway\",] "
   ]
  },
  {
   "cell_type": "code",
   "execution_count": null,
   "metadata": {},
   "outputs": [],
   "source": []
  },
  {
   "cell_type": "markdown",
   "metadata": {},
   "source": [
    "**Who is from one of these?**"
   ]
  },
  {
   "cell_type": "code",
   "execution_count": 79,
   "metadata": {},
   "outputs": [
    {
     "data": {
      "text/html": [
       "<table>\n",
       "<thead><tr><th></th><th scope=col>names</th><th scope=col>ages</th><th scope=col>country</th><th scope=col>education</th></tr></thead>\n",
       "<tbody>\n",
       "\t<tr><th scope=row>3</th><td>Raúl  </td><td>28    </td><td>Spain </td><td>Master</td></tr>\n",
       "</tbody>\n",
       "</table>\n"
      ],
      "text/latex": [
       "\\begin{tabular}{r|llll}\n",
       "  & names & ages & country & education\\\\\n",
       "\\hline\n",
       "\t3 & Raúl   & 28     & Spain  & Master\\\\\n",
       "\\end{tabular}\n"
      ],
      "text/markdown": [
       "\n",
       "| <!--/--> | names | ages | country | education | \n",
       "|---|\n",
       "| 3 | Raúl   | 28     | Spain  | Master | \n",
       "\n",
       "\n"
      ],
      "text/plain": [
       "  names ages country education\n",
       "3 Raúl  28   Spain   Master   "
      ]
     },
     "metadata": {},
     "output_type": "display_data"
    }
   ],
   "source": [
    "Places=c(\"Peru\", \"USA\", \"Spain\")\n",
    "students[students$country %in% Places,] "
   ]
  },
  {
   "cell_type": "code",
   "execution_count": 80,
   "metadata": {},
   "outputs": [
    {
     "data": {
      "text/html": [
       "<table>\n",
       "<thead><tr><th></th><th scope=col>names</th><th scope=col>ages</th><th scope=col>country</th><th scope=col>education</th></tr></thead>\n",
       "<tbody>\n",
       "\t<tr><th scope=row>1</th><td>Qing     </td><td>32       </td><td>China    </td><td>Bach     </td></tr>\n",
       "\t<tr><th scope=row>2</th><td>Françoise</td><td>33       </td><td>Senegal  </td><td>Bach     </td></tr>\n",
       "\t<tr><th scope=row>4</th><td>Bjork    </td><td>30       </td><td>Norway   </td><td>PhD      </td></tr>\n",
       "</tbody>\n",
       "</table>\n"
      ],
      "text/latex": [
       "\\begin{tabular}{r|llll}\n",
       "  & names & ages & country & education\\\\\n",
       "\\hline\n",
       "\t1 & Qing      & 32        & China     & Bach     \\\\\n",
       "\t2 & Françoise & 33        & Senegal   & Bach     \\\\\n",
       "\t4 & Bjork     & 30        & Norway    & PhD      \\\\\n",
       "\\end{tabular}\n"
      ],
      "text/markdown": [
       "\n",
       "| <!--/--> | names | ages | country | education | \n",
       "|---|---|---|\n",
       "| 1 | Qing      | 32        | China     | Bach      | \n",
       "| 2 | Françoise | 33        | Senegal   | Bach      | \n",
       "| 4 | Bjork     | 30        | Norway    | PhD       | \n",
       "\n",
       "\n"
      ],
      "text/plain": [
       "  names     ages country education\n",
       "1 Qing      32   China   Bach     \n",
       "2 Françoise 33   Senegal Bach     \n",
       "4 Bjork     30   Norway  PhD      "
      ]
     },
     "metadata": {},
     "output_type": "display_data"
    }
   ],
   "source": [
    "# the opposite\n",
    "students[!students$country %in% Places,] "
   ]
  },
  {
   "cell_type": "markdown",
   "metadata": {},
   "source": [
    "**The education level of the one above 30 and from China?**"
   ]
  },
  {
   "cell_type": "code",
   "execution_count": 81,
   "metadata": {},
   "outputs": [
    {
     "data": {
      "text/html": [
       "'Bach'"
      ],
      "text/latex": [
       "'Bach'"
      ],
      "text/markdown": [
       "'Bach'"
      ],
      "text/plain": [
       "[1] \"Bach\""
      ]
     },
     "metadata": {},
     "output_type": "display_data"
    }
   ],
   "source": [
    "students[students$ages>30 & students$country=='China',]$education "
   ]
  },
  {
   "cell_type": "markdown",
   "metadata": {},
   "source": [
    "**Show me the data ordered by age (decreasing)?**"
   ]
  },
  {
   "cell_type": "code",
   "execution_count": 82,
   "metadata": {},
   "outputs": [
    {
     "data": {
      "text/html": [
       "<table>\n",
       "<thead><tr><th></th><th scope=col>names</th><th scope=col>ages</th><th scope=col>country</th><th scope=col>education</th></tr></thead>\n",
       "<tbody>\n",
       "\t<tr><th scope=row>2</th><td>Françoise</td><td>33       </td><td>Senegal  </td><td>Bach     </td></tr>\n",
       "\t<tr><th scope=row>1</th><td>Qing     </td><td>32       </td><td>China    </td><td>Bach     </td></tr>\n",
       "\t<tr><th scope=row>4</th><td>Bjork    </td><td>30       </td><td>Norway   </td><td>PhD      </td></tr>\n",
       "\t<tr><th scope=row>3</th><td>Raúl     </td><td>28       </td><td>Spain    </td><td>Master   </td></tr>\n",
       "</tbody>\n",
       "</table>\n"
      ],
      "text/latex": [
       "\\begin{tabular}{r|llll}\n",
       "  & names & ages & country & education\\\\\n",
       "\\hline\n",
       "\t2 & Françoise & 33        & Senegal   & Bach     \\\\\n",
       "\t1 & Qing      & 32        & China     & Bach     \\\\\n",
       "\t4 & Bjork     & 30        & Norway    & PhD      \\\\\n",
       "\t3 & Raúl      & 28        & Spain     & Master   \\\\\n",
       "\\end{tabular}\n"
      ],
      "text/markdown": [
       "\n",
       "| <!--/--> | names | ages | country | education | \n",
       "|---|---|---|---|\n",
       "| 2 | Françoise | 33        | Senegal   | Bach      | \n",
       "| 1 | Qing      | 32        | China     | Bach      | \n",
       "| 4 | Bjork     | 30        | Norway    | PhD       | \n",
       "| 3 | Raúl      | 28        | Spain     | Master    | \n",
       "\n",
       "\n"
      ],
      "text/plain": [
       "  names     ages country education\n",
       "2 Françoise 33   Senegal Bach     \n",
       "1 Qing      32   China   Bach     \n",
       "4 Bjork     30   Norway  PhD      \n",
       "3 Raúl      28   Spain   Master   "
      ]
     },
     "metadata": {},
     "output_type": "display_data"
    }
   ],
   "source": [
    "\n",
    "students[order(-students$ages),]\n",
    "\n"
   ]
  },
  {
   "cell_type": "markdown",
   "metadata": {},
   "source": [
    "\n",
    "----\n",
    "\n",
    "* [Go to page beginning](#beginning)\n",
    "* [Go to Course schedule](https://ds4ps.org/ddmp-uw-class-spring-2019/schedule/)\n",
    "\n",
    "_____\n",
    "### Footnotes\n",
    "<sup id=\"fn1\">1</sup>Vectors can get combined into a matrix and matrices into arrays, these are structures needed when doing some nice math. We are not covering those in the course. <a href=\"#ref1\" >&#8593;</a>\n",
    "\n"
   ]
  },
  {
   "cell_type": "code",
   "execution_count": null,
   "metadata": {},
   "outputs": [],
   "source": []
  }
 ],
 "metadata": {
  "hide_input": false,
  "kernelspec": {
   "display_name": "R",
   "language": "R",
   "name": "ir"
  },
  "language_info": {
   "codemirror_mode": "r",
   "file_extension": ".r",
   "mimetype": "text/x-r-source",
   "name": "R",
   "pygments_lexer": "r",
   "version": "3.5.1"
  }
 },
 "nbformat": 4,
 "nbformat_minor": 2
}
