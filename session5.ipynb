{
 "cells": [
  {
   "cell_type": "markdown",
   "metadata": {},
   "source": [
    "<br> \n",
    "<center><img src=\"http://i.imgur.com/sSaOozN.png\" width=\"500\"></center>\n",
    "\n",
    "\n",
    "## Course: Data-Driven Management and Policy\n",
    "\n",
    "### Prof. José Manuel Magallanes, PhD \n",
    "\n",
    "_____\n",
    "\n",
    "\n",
    "# Session 5: Intro to Visualization\n",
    "\n",
    "<a id='toc'></a>\n",
    "_____\n",
    "\n",
    "Contents:\n",
    "\n",
    "Part 1:\n",
    "\n",
    "1. [Nominal Visualization.](#nominalviz)\n",
    "2. [Ordinal Visualization.](#ordinalviz)\n",
    "3. [Integers Visualization.](#integerviz)\n",
    "4. [Decimals Visualization.](#decimalviz)\n",
    "\n",
    "Part 2: [Customizing visual elements.](#customviz)\n",
    "\n",
    "1. [Titles](#titles)\n",
    "2. [Changing color](#color)\n",
    "3. [Working on axes](#axes)\n",
    "4. [Reference lines](#references)\n",
    "5. [Annotation](#annotation)\n",
    "6. [Alternatives](#alternatives)\n",
    "\n",
    "\n",
    "\n",
    "\n",
    "\n",
    "_____\n",
    "\n",
    "We are very familiar with data frames and data types. From that knowledge we will learn how information can be obtained using a visual approach. \n",
    "\n",
    "Let me get some data from the [website](https://nces.ed.gov/ccd/) of the Common Core of Data from the US Department of Education. There you can get a data set with detailed information on public schools at the state of Washington:"
   ]
  },
  {
   "cell_type": "code",
   "execution_count": null,
   "metadata": {},
   "outputs": [],
   "source": [
    "\n",
    "link='https://github.com/EvansDataScience/VisualAnalytics_2_tabularData/raw/master/data/eduwa.rda'\n",
    "\n",
    "#getting the data TABLE from the file in the cloud:\n",
    "load(file=url(link))"
   ]
  },
  {
   "cell_type": "markdown",
   "metadata": {},
   "source": [
    "Generally speaking, you have either _categorical_ or _numerical_ data in each column, and whatever question you have, you first need to know how that variable you are planing to use has been encoded:"
   ]
  },
  {
   "cell_type": "code",
   "execution_count": null,
   "metadata": {},
   "outputs": [],
   "source": [
    "\n",
    "# this 'width = 70,strict.width='cut' means\n",
    "# you do not want to see more than 70 characters per row.\n",
    "\n",
    "str(eduwa,width = 70,strict.width='cut')"
   ]
  },
  {
   "cell_type": "markdown",
   "metadata": {},
   "source": [
    "The ones that say **num** are obviously numbers (numbers in R are *numeric* when decimal values are detected, and *integer* if they are not). The ones that say **chr** are strings, which are _candidates_ to be  **key** columns, which are not variables themselves, but identifiers of the cases. In this case, the first four are identifiers, as well as the the 7th, 10th and 15th columns (*school names*, _address_ and _phone_, respectively). Those variables are not to be analyzed statistically, but may be used for annotating (7th and 15th column) or for geocoding (10th column). Notice that for these data, _State_ is not to be analyzed as it is a constant (all rows are from WA); but it would be if the data were from the whole USA. Then, you see several variables identified as _factor_ or _ordered factor_, which are categorical variables: they can be analyzed statistically but not in the same way that numbers.\n",
    "\n",
    "_______\n",
    "\n",
    "\n",
    "<a id='nominalviz'></a>\n",
    "\n",
    "#### <span style=\"color:blue\"> 1. Visualization for nominal scales</span>\n",
    "\n",
    "\n",
    "You can  get a clear idea of what a categorical data has by producing a simple **frequency table**:"
   ]
  },
  {
   "cell_type": "code",
   "execution_count": null,
   "metadata": {},
   "outputs": [],
   "source": [
    "\n",
    "# absolute values\n",
    "table(eduwa$LocaleType,exclude = 'nothing')"
   ]
  },
  {
   "cell_type": "code",
   "execution_count": null,
   "metadata": {},
   "outputs": [],
   "source": [
    "\n",
    "# relative values\n",
    "absoluteT=table(eduwa$LocaleType,exclude = 'nothing')\n",
    "prop.table(absoluteT)"
   ]
  },
  {
   "cell_type": "markdown",
   "metadata": {},
   "source": [
    "You may want to give a name to the missing values. However, when the column is a factor, you may need something like this:"
   ]
  },
  {
   "cell_type": "code",
   "execution_count": null,
   "metadata": {},
   "outputs": [],
   "source": [
    "\n",
    "library(forcats)\n",
    "\n",
    "eduwa$LocaleType=fct_explicit_na(eduwa$LocaleType, \"Unknown\")"
   ]
  },
  {
   "cell_type": "markdown",
   "metadata": {},
   "source": [
    "The basic option for nominal data is a barplot. However, most people tend to use pie charts with categorical data, but this **should not** be the default option to visualize classification (see this [discussion](https://medium.com/geckoboard-under-the-hood/think-before-you-pie-chart-and-more-effective-ways-to-visualize-your-data-862ea3456b26)). \n",
    "\n",
    "Let's start by calling the library to use:"
   ]
  },
  {
   "cell_type": "code",
   "execution_count": null,
   "metadata": {},
   "outputs": [],
   "source": [
    "\n",
    "library(ggplot2)"
   ]
  },
  {
   "cell_type": "markdown",
   "metadata": {},
   "source": [
    "* For categorical, create a frequency table as a data frane:"
   ]
  },
  {
   "cell_type": "code",
   "execution_count": null,
   "metadata": {},
   "outputs": [],
   "source": [
    "\n",
    "frTable=as.data.frame(table(eduwa$LocaleType))\n",
    "names(frTable)=c('Type','Count')"
   ]
  },
  {
   "cell_type": "markdown",
   "metadata": {},
   "source": [
    "* Create the base _object_, which is not a plot, just informing the variable to plot:"
   ]
  },
  {
   "cell_type": "code",
   "execution_count": null,
   "metadata": {},
   "outputs": [],
   "source": [
    "\n",
    "baseNom= ggplot(data = frTable, \n",
    "             aes(x=Type, y=Count)) "
   ]
  },
  {
   "cell_type": "markdown",
   "metadata": {},
   "source": [
    "* Request what \"geometry\" you want:"
   ]
  },
  {
   "cell_type": "code",
   "execution_count": null,
   "metadata": {},
   "outputs": [],
   "source": [
    "\n",
    "barNom=baseNom + geom_bar(stat = 'identity')\n",
    "barNom"
   ]
  },
  {
   "cell_type": "markdown",
   "metadata": {},
   "source": [
    "* For barplots, you may need the proportions instead, so alter the geometry like this:"
   ]
  },
  {
   "cell_type": "code",
   "execution_count": null,
   "metadata": {},
   "outputs": [],
   "source": [
    "\n",
    "frTableProp=as.data.frame(prop.table(table(eduwa$LocaleType)))\n",
    "names(frTableProp)=c('Type','Percent')\n",
    "\n",
    "baseNomProp= ggplot(data = frTableProp, \n",
    "             aes(x=Type, y=Percent))\n",
    "\n",
    "barNomProp=baseNomProp + geom_bar(stat = 'identity')\n",
    "barNomProp"
   ]
  },
  {
   "cell_type": "markdown",
   "metadata": {},
   "source": [
    "You should always keep it simple. Then decorate. \n",
    "\n",
    "[Go to table of contents.](#toc)\n",
    "________\n",
    "\n",
    "<a id='ordinalviz'></a>\n",
    "\n",
    "#### <span style=\"color:blue\"> 2. Visualization for ordinal scales</span>\n",
    "\n",
    "For this section, we will use the variable that tells us the highest grade offered in a school. A simple exploration gives:"
   ]
  },
  {
   "cell_type": "code",
   "execution_count": null,
   "metadata": {},
   "outputs": [],
   "source": [
    "\n",
    "table(eduwa$High.Grade,exclude = 'nothing')"
   ]
  },
  {
   "cell_type": "markdown",
   "metadata": {},
   "source": [
    "Being a categorical variable, the default option is again the bar plot:\n",
    "\n",
    "* Preparing the data:"
   ]
  },
  {
   "cell_type": "code",
   "execution_count": null,
   "metadata": {},
   "outputs": [],
   "source": [
    "\n",
    "ordTable=as.data.frame(table(eduwa$High.Grade,exclude = 'nothing'))\n",
    "names(ordTable)=c('Grade','Count')"
   ]
  },
  {
   "cell_type": "code",
   "execution_count": null,
   "metadata": {},
   "outputs": [],
   "source": [
    "\n",
    "baseOrd = ggplot(ordTable,aes(x=Grade,y=Count))\n",
    "barOrd=baseOrd + geom_bar(stat = 'identity') \n",
    "barOrd"
   ]
  },
  {
   "cell_type": "markdown",
   "metadata": {},
   "source": [
    "The x-values in this variable have **order**. That is, there is an increasing level in the values. Whenever we have an ordering, besides **concentration** we can visualize **symmetry**: if there is bias towards lower or higher values. \n",
    "\n",
    "Bar plots help you see concentration and symmetry, but we have an alternative way to clearly detect symmetry, via **boxplots**:"
   ]
  },
  {
   "cell_type": "code",
   "execution_count": null,
   "metadata": {},
   "outputs": [],
   "source": [
    "\n",
    "# boxplots do not use frequency tables\n",
    "\n",
    "# as.numeric  turns levels of the factor into numbers\n",
    "baseOrd2 = ggplot(eduwa, aes(y=as.numeric(High.Grade))) \n",
    "baseOrdBox = baseOrd2 + geom_boxplot() \n",
    "\n",
    "baseOrdBox"
   ]
  },
  {
   "cell_type": "markdown",
   "metadata": {},
   "source": [
    "You have symmetry when the distance of those whiskers to the  box is the same, and when the thick line is in the middle of the box. You can see that the values show a negative asymmetry as the tail towards the bottom (lowest values).\n",
    "\n",
    "Box plots expect a numeric value as an input, but we have an ordered categorical, so we used the _as.numeric()_ function. However, that eliminated the levels we saw in the previous bar plot; we can put the levels back in our plot:"
   ]
  },
  {
   "cell_type": "code",
   "execution_count": null,
   "metadata": {},
   "outputs": [],
   "source": [
    "\n",
    "# the labels use the original ordinal levels\n",
    "ordLabels= levels(eduwa$High.Grade)\n",
    "\n",
    "baseOrdBox2 = baseOrdBox + scale_y_continuous(labels=ordLabels,breaks=1:15)\n",
    "baseOrdBox2"
   ]
  },
  {
   "cell_type": "markdown",
   "metadata": {},
   "source": [
    "Box plots have important statistical information. The beginning and the ending of the box indicates the first (q1) and the third quantile (q75); and the thicker line in the middle represents the median. From the boxplot, we know:\n",
    "\n",
    "* 25% of the public Schools offer at most 5th GRADE. \n",
    "* 50% of the public Schools offer at most 8th GRADE.\n",
    "* 75% of the public Schools offer at most 12th GRADE. Also, 25% of the schools offer 13th grade.\n",
    "\n",
    "We can find these results with a _detailed_ frequency table; that is, instead of using the command _table_ as we did before, we could try a more advanced function:"
   ]
  },
  {
   "cell_type": "code",
   "execution_count": null,
   "metadata": {},
   "outputs": [],
   "source": [
    "x=eduwa$High.Grade\n",
    "\n",
    "Freq=table(x)\n",
    "\n",
    "CumulF=cumsum(table(x))\n",
    "\n",
    "Relative=100*round(prop.table(table(x)),4)\n",
    "\n",
    "CumulR=cumsum(Relative)\n",
    "\n",
    "cbind(Freq, CumulF, Relative, CumulR)"
   ]
  },
  {
   "cell_type": "markdown",
   "metadata": {},
   "source": [
    "[Go to table of contents.](#toc)\n",
    "\n",
    "________\n",
    "\n",
    "\n",
    "<a id='integerviz'></a>\n",
    "\n",
    "#### <span style=\"color:blue\"> 3. Visualization for integer values</span>\n",
    "\n",
    "Integers represent counting. They could be represented with bar plots if their frequency table had few different values. For example, the variable _Reduced.Lunch_ informs how many kids there are in each school that have that lunch for a reduced price."
   ]
  },
  {
   "cell_type": "code",
   "execution_count": null,
   "metadata": {},
   "outputs": [],
   "source": [
    "# how many unique values\n",
    "\n",
    "length(unique(eduwa$Reduced.Lunch))"
   ]
  },
  {
   "cell_type": "markdown",
   "metadata": {},
   "source": [
    "There are too many different values. Then, although R could produce a frequency table and a plot, we should not do go for the bar plot.\n",
    "\n",
    "When the frequency table can not be our first step, we need to turn to statistical measures that help us understand behavior of the data:"
   ]
  },
  {
   "cell_type": "code",
   "execution_count": null,
   "metadata": {},
   "outputs": [],
   "source": [
    "\n",
    "# median close to mean?\n",
    "# median and mean far from max or min?\n",
    "# q1 distance to min is similar ti q3 distance to max?\n",
    "# how many missing?\n",
    "\n",
    "summary(eduwa$Reduced.Lunch)"
   ]
  },
  {
   "cell_type": "markdown",
   "metadata": {},
   "source": [
    "Let's take care of missing values, by removing them:"
   ]
  },
  {
   "cell_type": "code",
   "execution_count": null,
   "metadata": {},
   "outputs": [],
   "source": [
    "\n",
    "eduwa_Lunch=eduwa[complete.cases(eduwa$Reduced.Lunch),]"
   ]
  },
  {
   "cell_type": "markdown",
   "metadata": {},
   "source": [
    "The boxplot help us identify clearly the values obtained form summary:"
   ]
  },
  {
   "cell_type": "code",
   "execution_count": null,
   "metadata": {},
   "outputs": [],
   "source": [
    "\n",
    "# boxplots do not use frequency tables\n",
    "baseInt= ggplot(eduwa_Lunch,aes(y = Reduced.Lunch))  \n",
    "baseIntBox = baseInt + geom_boxplot() \n",
    "\n",
    "baseIntBox"
   ]
  },
  {
   "cell_type": "markdown",
   "metadata": {},
   "source": [
    "The bar plot is not good option as it produces a bar for each unique value in the data, counting how many times this value appeared. Now, we have many values, so if we want to use bars, we need to organize the data into _intervals_. The **histogram** is the basic plot when intervals are needed, you can use the basic function:"
   ]
  },
  {
   "cell_type": "code",
   "execution_count": null,
   "metadata": {},
   "outputs": [],
   "source": [
    "\n",
    "baseInt2= ggplot(eduwa_Lunch,aes(x = Reduced.Lunch))  \n",
    "baseIntHist= baseInt2 + geom_histogram()\n",
    "baseIntHist"
   ]
  },
  {
   "cell_type": "markdown",
   "metadata": {},
   "source": [
    "[Go to table of contents.](#toc)\n",
    "\n",
    "______\n",
    "\n",
    "<a id='decimalviz'></a>\n",
    "\n",
    "\n",
    "\n",
    "#### <span style=\"color:blue\"> 4. Visualization for values with decimals</span>\n",
    "\n",
    "A simplistic idea of measurement tells you the times a particular unit is present in the unit of analysis; which allows for the presence of decimal places or even be negative values.\n",
    "\n",
    "Let's analyze the variable _Student.Teacher.Ratio_, but organized by county:"
   ]
  },
  {
   "cell_type": "code",
   "execution_count": null,
   "metadata": {},
   "outputs": [],
   "source": [
    "\n",
    "# tapply(variable,group,functionToApply)\n",
    "tapply(eduwa$Student.Teacher.Ratio, eduwa$County, mean)"
   ]
  },
  {
   "cell_type": "markdown",
   "metadata": {},
   "source": [
    "Above, I tried to compute the mean for each county, but the function _mean()_ outputs a missing value (_NA_) as the result when there is one _NA_ in the column. Then we need no missing values in that column:"
   ]
  },
  {
   "cell_type": "code",
   "execution_count": null,
   "metadata": {},
   "outputs": [],
   "source": [
    "\n",
    "library(dplyr)\n",
    "eduwa_ratioST=eduwa[complete.cases(eduwa$Student.Teacher.Ratio),]\n",
    "\n",
    "meanValuesCounty= eduwa_ratioST  %>%  \n",
    "                    group_by(County)  %>%  \n",
    "                        summarize('means'=mean(Student.Teacher.Ratio))\n",
    "meanValuesCounty"
   ]
  },
  {
   "cell_type": "markdown",
   "metadata": {},
   "source": [
    "Great!\n",
    "\n",
    "\n",
    "Let's compute some statistics:"
   ]
  },
  {
   "cell_type": "code",
   "execution_count": null,
   "metadata": {},
   "outputs": [],
   "source": [
    "\n",
    "summary(meanValuesCounty$means)"
   ]
  },
  {
   "cell_type": "code",
   "execution_count": null,
   "metadata": {},
   "outputs": [],
   "source": [
    "\n",
    "# boxplots do not use frequency tables\n",
    "baseDec= ggplot(meanValuesCounty,aes(y = means))  \n",
    "baseDecBox = baseDec + geom_boxplot() \n",
    "\n",
    "baseDecBox"
   ]
  },
  {
   "cell_type": "markdown",
   "metadata": {},
   "source": [
    "Now let me plot a histogram of those means:"
   ]
  },
  {
   "cell_type": "code",
   "execution_count": null,
   "metadata": {},
   "outputs": [],
   "source": [
    "\n",
    "baseDec2= ggplot(meanValuesCounty,aes(x = means))  \n",
    "baseDecHist= baseDec2 + geom_histogram(bins=7) # bins 7 (default 30)\n",
    "baseDecHist"
   ]
  },
  {
   "cell_type": "markdown",
   "metadata": {},
   "source": [
    "[Go to table of contents.](#toc)\n",
    "\n",
    "______\n",
    "\n",
    "<a id='customviz'></a>\n",
    "\n",
    "\n",
    "## <span style=\"color:blue\"> Improving visualization elements</span>\n",
    "\n",
    "\n",
    "* **Working on titles** <a id='titles'></a>\n",
    "\n",
    "Titles and captions are important, they can serve to represent a *question* to be answered by the plot:"
   ]
  },
  {
   "cell_type": "code",
   "execution_count": null,
   "metadata": {},
   "outputs": [],
   "source": [
    "\n",
    "titleText='Do we have counties with less than 15 students per teacher (on average)?'\n",
    "sourceText='Source: US Department of Education'\n",
    "xaxisText='Average of students-teacher ratio'\n",
    "yaxisText='Amount of counties'\n",
    "\n",
    "baseDecHist2= baseDecHist + labs(title=titleText,\n",
    "                               x = xaxisText, \n",
    "                               y = yaxisText,\n",
    "                               caption = sourceText)\n",
    "\n",
    "baseDecHist2"
   ]
  },
  {
   "cell_type": "markdown",
   "metadata": {},
   "source": [
    "Titles can also *guide* the reader to recognise the purpose of your plot:"
   ]
  },
  {
   "cell_type": "code",
   "execution_count": null,
   "metadata": {},
   "outputs": [],
   "source": [
    "\n",
    "# using \\n\n",
    "titleText2='Most schools in WA do not have\\nstudents in the Reduced Lunch Program'\n",
    "sourceText='Source: US Department of Education'\n",
    "xaxisText='Students in Reduced Lunch Program'\n",
    "yaxisText='Amount of schools'\n",
    "\n",
    "baseIntHist2= baseIntHist  + labs(title=titleText2,\n",
    "                                  x = xaxisText, \n",
    "                                  y = yaxisText,\n",
    "                                  caption = sourceText)\n",
    "\n",
    "# changing position of titles\n",
    "\n",
    "baseIntHist3= baseIntHist2 + theme(plot.caption = element_text(hjust = 0), \n",
    "                                   plot.title = element_text(hjust = 0.5))\n",
    "\n",
    "baseIntHist3"
   ]
  },
  {
   "cell_type": "markdown",
   "metadata": {},
   "source": [
    "They can *suggest* a decision:"
   ]
  },
  {
   "cell_type": "code",
   "execution_count": null,
   "metadata": {},
   "outputs": [],
   "source": [
    "\n",
    "titleText3='WA needs to fully categorize school locations\\n(info from 2018)'\n",
    "sourceText='Source: US Department of Education'\n",
    "xaxisText='Location of Schools'\n",
    "yaxisText='%'\n",
    "\n",
    "barNomProp2= barNomProp + labs(title=titleText3,\n",
    "                                  x = xaxisText, \n",
    "                                  y = yaxisText,\n",
    "                                  caption = sourceText)\n",
    "\n",
    "barNomProp2"
   ]
  },
  {
   "cell_type": "markdown",
   "metadata": {},
   "source": [
    "* **Changing color**  <a id='color'></a>\n",
    "\n",
    "You can use the attributes _colour_ and _fill_ for that purpose.\n",
    "\n",
    "It works in every previous plot. Here you have the barplot:"
   ]
  },
  {
   "cell_type": "code",
   "execution_count": null,
   "metadata": {},
   "outputs": [],
   "source": [
    "\n",
    "baseNom + geom_bar(stat = 'identity',\n",
    "                   colour='orange', # border\n",
    "                   fill='white') "
   ]
  },
  {
   "cell_type": "markdown",
   "metadata": {},
   "source": [
    "The boxplot:"
   ]
  },
  {
   "cell_type": "code",
   "execution_count": null,
   "metadata": {},
   "outputs": [],
   "source": [
    "\n",
    "baseOrd2 + geom_boxplot(colour='green',fill='black') "
   ]
  },
  {
   "cell_type": "markdown",
   "metadata": {},
   "source": [
    "And the histogram:"
   ]
  },
  {
   "cell_type": "code",
   "execution_count": null,
   "metadata": {},
   "outputs": [],
   "source": [
    "\n",
    "baseDec2 + geom_histogram(bins=7,\n",
    "                          colour='magenta',\n",
    "                          fill='yellow')"
   ]
  },
  {
   "cell_type": "markdown",
   "metadata": {},
   "source": [
    "Notice that the default area has a grid in gray. You can change the **theme** to make it simpler.\n",
    "\n",
    "Here you have no grid:"
   ]
  },
  {
   "cell_type": "code",
   "execution_count": null,
   "metadata": {},
   "outputs": [],
   "source": [
    "\n",
    "baseDec2 + geom_histogram(bins=7,\n",
    "                          colour='magenta',\n",
    "                          fill='yellow') +\n",
    "           theme_classic()"
   ]
  },
  {
   "cell_type": "markdown",
   "metadata": {},
   "source": [
    "Here minimal grid with no color:"
   ]
  },
  {
   "cell_type": "code",
   "execution_count": null,
   "metadata": {},
   "outputs": [],
   "source": [
    "\n",
    "baseDec2 + geom_histogram(bins=7,\n",
    "                          colour='magenta',\n",
    "                          fill='yellow') +\n",
    "           theme_minimal()"
   ]
  },
  {
   "cell_type": "markdown",
   "metadata": {},
   "source": [
    "It is similar to the previos one, but it has a box for the grid."
   ]
  },
  {
   "cell_type": "code",
   "execution_count": null,
   "metadata": {},
   "outputs": [],
   "source": [
    "\n",
    "baseDec2 + geom_histogram(bins=7,\n",
    "                          colour='magenta',\n",
    "                          fill='yellow') +\n",
    "           theme_light()"
   ]
  },
  {
   "cell_type": "markdown",
   "metadata": {},
   "source": [
    "You should review:\n",
    "\n",
    "* The types of themes [available](https://ggplot2.tidyverse.org/reference/ggtheme.html)\n",
    "* The [names](http://sape.inf.usi.ch/quick-reference/ggplot2/colour) of the colors for R. Please note the one who are friendly for [colorblindness](http://www.cookbook-r.com/Graphs/Colors_(ggplot2)/).\n",
    "\n",
    "\n",
    "* **Working on axes**  <a id='axes'></a>\n",
    "\n",
    "Sometimes axes need to be re oriented:"
   ]
  },
  {
   "cell_type": "code",
   "execution_count": null,
   "metadata": {},
   "outputs": [],
   "source": [
    "\n",
    "baseDecBox2=baseDecBox + coord_flip()\n",
    "baseDecBox2"
   ]
  },
  {
   "cell_type": "markdown",
   "metadata": {},
   "source": [
    "The values and their symbols on the vertical axis are not needed for the las boxplot:"
   ]
  },
  {
   "cell_type": "code",
   "execution_count": null,
   "metadata": {},
   "outputs": [],
   "source": [
    "\n",
    "baseDecBox3=baseDecBox2 + \n",
    "    theme(axis.text.y = element_blank(), # no values in ticks\n",
    "          axis.ticks = element_blank())  # no symbol in ticks\n",
    "\n",
    "baseDecBox3"
   ]
  },
  {
   "cell_type": "markdown",
   "metadata": {},
   "source": [
    "Axis default values may need to be customized:"
   ]
  },
  {
   "cell_type": "code",
   "execution_count": null,
   "metadata": {},
   "outputs": [],
   "source": [
    "\n",
    "# vector of the summary statistics with one decimal place\n",
    "statVals=round(as.vector(summary(meanValuesCounty$means)),1)\n",
    "\n",
    "baseDecBox4=baseDecBox3 + \n",
    "            # customize tick values\n",
    "            scale_y_continuous(breaks=statVals, \n",
    "                               limits = c(10, 25)) +\n",
    "            # change angle of tick values\n",
    "            theme(axis.text.x = element_text(angle=45),\n",
    "                  panel.grid.minor =   element_blank()) # grid only on ticks\n",
    "\n",
    "baseDecBox4"
   ]
  },
  {
   "cell_type": "markdown",
   "metadata": {},
   "source": [
    "You may need percents instead of decimals:"
   ]
  },
  {
   "cell_type": "code",
   "execution_count": null,
   "metadata": {},
   "outputs": [],
   "source": [
    "\n",
    "library(scales)\n",
    "barNomProp2 + scale_y_continuous(labels=scales::percent)"
   ]
  },
  {
   "cell_type": "markdown",
   "metadata": {},
   "source": [
    "* **Reference lines** <a id='references'></a>\n",
    "\n",
    "\n",
    "You may to put a line to represent a particular value:"
   ]
  },
  {
   "cell_type": "code",
   "execution_count": null,
   "metadata": {},
   "outputs": [],
   "source": [
    "\n",
    "meanV=round(mean(meanValuesCounty$means),2)\n",
    "baseDecHist3=baseDecHist2 + geom_vline(xintercept = meanV,\n",
    "                            linetype=\"dotted\", \n",
    "                            color = \"yellow\", \n",
    "                            size=1.5)\n",
    "baseDecHist3"
   ]
  },
  {
   "cell_type": "markdown",
   "metadata": {},
   "source": [
    "* **Annotation** <a id='annotation'></a>\n",
    "\n",
    "\n",
    "Reference are more effective if we add text:"
   ]
  },
  {
   "cell_type": "code",
   "execution_count": null,
   "metadata": {},
   "outputs": [],
   "source": [
    "\n",
    "baseDecHist4=baseDecHist3+ annotate(\"text\", x = meanV+0.5,y=10,\n",
    "                                    angle = 90, \n",
    "                                    label = paste(\"MEAN\",meanV),\n",
    "                                    color=\"yellow\")  \n",
    "                \n",
    "baseDecHist4"
   ]
  },
  {
   "cell_type": "markdown",
   "metadata": {},
   "source": [
    "But annotation can do more than making lines explicit. Let me count how many have an average ratio les than 15:"
   ]
  },
  {
   "cell_type": "code",
   "execution_count": null,
   "metadata": {},
   "outputs": [],
   "source": [
    "\n",
    "(count_Less15=nrow(meanValuesCounty[meanValuesCounty$means<15,]))"
   ]
  },
  {
   "cell_type": "markdown",
   "metadata": {},
   "source": [
    "Let me annotate using a rectangular area:"
   ]
  },
  {
   "cell_type": "code",
   "execution_count": null,
   "metadata": {},
   "outputs": [],
   "source": [
    "\n",
    "baseDecHist5= baseDecHist4 + annotate(\"rect\", \n",
    "                                      #points for rectangle:\n",
    "                                      xmin = 10, xmax = 15, \n",
    "                                      ymin = 0, ymax = 5,\n",
    "                                      fill='red',alpha = .2) +\n",
    "                             annotate(\"text\", x= 12.5, y = 4,\n",
    "                                      label=paste(count_Less15,'counties'))\n",
    "baseDecHist5"
   ]
  },
  {
   "cell_type": "markdown",
   "metadata": {},
   "source": [
    "* **Alternatives** <a id='alternatives'></a>\n",
    "\n",
    "\n",
    "We can use dots instead of bars (position instead of length):"
   ]
  },
  {
   "cell_type": "code",
   "execution_count": null,
   "metadata": {},
   "outputs": [],
   "source": [
    "\n",
    "baseNomProp2= baseNomProp + geom_point() \n",
    "baseNomProp2"
   ]
  },
  {
   "cell_type": "markdown",
   "metadata": {},
   "source": [
    "We can add lines to reinforce distance:"
   ]
  },
  {
   "cell_type": "code",
   "execution_count": null,
   "metadata": {},
   "outputs": [],
   "source": [
    "\n",
    "baseNomProp2+ geom_segment(aes(y = 0,\n",
    "                               x = Type,\n",
    "                               yend = Percent,\n",
    "                               xend = Type), color = \"grey50\")"
   ]
  },
  {
   "cell_type": "markdown",
   "metadata": {},
   "source": [
    "We could **reorder** the categories as they are _not_ ordinal:"
   ]
  },
  {
   "cell_type": "code",
   "execution_count": null,
   "metadata": {},
   "outputs": [],
   "source": [
    "\n",
    "frTableProp[order(frTableProp$Percent),]"
   ]
  },
  {
   "cell_type": "markdown",
   "metadata": {},
   "source": [
    "You can get:"
   ]
  },
  {
   "cell_type": "code",
   "execution_count": null,
   "metadata": {},
   "outputs": [],
   "source": [
    "\n",
    "# saving new order:\n",
    "tableFreqO=frTableProp[order(frTableProp$Percent),]\n",
    "\n",
    "\n",
    "baseNomRe = ggplot(tableFreqO, aes(Type,Percent)) \n",
    "lollipop1=baseNomRe + geom_segment(aes(y = 0, \n",
    "                                   x = Type, \n",
    "                                   yend = Percent, \n",
    "                                   xend = Type), color = \"gray\") \n",
    "lollipop2 = lollipop1 + geom_point()\n",
    "lollipop2 + scale_x_discrete(limits=tableFreqO$Type) # key element"
   ]
  },
  {
   "cell_type": "markdown",
   "metadata": {},
   "source": [
    "These graphs are called **lollipops**. We can use them to represent the direction of the distance from a particular reference line. \n",
    "\n",
    "For example, if we have four locations, the uniform share will be 25%. Then we can compute a new column gaps:"
   ]
  },
  {
   "cell_type": "code",
   "execution_count": null,
   "metadata": {},
   "outputs": [],
   "source": [
    "\n",
    "# new variable\n",
    "tableFreqO$gap=tableFreqO$Percent-0.25 # 0.25 is uniform share\n",
    "head(tableFreqO)"
   ]
  },
  {
   "cell_type": "markdown",
   "metadata": {},
   "source": [
    "Let's plot this column, instead of _Percent_:"
   ]
  },
  {
   "cell_type": "code",
   "execution_count": null,
   "metadata": {},
   "outputs": [],
   "source": [
    "\n",
    "# plot the new variable\n",
    "base = ggplot(tableFreqO, aes(Type,gap)) \n",
    "\n",
    "lollipopGap=base + geom_segment(aes(y = 0, \n",
    "                                   x = Type, \n",
    "                                   yend = gap, \n",
    "                                   xend = Type), color = \"gray\") \n",
    "lollipopGap1 = lollipopGap + geom_point()\n",
    "lollipopGap2 = lollipopGap1 + \n",
    "    scale_x_discrete(limits=tableFreqO$Type) # key element\n",
    "##\n",
    "lollipopGap2"
   ]
  },
  {
   "cell_type": "markdown",
   "metadata": {},
   "source": [
    "We can create another column, a _flag_ to signal if the gap is negative or positive:"
   ]
  },
  {
   "cell_type": "code",
   "execution_count": null,
   "metadata": {},
   "outputs": [],
   "source": [
    "\n",
    "# a new column for color\n",
    "tableFreqO$flag=ifelse(tableFreqO$gap>0,T,F)\n",
    "head(tableFreqO)"
   ]
  },
  {
   "cell_type": "markdown",
   "metadata": {},
   "source": [
    "I will REplot the previous plot, but using the extra column to give color to the line:"
   ]
  },
  {
   "cell_type": "code",
   "execution_count": null,
   "metadata": {},
   "outputs": [],
   "source": [
    "\n",
    "# add new aesthetics 'color'\n",
    "base = ggplot(tableFreqO, aes(Type,gap)) \n",
    "lollipopGap1=base + geom_segment(aes(y = 0, \n",
    "                                   x = Type, \n",
    "                                   yend = gap, \n",
    "                                   xend = Type,color=flag), color = \"gray\") \n",
    "\n",
    "lollipopGap2 = lollipopGap1 + geom_point(aes(color=flag)) #adding color\n",
    "lollipopGap3 = lollipopGap2 + scale_x_discrete(limits=tableFreqO$Type) \n",
    "lollipopGap3"
   ]
  },
  {
   "cell_type": "markdown",
   "metadata": {},
   "source": [
    "Color is using a variable, then ggplot will create a legend to inform what this third dimension means in the bidimensional plot.\n",
    "\n",
    "Let me annotate the last plot:"
   ]
  },
  {
   "cell_type": "code",
   "execution_count": null,
   "metadata": {},
   "outputs": [],
   "source": [
    "\n",
    "lollipopGap4= lollipopGap3 + \n",
    "              geom_text(aes(color=flag,label = round(gap,3)),\n",
    "                        nudge_x=0.3) # push text to the right\n",
    "\n",
    "lollipopGap4"
   ]
  },
  {
   "cell_type": "markdown",
   "metadata": {},
   "source": [
    "The legend is plotting two symbols to represent the variables that give color to the text and the color of the dot, we can alter the previous code to avoid that:"
   ]
  },
  {
   "cell_type": "code",
   "execution_count": null,
   "metadata": {},
   "outputs": [],
   "source": [
    "\n",
    "lollipopGap4= lollipopGap3 + \n",
    "              geom_text(aes(color=flag,label = round(gap,3)),\n",
    "                        nudge_x=0.3,\n",
    "                        show.legend = FALSE) \n",
    "\n",
    "lollipopGap4"
   ]
  },
  {
   "cell_type": "markdown",
   "metadata": {},
   "source": [
    "Another alternative to the histogram is the density plot. We had this:"
   ]
  },
  {
   "cell_type": "code",
   "execution_count": null,
   "metadata": {},
   "outputs": [],
   "source": [
    "\n",
    "#baseDec2= ggplot(meanValuesCounty,aes(x = means))  \n",
    "baseDecHist= baseDec2 + geom_histogram(bins=7) \n",
    "baseDecHist2= baseDecHist + labs(title=titleText,\n",
    "                               x = xaxisText, \n",
    "                               y = yaxisText,\n",
    "                               caption = sourceText)\n",
    "\n",
    "baseDecHist2"
   ]
  },
  {
   "cell_type": "markdown",
   "metadata": {},
   "source": [
    "Then, we need a couple of steps. First, represent the y values as density:"
   ]
  },
  {
   "cell_type": "code",
   "execution_count": null,
   "metadata": {},
   "outputs": [],
   "source": [
    "\n",
    "baseDecHistDen= baseDec2 + geom_histogram(aes(y = ..density..),\n",
    "                                       bins=7) \n",
    "\n",
    "baseDecHistDen2= baseDecHistDen + labs(title=titleText,\n",
    "                               x = xaxisText, \n",
    "                               y = 'density',\n",
    "                               caption = sourceText)\n",
    "\n",
    "baseDecHistDen2"
   ]
  },
  {
   "cell_type": "markdown",
   "metadata": {},
   "source": [
    "And now, plot the density:"
   ]
  },
  {
   "cell_type": "code",
   "execution_count": null,
   "metadata": {},
   "outputs": [],
   "source": [
    "\n",
    "baseDecHistDen3 = baseDecHistDen2 + geom_density()\n",
    "baseDecHistDen3"
   ]
  },
  {
   "cell_type": "markdown",
   "metadata": {},
   "source": [
    "We can improve:"
   ]
  },
  {
   "cell_type": "code",
   "execution_count": null,
   "metadata": {},
   "outputs": [],
   "source": [
    "\n",
    "baseDecHistDen3 = baseDecHistDen2 + geom_density(alpha = .2, \n",
    "                                                 fill=\"pink\")\n",
    "baseDecHistDen3"
   ]
  },
  {
   "cell_type": "markdown",
   "metadata": {},
   "source": [
    "----\n",
    "\n",
    "* [Go to page beginning](#toc)\n",
    "* [Go to Course schedule](https://ds4ps.org/ddmp-uw-class-spring-2019/schedule/)"
   ]
  }
 ],
 "metadata": {
  "hide_input": false,
  "kernelspec": {
   "display_name": "R",
   "language": "R",
   "name": "ir"
  },
  "language_info": {
   "codemirror_mode": "r",
   "file_extension": ".r",
   "mimetype": "text/x-r-source",
   "name": "R",
   "pygments_lexer": "r",
   "version": "3.5.1"
  }
 },
 "nbformat": 4,
 "nbformat_minor": 2
}
