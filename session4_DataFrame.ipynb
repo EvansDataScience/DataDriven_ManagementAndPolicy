{
 "cells": [
  {
   "cell_type": "markdown",
   "metadata": {},
   "source": [
    "<br> \n",
    "<center><img src=\"http://i.imgur.com/sSaOozN.png\" width=\"500\"></center>\n",
    "\n",
    "\n",
    "## Course: Data-Driven Management and Policy\n",
    "\n",
    "### Prof. José Manuel Magallanes, PhD \n",
    "\n",
    "_____\n",
    "\n",
    "\n",
    "# Session 4: Working with Data Frames\n",
    "\n",
    "<a id='beginning'></a>\n",
    "\n",
    "\n",
    "The data frame is a common data structure for people with experience with spreasheets or data tables. It is just that: a collection of rows with several columns. However, each software application has its own way of dealing with data frames.\n",
    "\n",
    "In this session, we will learn the main strategies that we use to deal with data frames:\n",
    "\n",
    "1. [Logical Operators.](#part1) \n",
    "2. [Control of Execution.](#part2) \n",
    "3. [Functions.](#part3) \n",
    "\n",
    "----\n",
    "\n",
    "<a id='part1'></a>\n",
    "\n",
    "## Logical Operators\n",
    "\n",
    "Let me open a simple data frame from an Excel file:"
   ]
  },
  {
   "cell_type": "code",
   "execution_count": 3,
   "metadata": {},
   "outputs": [
    {
     "data": {
      "text/html": [
       "<table>\n",
       "<thead><tr><th scope=col>cod</th><th scope=col>ages</th><th scope=col>state</th><th scope=col>education</th></tr></thead>\n",
       "<tbody>\n",
       "\t<tr><td>A1 </td><td>27 </td><td>NY </td><td>3  </td></tr>\n",
       "\t<tr><td>A2 </td><td>27 </td><td>WA </td><td>1  </td></tr>\n",
       "\t<tr><td>A3 </td><td>25 </td><td>WA </td><td>3  </td></tr>\n",
       "\t<tr><td>A4 </td><td>31 </td><td>CO </td><td>2  </td></tr>\n",
       "\t<tr><td>A5 </td><td>28 </td><td>CO </td><td>1  </td></tr>\n",
       "\t<tr><td>A6 </td><td>37 </td><td>NY </td><td>3  </td></tr>\n",
       "\t<tr><td>A7 </td><td>37 </td><td>NY </td><td>2  </td></tr>\n",
       "\t<tr><td>A8 </td><td>25 </td><td>NY </td><td>2  </td></tr>\n",
       "\t<tr><td>A9 </td><td>38 </td><td>CO </td><td>1  </td></tr>\n",
       "\t<tr><td>A10</td><td>28 </td><td>VA </td><td>1  </td></tr>\n",
       "\t<tr><td>A11</td><td>31 </td><td>WA </td><td>2  </td></tr>\n",
       "\t<tr><td>A12</td><td>34 </td><td>WA </td><td>3  </td></tr>\n",
       "\t<tr><td>A13</td><td>27 </td><td>NY </td><td>1  </td></tr>\n",
       "\t<tr><td>A14</td><td>27 </td><td>CO </td><td>2  </td></tr>\n",
       "\t<tr><td>A15</td><td>28 </td><td>NY </td><td>3  </td></tr>\n",
       "\t<tr><td>A16</td><td>28 </td><td>WA </td><td>1  </td></tr>\n",
       "\t<tr><td>A17</td><td>27 </td><td>WA </td><td>1  </td></tr>\n",
       "\t<tr><td>A18</td><td>32 </td><td>WA </td><td>1  </td></tr>\n",
       "\t<tr><td>A19</td><td>40 </td><td>NY </td><td>2  </td></tr>\n",
       "\t<tr><td>A20</td><td>25 </td><td>NY </td><td>1  </td></tr>\n",
       "</tbody>\n",
       "</table>\n"
      ],
      "text/latex": [
       "\\begin{tabular}{r|llll}\n",
       " cod & ages & state & education\\\\\n",
       "\\hline\n",
       "\t A1  & 27  & NY  & 3  \\\\\n",
       "\t A2  & 27  & WA  & 1  \\\\\n",
       "\t A3  & 25  & WA  & 3  \\\\\n",
       "\t A4  & 31  & CO  & 2  \\\\\n",
       "\t A5  & 28  & CO  & 1  \\\\\n",
       "\t A6  & 37  & NY  & 3  \\\\\n",
       "\t A7  & 37  & NY  & 2  \\\\\n",
       "\t A8  & 25  & NY  & 2  \\\\\n",
       "\t A9  & 38  & CO  & 1  \\\\\n",
       "\t A10 & 28  & VA  & 1  \\\\\n",
       "\t A11 & 31  & WA  & 2  \\\\\n",
       "\t A12 & 34  & WA  & 3  \\\\\n",
       "\t A13 & 27  & NY  & 1  \\\\\n",
       "\t A14 & 27  & CO  & 2  \\\\\n",
       "\t A15 & 28  & NY  & 3  \\\\\n",
       "\t A16 & 28  & WA  & 1  \\\\\n",
       "\t A17 & 27  & WA  & 1  \\\\\n",
       "\t A18 & 32  & WA  & 1  \\\\\n",
       "\t A19 & 40  & NY  & 2  \\\\\n",
       "\t A20 & 25  & NY  & 1  \\\\\n",
       "\\end{tabular}\n"
      ],
      "text/markdown": [
       "\n",
       "cod | ages | state | education | \n",
       "|---|---|---|---|---|---|---|---|---|---|---|---|---|---|---|---|---|---|---|---|\n",
       "| A1  | 27  | NY  | 3   | \n",
       "| A2  | 27  | WA  | 1   | \n",
       "| A3  | 25  | WA  | 3   | \n",
       "| A4  | 31  | CO  | 2   | \n",
       "| A5  | 28  | CO  | 1   | \n",
       "| A6  | 37  | NY  | 3   | \n",
       "| A7  | 37  | NY  | 2   | \n",
       "| A8  | 25  | NY  | 2   | \n",
       "| A9  | 38  | CO  | 1   | \n",
       "| A10 | 28  | VA  | 1   | \n",
       "| A11 | 31  | WA  | 2   | \n",
       "| A12 | 34  | WA  | 3   | \n",
       "| A13 | 27  | NY  | 1   | \n",
       "| A14 | 27  | CO  | 2   | \n",
       "| A15 | 28  | NY  | 3   | \n",
       "| A16 | 28  | WA  | 1   | \n",
       "| A17 | 27  | WA  | 1   | \n",
       "| A18 | 32  | WA  | 1   | \n",
       "| A19 | 40  | NY  | 2   | \n",
       "| A20 | 25  | NY  | 1   | \n",
       "\n",
       "\n"
      ],
      "text/plain": [
       "   cod ages state education\n",
       "1  A1  27   NY    3        \n",
       "2  A2  27   WA    1        \n",
       "3  A3  25   WA    3        \n",
       "4  A4  31   CO    2        \n",
       "5  A5  28   CO    1        \n",
       "6  A6  37   NY    3        \n",
       "7  A7  37   NY    2        \n",
       "8  A8  25   NY    2        \n",
       "9  A9  38   CO    1        \n",
       "10 A10 28   VA    1        \n",
       "11 A11 31   WA    2        \n",
       "12 A12 34   WA    3        \n",
       "13 A13 27   NY    1        \n",
       "14 A14 27   CO    2        \n",
       "15 A15 28   NY    3        \n",
       "16 A16 28   WA    1        \n",
       "17 A17 27   WA    1        \n",
       "18 A18 32   WA    1        \n",
       "19 A19 40   NY    2        \n",
       "20 A20 25   NY    1        "
      ]
     },
     "metadata": {},
     "output_type": "display_data"
    }
   ],
   "source": [
    "library(rio)\n",
    "fileName='people.xlsx'\n",
    "people=import(fileName) # table '1'\n",
    "people"
   ]
  },
  {
   "cell_type": "markdown",
   "metadata": {},
   "source": [
    "The first step is making sure of what data types you have:"
   ]
  },
  {
   "cell_type": "code",
   "execution_count": 6,
   "metadata": {},
   "outputs": [
    {
     "name": "stdout",
     "output_type": "stream",
     "text": [
      "'data.frame':\t20 obs. of  4 variables:\n",
      " $ cod      : chr  \"A1\" \"A2\" \"A3\" \"A4\" ...\n",
      " $ ages     : num  27 27 25 31 28 37 37 25 38 28 ...\n",
      " $ state    : chr  \"NY\" \"WA\" \"WA\" \"CO\" ...\n",
      " $ education: Ord.factor w/ 3 levels \"Low\"<\"Medium\"<..: 3 1 3 2 1 3 2 2 1 1 ...\n"
     ]
    }
   ],
   "source": [
    "str(people)"
   ]
  },
  {
   "cell_type": "markdown",
   "metadata": {},
   "source": [
    "Education is represented as a number, let me turn it into a category:"
   ]
  },
  {
   "cell_type": "code",
   "execution_count": 5,
   "metadata": {},
   "outputs": [],
   "source": [
    "people$education=factor(people$education,\n",
    "                        levels=c(1,2,3),\n",
    "                        labels=c(\"Low\",\"Medium\",\"High\"),\n",
    "                        ordered = T)"
   ]
  },
  {
   "cell_type": "markdown",
   "metadata": {},
   "source": [
    "The purpose of logical operatos can be divided into:\n",
    "\n",
    "* DETECTING COMPLIANCE\n",
    "\n",
    "**How many people are older that 30?**\n"
   ]
  },
  {
   "cell_type": "code",
   "execution_count": 7,
   "metadata": {},
   "outputs": [
    {
     "data": {
      "text/html": [
       "8"
      ],
      "text/latex": [
       "8"
      ],
      "text/markdown": [
       "8"
      ],
      "text/plain": [
       "[1] 8"
      ]
     },
     "metadata": {},
     "output_type": "display_data"
    }
   ],
   "source": [
    "# count:\n",
    "sum(people$ages>30)\n"
   ]
  },
  {
   "cell_type": "code",
   "execution_count": 8,
   "metadata": {},
   "outputs": [
    {
     "data": {
      "text/html": [
       "8"
      ],
      "text/latex": [
       "8"
      ],
      "text/markdown": [
       "8"
      ],
      "text/plain": [
       "[1] 8"
      ]
     },
     "metadata": {},
     "output_type": "display_data"
    }
   ],
   "source": [
    "# count:\n",
    "nrow(people[people$ages>30,])\n"
   ]
  },
  {
   "cell_type": "code",
   "execution_count": 9,
   "metadata": {},
   "outputs": [
    {
     "data": {
      "text/plain": [
       "\n",
       "FALSE  TRUE \n",
       "   12     8 "
      ]
     },
     "metadata": {},
     "output_type": "display_data"
    }
   ],
   "source": [
    "#count:\n",
    "table(people$ages>30)"
   ]
  },
  {
   "cell_type": "code",
   "execution_count": 10,
   "metadata": {},
   "outputs": [
    {
     "data": {
      "text/html": [
       "0.4"
      ],
      "text/latex": [
       "0.4"
      ],
      "text/markdown": [
       "0.4"
      ],
      "text/plain": [
       "[1] 0.4"
      ]
     },
     "metadata": {},
     "output_type": "display_data"
    }
   ],
   "source": [
    "# percent:\n",
    "mean(people$ages>30)"
   ]
  },
  {
   "cell_type": "code",
   "execution_count": 11,
   "metadata": {},
   "outputs": [
    {
     "data": {
      "text/html": [
       "0.4"
      ],
      "text/latex": [
       "0.4"
      ],
      "text/markdown": [
       "0.4"
      ],
      "text/plain": [
       "[1] 0.4"
      ]
     },
     "metadata": {},
     "output_type": "display_data"
    }
   ],
   "source": [
    "# percent:\n",
    "nrow(people[people$ages>30,])/nrow(people)"
   ]
  },
  {
   "cell_type": "code",
   "execution_count": 12,
   "metadata": {},
   "outputs": [
    {
     "data": {
      "text/plain": [
       "\n",
       "FALSE  TRUE \n",
       "  0.6   0.4 "
      ]
     },
     "metadata": {},
     "output_type": "display_data"
    }
   ],
   "source": [
    "# percent:\n",
    "prop.table(table(people$ages>30))"
   ]
  },
  {
   "cell_type": "markdown",
   "metadata": {},
   "source": [
    "* SUBSETTING \n",
    "\n",
    "**Case 1: selecting rows**"
   ]
  },
  {
   "cell_type": "code",
   "execution_count": 13,
   "metadata": {},
   "outputs": [
    {
     "data": {
      "text/html": [
       "<table>\n",
       "<thead><tr><th></th><th scope=col>cod</th><th scope=col>ages</th><th scope=col>state</th><th scope=col>education</th></tr></thead>\n",
       "<tbody>\n",
       "\t<tr><th scope=row>2</th><td>A2    </td><td>27    </td><td>WA    </td><td>Low   </td></tr>\n",
       "\t<tr><th scope=row>3</th><td>A3    </td><td>25    </td><td>WA    </td><td>High  </td></tr>\n",
       "\t<tr><th scope=row>11</th><td>A11   </td><td>31    </td><td>WA    </td><td>Medium</td></tr>\n",
       "\t<tr><th scope=row>12</th><td>A12   </td><td>34    </td><td>WA    </td><td>High  </td></tr>\n",
       "\t<tr><th scope=row>16</th><td>A16   </td><td>28    </td><td>WA    </td><td>Low   </td></tr>\n",
       "\t<tr><th scope=row>17</th><td>A17   </td><td>27    </td><td>WA    </td><td>Low   </td></tr>\n",
       "\t<tr><th scope=row>18</th><td>A18   </td><td>32    </td><td>WA    </td><td>Low   </td></tr>\n",
       "</tbody>\n",
       "</table>\n"
      ],
      "text/latex": [
       "\\begin{tabular}{r|llll}\n",
       "  & cod & ages & state & education\\\\\n",
       "\\hline\n",
       "\t2 & A2     & 27     & WA     & Low   \\\\\n",
       "\t3 & A3     & 25     & WA     & High  \\\\\n",
       "\t11 & A11    & 31     & WA     & Medium\\\\\n",
       "\t12 & A12    & 34     & WA     & High  \\\\\n",
       "\t16 & A16    & 28     & WA     & Low   \\\\\n",
       "\t17 & A17    & 27     & WA     & Low   \\\\\n",
       "\t18 & A18    & 32     & WA     & Low   \\\\\n",
       "\\end{tabular}\n"
      ],
      "text/markdown": [
       "\n",
       "| <!--/--> | cod | ages | state | education | \n",
       "|---|---|---|---|---|---|---|\n",
       "| 2 | A2     | 27     | WA     | Low    | \n",
       "| 3 | A3     | 25     | WA     | High   | \n",
       "| 11 | A11    | 31     | WA     | Medium | \n",
       "| 12 | A12    | 34     | WA     | High   | \n",
       "| 16 | A16    | 28     | WA     | Low    | \n",
       "| 17 | A17    | 27     | WA     | Low    | \n",
       "| 18 | A18    | 32     | WA     | Low    | \n",
       "\n",
       "\n"
      ],
      "text/plain": [
       "   cod ages state education\n",
       "2  A2  27   WA    Low      \n",
       "3  A3  25   WA    High     \n",
       "11 A11 31   WA    Medium   \n",
       "12 A12 34   WA    High     \n",
       "16 A16 28   WA    Low      \n",
       "17 A17 27   WA    Low      \n",
       "18 A18 32   WA    Low      "
      ]
     },
     "metadata": {},
     "output_type": "display_data"
    }
   ],
   "source": [
    "#People from WA\n",
    "\n",
    "condition=c(\"WA\")\n",
    "people[people$state %in% condition,]"
   ]
  },
  {
   "cell_type": "code",
   "execution_count": 14,
   "metadata": {},
   "outputs": [
    {
     "data": {
      "text/html": [
       "<table>\n",
       "<thead><tr><th></th><th scope=col>cod</th><th scope=col>ages</th><th scope=col>state</th><th scope=col>education</th></tr></thead>\n",
       "<tbody>\n",
       "\t<tr><th scope=row>1</th><td>A1    </td><td>27    </td><td>NY    </td><td>High  </td></tr>\n",
       "\t<tr><th scope=row>2</th><td>A2    </td><td>27    </td><td>WA    </td><td>Low   </td></tr>\n",
       "\t<tr><th scope=row>3</th><td>A3    </td><td>25    </td><td>WA    </td><td>High  </td></tr>\n",
       "\t<tr><th scope=row>6</th><td>A6    </td><td>37    </td><td>NY    </td><td>High  </td></tr>\n",
       "\t<tr><th scope=row>7</th><td>A7    </td><td>37    </td><td>NY    </td><td>Medium</td></tr>\n",
       "\t<tr><th scope=row>8</th><td>A8    </td><td>25    </td><td>NY    </td><td>Medium</td></tr>\n",
       "\t<tr><th scope=row>11</th><td>A11   </td><td>31    </td><td>WA    </td><td>Medium</td></tr>\n",
       "\t<tr><th scope=row>12</th><td>A12   </td><td>34    </td><td>WA    </td><td>High  </td></tr>\n",
       "\t<tr><th scope=row>13</th><td>A13   </td><td>27    </td><td>NY    </td><td>Low   </td></tr>\n",
       "\t<tr><th scope=row>15</th><td>A15   </td><td>28    </td><td>NY    </td><td>High  </td></tr>\n",
       "\t<tr><th scope=row>16</th><td>A16   </td><td>28    </td><td>WA    </td><td>Low   </td></tr>\n",
       "\t<tr><th scope=row>17</th><td>A17   </td><td>27    </td><td>WA    </td><td>Low   </td></tr>\n",
       "\t<tr><th scope=row>18</th><td>A18   </td><td>32    </td><td>WA    </td><td>Low   </td></tr>\n",
       "\t<tr><th scope=row>19</th><td>A19   </td><td>40    </td><td>NY    </td><td>Medium</td></tr>\n",
       "\t<tr><th scope=row>20</th><td>A20   </td><td>25    </td><td>NY    </td><td>Low   </td></tr>\n",
       "</tbody>\n",
       "</table>\n"
      ],
      "text/latex": [
       "\\begin{tabular}{r|llll}\n",
       "  & cod & ages & state & education\\\\\n",
       "\\hline\n",
       "\t1 & A1     & 27     & NY     & High  \\\\\n",
       "\t2 & A2     & 27     & WA     & Low   \\\\\n",
       "\t3 & A3     & 25     & WA     & High  \\\\\n",
       "\t6 & A6     & 37     & NY     & High  \\\\\n",
       "\t7 & A7     & 37     & NY     & Medium\\\\\n",
       "\t8 & A8     & 25     & NY     & Medium\\\\\n",
       "\t11 & A11    & 31     & WA     & Medium\\\\\n",
       "\t12 & A12    & 34     & WA     & High  \\\\\n",
       "\t13 & A13    & 27     & NY     & Low   \\\\\n",
       "\t15 & A15    & 28     & NY     & High  \\\\\n",
       "\t16 & A16    & 28     & WA     & Low   \\\\\n",
       "\t17 & A17    & 27     & WA     & Low   \\\\\n",
       "\t18 & A18    & 32     & WA     & Low   \\\\\n",
       "\t19 & A19    & 40     & NY     & Medium\\\\\n",
       "\t20 & A20    & 25     & NY     & Low   \\\\\n",
       "\\end{tabular}\n"
      ],
      "text/markdown": [
       "\n",
       "| <!--/--> | cod | ages | state | education | \n",
       "|---|---|---|---|---|---|---|---|---|---|---|---|---|---|---|\n",
       "| 1 | A1     | 27     | NY     | High   | \n",
       "| 2 | A2     | 27     | WA     | Low    | \n",
       "| 3 | A3     | 25     | WA     | High   | \n",
       "| 6 | A6     | 37     | NY     | High   | \n",
       "| 7 | A7     | 37     | NY     | Medium | \n",
       "| 8 | A8     | 25     | NY     | Medium | \n",
       "| 11 | A11    | 31     | WA     | Medium | \n",
       "| 12 | A12    | 34     | WA     | High   | \n",
       "| 13 | A13    | 27     | NY     | Low    | \n",
       "| 15 | A15    | 28     | NY     | High   | \n",
       "| 16 | A16    | 28     | WA     | Low    | \n",
       "| 17 | A17    | 27     | WA     | Low    | \n",
       "| 18 | A18    | 32     | WA     | Low    | \n",
       "| 19 | A19    | 40     | NY     | Medium | \n",
       "| 20 | A20    | 25     | NY     | Low    | \n",
       "\n",
       "\n"
      ],
      "text/plain": [
       "   cod ages state education\n",
       "1  A1  27   NY    High     \n",
       "2  A2  27   WA    Low      \n",
       "3  A3  25   WA    High     \n",
       "6  A6  37   NY    High     \n",
       "7  A7  37   NY    Medium   \n",
       "8  A8  25   NY    Medium   \n",
       "11 A11 31   WA    Medium   \n",
       "12 A12 34   WA    High     \n",
       "13 A13 27   NY    Low      \n",
       "15 A15 28   NY    High     \n",
       "16 A16 28   WA    Low      \n",
       "17 A17 27   WA    Low      \n",
       "18 A18 32   WA    Low      \n",
       "19 A19 40   NY    Medium   \n",
       "20 A20 25   NY    Low      "
      ]
     },
     "metadata": {},
     "output_type": "display_data"
    }
   ],
   "source": [
    "#People from WA and NY\n",
    "\n",
    "condition=c(\"WA\",\"NY\")\n",
    "people[people$state %in% condition,]\n"
   ]
  },
  {
   "cell_type": "code",
   "execution_count": 15,
   "metadata": {},
   "outputs": [
    {
     "data": {
      "text/html": [
       "<table>\n",
       "<thead><tr><th></th><th scope=col>cod</th><th scope=col>ages</th><th scope=col>state</th><th scope=col>education</th></tr></thead>\n",
       "<tbody>\n",
       "\t<tr><th scope=row>1</th><td>A1    </td><td>27    </td><td>NY    </td><td>High  </td></tr>\n",
       "\t<tr><th scope=row>3</th><td>A3    </td><td>25    </td><td>WA    </td><td>High  </td></tr>\n",
       "\t<tr><th scope=row>4</th><td>A4    </td><td>31    </td><td>CO    </td><td>Medium</td></tr>\n",
       "\t<tr><th scope=row>6</th><td>A6    </td><td>37    </td><td>NY    </td><td>High  </td></tr>\n",
       "\t<tr><th scope=row>7</th><td>A7    </td><td>37    </td><td>NY    </td><td>Medium</td></tr>\n",
       "\t<tr><th scope=row>8</th><td>A8    </td><td>25    </td><td>NY    </td><td>Medium</td></tr>\n",
       "\t<tr><th scope=row>11</th><td>A11   </td><td>31    </td><td>WA    </td><td>Medium</td></tr>\n",
       "\t<tr><th scope=row>12</th><td>A12   </td><td>34    </td><td>WA    </td><td>High  </td></tr>\n",
       "\t<tr><th scope=row>14</th><td>A14   </td><td>27    </td><td>CO    </td><td>Medium</td></tr>\n",
       "\t<tr><th scope=row>15</th><td>A15   </td><td>28    </td><td>NY    </td><td>High  </td></tr>\n",
       "\t<tr><th scope=row>19</th><td>A19   </td><td>40    </td><td>NY    </td><td>Medium</td></tr>\n",
       "</tbody>\n",
       "</table>\n"
      ],
      "text/latex": [
       "\\begin{tabular}{r|llll}\n",
       "  & cod & ages & state & education\\\\\n",
       "\\hline\n",
       "\t1 & A1     & 27     & NY     & High  \\\\\n",
       "\t3 & A3     & 25     & WA     & High  \\\\\n",
       "\t4 & A4     & 31     & CO     & Medium\\\\\n",
       "\t6 & A6     & 37     & NY     & High  \\\\\n",
       "\t7 & A7     & 37     & NY     & Medium\\\\\n",
       "\t8 & A8     & 25     & NY     & Medium\\\\\n",
       "\t11 & A11    & 31     & WA     & Medium\\\\\n",
       "\t12 & A12    & 34     & WA     & High  \\\\\n",
       "\t14 & A14    & 27     & CO     & Medium\\\\\n",
       "\t15 & A15    & 28     & NY     & High  \\\\\n",
       "\t19 & A19    & 40     & NY     & Medium\\\\\n",
       "\\end{tabular}\n"
      ],
      "text/markdown": [
       "\n",
       "| <!--/--> | cod | ages | state | education | \n",
       "|---|---|---|---|---|---|---|---|---|---|---|\n",
       "| 1 | A1     | 27     | NY     | High   | \n",
       "| 3 | A3     | 25     | WA     | High   | \n",
       "| 4 | A4     | 31     | CO     | Medium | \n",
       "| 6 | A6     | 37     | NY     | High   | \n",
       "| 7 | A7     | 37     | NY     | Medium | \n",
       "| 8 | A8     | 25     | NY     | Medium | \n",
       "| 11 | A11    | 31     | WA     | Medium | \n",
       "| 12 | A12    | 34     | WA     | High   | \n",
       "| 14 | A14    | 27     | CO     | Medium | \n",
       "| 15 | A15    | 28     | NY     | High   | \n",
       "| 19 | A19    | 40     | NY     | Medium | \n",
       "\n",
       "\n"
      ],
      "text/plain": [
       "   cod ages state education\n",
       "1  A1  27   NY    High     \n",
       "3  A3  25   WA    High     \n",
       "4  A4  31   CO    Medium   \n",
       "6  A6  37   NY    High     \n",
       "7  A7  37   NY    Medium   \n",
       "8  A8  25   NY    Medium   \n",
       "11 A11 31   WA    Medium   \n",
       "12 A12 34   WA    High     \n",
       "14 A14 27   CO    Medium   \n",
       "15 A15 28   NY    High     \n",
       "19 A19 40   NY    Medium   "
      ]
     },
     "metadata": {},
     "output_type": "display_data"
    }
   ],
   "source": [
    "#top two highest levels\n",
    "\n",
    "condition=c(\"Medium\",\"High\")\n",
    "people[people$education %in% condition,]"
   ]
  },
  {
   "cell_type": "code",
   "execution_count": 16,
   "metadata": {},
   "outputs": [
    {
     "data": {
      "text/html": [
       "<table>\n",
       "<thead><tr><th></th><th scope=col>cod</th><th scope=col>ages</th><th scope=col>state</th><th scope=col>education</th></tr></thead>\n",
       "<tbody>\n",
       "\t<tr><th scope=row>1</th><td>A1    </td><td>27    </td><td>NY    </td><td>High  </td></tr>\n",
       "\t<tr><th scope=row>3</th><td>A3    </td><td>25    </td><td>WA    </td><td>High  </td></tr>\n",
       "\t<tr><th scope=row>4</th><td>A4    </td><td>31    </td><td>CO    </td><td>Medium</td></tr>\n",
       "\t<tr><th scope=row>6</th><td>A6    </td><td>37    </td><td>NY    </td><td>High  </td></tr>\n",
       "\t<tr><th scope=row>7</th><td>A7    </td><td>37    </td><td>NY    </td><td>Medium</td></tr>\n",
       "\t<tr><th scope=row>8</th><td>A8    </td><td>25    </td><td>NY    </td><td>Medium</td></tr>\n",
       "\t<tr><th scope=row>11</th><td>A11   </td><td>31    </td><td>WA    </td><td>Medium</td></tr>\n",
       "\t<tr><th scope=row>12</th><td>A12   </td><td>34    </td><td>WA    </td><td>High  </td></tr>\n",
       "\t<tr><th scope=row>14</th><td>A14   </td><td>27    </td><td>CO    </td><td>Medium</td></tr>\n",
       "\t<tr><th scope=row>15</th><td>A15   </td><td>28    </td><td>NY    </td><td>High  </td></tr>\n",
       "\t<tr><th scope=row>19</th><td>A19   </td><td>40    </td><td>NY    </td><td>Medium</td></tr>\n",
       "</tbody>\n",
       "</table>\n"
      ],
      "text/latex": [
       "\\begin{tabular}{r|llll}\n",
       "  & cod & ages & state & education\\\\\n",
       "\\hline\n",
       "\t1 & A1     & 27     & NY     & High  \\\\\n",
       "\t3 & A3     & 25     & WA     & High  \\\\\n",
       "\t4 & A4     & 31     & CO     & Medium\\\\\n",
       "\t6 & A6     & 37     & NY     & High  \\\\\n",
       "\t7 & A7     & 37     & NY     & Medium\\\\\n",
       "\t8 & A8     & 25     & NY     & Medium\\\\\n",
       "\t11 & A11    & 31     & WA     & Medium\\\\\n",
       "\t12 & A12    & 34     & WA     & High  \\\\\n",
       "\t14 & A14    & 27     & CO     & Medium\\\\\n",
       "\t15 & A15    & 28     & NY     & High  \\\\\n",
       "\t19 & A19    & 40     & NY     & Medium\\\\\n",
       "\\end{tabular}\n"
      ],
      "text/markdown": [
       "\n",
       "| <!--/--> | cod | ages | state | education | \n",
       "|---|---|---|---|---|---|---|---|---|---|---|\n",
       "| 1 | A1     | 27     | NY     | High   | \n",
       "| 3 | A3     | 25     | WA     | High   | \n",
       "| 4 | A4     | 31     | CO     | Medium | \n",
       "| 6 | A6     | 37     | NY     | High   | \n",
       "| 7 | A7     | 37     | NY     | Medium | \n",
       "| 8 | A8     | 25     | NY     | Medium | \n",
       "| 11 | A11    | 31     | WA     | Medium | \n",
       "| 12 | A12    | 34     | WA     | High   | \n",
       "| 14 | A14    | 27     | CO     | Medium | \n",
       "| 15 | A15    | 28     | NY     | High   | \n",
       "| 19 | A19    | 40     | NY     | Medium | \n",
       "\n",
       "\n"
      ],
      "text/plain": [
       "   cod ages state education\n",
       "1  A1  27   NY    High     \n",
       "3  A3  25   WA    High     \n",
       "4  A4  31   CO    Medium   \n",
       "6  A6  37   NY    High     \n",
       "7  A7  37   NY    Medium   \n",
       "8  A8  25   NY    Medium   \n",
       "11 A11 31   WA    Medium   \n",
       "12 A12 34   WA    High     \n",
       "14 A14 27   CO    Medium   \n",
       "15 A15 28   NY    High     \n",
       "19 A19 40   NY    Medium   "
      ]
     },
     "metadata": {},
     "output_type": "display_data"
    }
   ],
   "source": [
    "#top two highest levels\n",
    "\n",
    "people[people$education >= \"Medium\",] # valid for ordinal factors"
   ]
  },
  {
   "cell_type": "markdown",
   "metadata": {},
   "source": [
    "The logical operator \">=\" can not be used in text, or nominal variables, as they do not have order."
   ]
  },
  {
   "cell_type": "code",
   "execution_count": 17,
   "metadata": {},
   "outputs": [
    {
     "data": {
      "text/html": [
       "<table>\n",
       "<thead><tr><th></th><th scope=col>cod</th><th scope=col>ages</th><th scope=col>state</th><th scope=col>education</th></tr></thead>\n",
       "<tbody>\n",
       "\t<tr><th scope=row>3</th><td>A3    </td><td>25    </td><td>WA    </td><td>High  </td></tr>\n",
       "\t<tr><th scope=row>6</th><td>A6    </td><td>37    </td><td>NY    </td><td>High  </td></tr>\n",
       "\t<tr><th scope=row>7</th><td>A7    </td><td>37    </td><td>NY    </td><td>Medium</td></tr>\n",
       "\t<tr><th scope=row>8</th><td>A8    </td><td>25    </td><td>NY    </td><td>Medium</td></tr>\n",
       "\t<tr><th scope=row>20</th><td>A20   </td><td>25    </td><td>NY    </td><td>Low   </td></tr>\n",
       "</tbody>\n",
       "</table>\n"
      ],
      "text/latex": [
       "\\begin{tabular}{r|llll}\n",
       "  & cod & ages & state & education\\\\\n",
       "\\hline\n",
       "\t3 & A3     & 25     & WA     & High  \\\\\n",
       "\t6 & A6     & 37     & NY     & High  \\\\\n",
       "\t7 & A7     & 37     & NY     & Medium\\\\\n",
       "\t8 & A8     & 25     & NY     & Medium\\\\\n",
       "\t20 & A20    & 25     & NY     & Low   \\\\\n",
       "\\end{tabular}\n"
      ],
      "text/markdown": [
       "\n",
       "| <!--/--> | cod | ages | state | education | \n",
       "|---|---|---|---|---|\n",
       "| 3 | A3     | 25     | WA     | High   | \n",
       "| 6 | A6     | 37     | NY     | High   | \n",
       "| 7 | A7     | 37     | NY     | Medium | \n",
       "| 8 | A8     | 25     | NY     | Medium | \n",
       "| 20 | A20    | 25     | NY     | Low    | \n",
       "\n",
       "\n"
      ],
      "text/plain": [
       "   cod ages state education\n",
       "3  A3  25   WA    High     \n",
       "6  A6  37   NY    High     \n",
       "7  A7  37   NY    Medium   \n",
       "8  A8  25   NY    Medium   \n",
       "20 A20 25   NY    Low      "
      ]
     },
     "metadata": {},
     "output_type": "display_data"
    }
   ],
   "source": [
    "#People aged 37 OR 25\n",
    "\n",
    "condition=c(37,25)\n",
    "people[people$ages %in% condition,]"
   ]
  },
  {
   "cell_type": "code",
   "execution_count": 18,
   "metadata": {},
   "outputs": [
    {
     "data": {
      "text/html": [
       "<table>\n",
       "<thead><tr><th></th><th scope=col>cod</th><th scope=col>ages</th><th scope=col>state</th><th scope=col>education</th></tr></thead>\n",
       "<tbody>\n",
       "\t<tr><th scope=row>6</th><td>A6    </td><td>37    </td><td>NY    </td><td>High  </td></tr>\n",
       "\t<tr><th scope=row>7</th><td>A7    </td><td>37    </td><td>NY    </td><td>Medium</td></tr>\n",
       "\t<tr><th scope=row>9</th><td>A9    </td><td>38    </td><td>CO    </td><td>Low   </td></tr>\n",
       "\t<tr><th scope=row>19</th><td>A19   </td><td>40    </td><td>NY    </td><td>Medium</td></tr>\n",
       "</tbody>\n",
       "</table>\n"
      ],
      "text/latex": [
       "\\begin{tabular}{r|llll}\n",
       "  & cod & ages & state & education\\\\\n",
       "\\hline\n",
       "\t6 & A6     & 37     & NY     & High  \\\\\n",
       "\t7 & A7     & 37     & NY     & Medium\\\\\n",
       "\t9 & A9     & 38     & CO     & Low   \\\\\n",
       "\t19 & A19    & 40     & NY     & Medium\\\\\n",
       "\\end{tabular}\n"
      ],
      "text/markdown": [
       "\n",
       "| <!--/--> | cod | ages | state | education | \n",
       "|---|---|---|---|\n",
       "| 6 | A6     | 37     | NY     | High   | \n",
       "| 7 | A7     | 37     | NY     | Medium | \n",
       "| 9 | A9     | 38     | CO     | Low    | \n",
       "| 19 | A19    | 40     | NY     | Medium | \n",
       "\n",
       "\n"
      ],
      "text/plain": [
       "   cod ages state education\n",
       "6  A6  37   NY    High     \n",
       "7  A7  37   NY    Medium   \n",
       "9  A9  38   CO    Low      \n",
       "19 A19 40   NY    Medium   "
      ]
     },
     "metadata": {},
     "output_type": "display_data"
    }
   ],
   "source": [
    "#People older than 35\n",
    "\n",
    "condition=35\n",
    "people[people$ages > condition,]"
   ]
  },
  {
   "cell_type": "code",
   "execution_count": 19,
   "metadata": {},
   "outputs": [
    {
     "data": {
      "text/html": [
       "<table>\n",
       "<thead><tr><th></th><th scope=col>cod</th><th scope=col>ages</th><th scope=col>state</th><th scope=col>education</th></tr></thead>\n",
       "<tbody>\n",
       "\t<tr><th scope=row>3</th><td>A3    </td><td>25    </td><td>WA    </td><td>High  </td></tr>\n",
       "\t<tr><th scope=row>8</th><td>A8    </td><td>25    </td><td>NY    </td><td>Medium</td></tr>\n",
       "\t<tr><th scope=row>20</th><td>A20   </td><td>25    </td><td>NY    </td><td>Low   </td></tr>\n",
       "</tbody>\n",
       "</table>\n"
      ],
      "text/latex": [
       "\\begin{tabular}{r|llll}\n",
       "  & cod & ages & state & education\\\\\n",
       "\\hline\n",
       "\t3 & A3     & 25     & WA     & High  \\\\\n",
       "\t8 & A8     & 25     & NY     & Medium\\\\\n",
       "\t20 & A20    & 25     & NY     & Low   \\\\\n",
       "\\end{tabular}\n"
      ],
      "text/markdown": [
       "\n",
       "| <!--/--> | cod | ages | state | education | \n",
       "|---|---|---|\n",
       "| 3 | A3     | 25     | WA     | High   | \n",
       "| 8 | A8     | 25     | NY     | Medium | \n",
       "| 20 | A20    | 25     | NY     | Low    | \n",
       "\n",
       "\n"
      ],
      "text/plain": [
       "   cod ages state education\n",
       "3  A3  25   WA    High     \n",
       "8  A8  25   NY    Medium   \n",
       "20 A20 25   NY    Low      "
      ]
     },
     "metadata": {},
     "output_type": "display_data"
    }
   ],
   "source": [
    "# the youngest person/people\n",
    "\n",
    "condition=min(people$ages)\n",
    "people[people$ages==condition,]"
   ]
  },
  {
   "cell_type": "code",
   "execution_count": 20,
   "metadata": {},
   "outputs": [
    {
     "data": {
      "text/html": [
       "<table>\n",
       "<thead><tr><th></th><th scope=col>cod</th><th scope=col>ages</th><th scope=col>state</th><th scope=col>education</th></tr></thead>\n",
       "<tbody>\n",
       "\t<tr><th scope=row>3</th><td>A3  </td><td>25  </td><td>WA  </td><td>High</td></tr>\n",
       "</tbody>\n",
       "</table>\n"
      ],
      "text/latex": [
       "\\begin{tabular}{r|llll}\n",
       "  & cod & ages & state & education\\\\\n",
       "\\hline\n",
       "\t3 & A3   & 25   & WA   & High\\\\\n",
       "\\end{tabular}\n"
      ],
      "text/markdown": [
       "\n",
       "| <!--/--> | cod | ages | state | education | \n",
       "|---|\n",
       "| 3 | A3   | 25   | WA   | High | \n",
       "\n",
       "\n"
      ],
      "text/plain": [
       "  cod ages state education\n",
       "3 A3  25   WA    High     "
      ]
     },
     "metadata": {},
     "output_type": "display_data"
    }
   ],
   "source": [
    "# compare\n",
    "people[which.min(people$ages),]"
   ]
  },
  {
   "cell_type": "markdown",
   "metadata": {},
   "source": [
    "**Multiple conditions** bring the challenge of dealing with several data types:"
   ]
  },
  {
   "cell_type": "code",
   "execution_count": 21,
   "metadata": {},
   "outputs": [
    {
     "data": {
      "text/html": [
       "<table>\n",
       "<thead><tr><th></th><th scope=col>cod</th><th scope=col>ages</th><th scope=col>state</th><th scope=col>education</th></tr></thead>\n",
       "<tbody>\n",
       "\t<tr><th scope=row>3</th><td>A3    </td><td>25    </td><td>WA    </td><td>High  </td></tr>\n",
       "\t<tr><th scope=row>6</th><td>A6    </td><td>37    </td><td>NY    </td><td>High  </td></tr>\n",
       "\t<tr><th scope=row>7</th><td>A7    </td><td>37    </td><td>NY    </td><td>Medium</td></tr>\n",
       "\t<tr><th scope=row>8</th><td>A8    </td><td>25    </td><td>NY    </td><td>Medium</td></tr>\n",
       "\t<tr><th scope=row>9</th><td>A9    </td><td>38    </td><td>CO    </td><td>Low   </td></tr>\n",
       "\t<tr><th scope=row>19</th><td>A19   </td><td>40    </td><td>NY    </td><td>Medium</td></tr>\n",
       "\t<tr><th scope=row>20</th><td>A20   </td><td>25    </td><td>NY    </td><td>Low   </td></tr>\n",
       "</tbody>\n",
       "</table>\n"
      ],
      "text/latex": [
       "\\begin{tabular}{r|llll}\n",
       "  & cod & ages & state & education\\\\\n",
       "\\hline\n",
       "\t3 & A3     & 25     & WA     & High  \\\\\n",
       "\t6 & A6     & 37     & NY     & High  \\\\\n",
       "\t7 & A7     & 37     & NY     & Medium\\\\\n",
       "\t8 & A8     & 25     & NY     & Medium\\\\\n",
       "\t9 & A9     & 38     & CO     & Low   \\\\\n",
       "\t19 & A19    & 40     & NY     & Medium\\\\\n",
       "\t20 & A20    & 25     & NY     & Low   \\\\\n",
       "\\end{tabular}\n"
      ],
      "text/markdown": [
       "\n",
       "| <!--/--> | cod | ages | state | education | \n",
       "|---|---|---|---|---|---|---|\n",
       "| 3 | A3     | 25     | WA     | High   | \n",
       "| 6 | A6     | 37     | NY     | High   | \n",
       "| 7 | A7     | 37     | NY     | Medium | \n",
       "| 8 | A8     | 25     | NY     | Medium | \n",
       "| 9 | A9     | 38     | CO     | Low    | \n",
       "| 19 | A19    | 40     | NY     | Medium | \n",
       "| 20 | A20    | 25     | NY     | Low    | \n",
       "\n",
       "\n"
      ],
      "text/plain": [
       "   cod ages state education\n",
       "3  A3  25   WA    High     \n",
       "6  A6  37   NY    High     \n",
       "7  A7  37   NY    Medium   \n",
       "8  A8  25   NY    Medium   \n",
       "9  A9  38   CO    Low      \n",
       "19 A19 40   NY    Medium   \n",
       "20 A20 25   NY    Low      "
      ]
     },
     "metadata": {},
     "output_type": "display_data"
    }
   ],
   "source": [
    "# older than 35 OR younger than 27\n",
    "people[people$ages>35 | people$ages<27,]\n"
   ]
  },
  {
   "cell_type": "code",
   "execution_count": 22,
   "metadata": {},
   "outputs": [
    {
     "data": {
      "text/html": [
       "<table>\n",
       "<thead><tr><th></th><th scope=col>cod</th><th scope=col>ages</th><th scope=col>state</th><th scope=col>education</th></tr></thead>\n",
       "<tbody>\n",
       "\t<tr><th scope=row>8</th><td>A8    </td><td>25    </td><td>NY    </td><td>Medium</td></tr>\n",
       "</tbody>\n",
       "</table>\n"
      ],
      "text/latex": [
       "\\begin{tabular}{r|llll}\n",
       "  & cod & ages & state & education\\\\\n",
       "\\hline\n",
       "\t8 & A8     & 25     & NY     & Medium\\\\\n",
       "\\end{tabular}\n"
      ],
      "text/markdown": [
       "\n",
       "| <!--/--> | cod | ages | state | education | \n",
       "|---|\n",
       "| 8 | A8     | 25     | NY     | Medium | \n",
       "\n",
       "\n"
      ],
      "text/plain": [
       "  cod ages state education\n",
       "8 A8  25   NY    Medium   "
      ]
     },
     "metadata": {},
     "output_type": "display_data"
    }
   ],
   "source": [
    "# younger than 27 WITH education level Medium\n",
    "people[people$ages<27 & people$education==\"Medium\",]"
   ]
  },
  {
   "cell_type": "code",
   "execution_count": 23,
   "metadata": {},
   "outputs": [
    {
     "data": {
      "text/html": [
       "<table>\n",
       "<thead><tr><th></th><th scope=col>cod</th><th scope=col>ages</th><th scope=col>state</th><th scope=col>education</th></tr></thead>\n",
       "<tbody>\n",
       "\t<tr><th scope=row>1</th><td>A1    </td><td>27    </td><td>NY    </td><td>High  </td></tr>\n",
       "\t<tr><th scope=row>3</th><td>A3    </td><td>25    </td><td>WA    </td><td>High  </td></tr>\n",
       "\t<tr><th scope=row>8</th><td>A8    </td><td>25    </td><td>NY    </td><td>Medium</td></tr>\n",
       "\t<tr><th scope=row>14</th><td>A14   </td><td>27    </td><td>CO    </td><td>Medium</td></tr>\n",
       "\t<tr><th scope=row>15</th><td>A15   </td><td>28    </td><td>NY    </td><td>High  </td></tr>\n",
       "</tbody>\n",
       "</table>\n"
      ],
      "text/latex": [
       "\\begin{tabular}{r|llll}\n",
       "  & cod & ages & state & education\\\\\n",
       "\\hline\n",
       "\t1 & A1     & 27     & NY     & High  \\\\\n",
       "\t3 & A3     & 25     & WA     & High  \\\\\n",
       "\t8 & A8     & 25     & NY     & Medium\\\\\n",
       "\t14 & A14    & 27     & CO     & Medium\\\\\n",
       "\t15 & A15    & 28     & NY     & High  \\\\\n",
       "\\end{tabular}\n"
      ],
      "text/markdown": [
       "\n",
       "| <!--/--> | cod | ages | state | education | \n",
       "|---|---|---|---|---|\n",
       "| 1 | A1     | 27     | NY     | High   | \n",
       "| 3 | A3     | 25     | WA     | High   | \n",
       "| 8 | A8     | 25     | NY     | Medium | \n",
       "| 14 | A14    | 27     | CO     | Medium | \n",
       "| 15 | A15    | 28     | NY     | High   | \n",
       "\n",
       "\n"
      ],
      "text/plain": [
       "   cod ages state education\n",
       "1  A1  27   NY    High     \n",
       "3  A3  25   WA    High     \n",
       "8  A8  25   NY    Medium   \n",
       "14 A14 27   CO    Medium   \n",
       "15 A15 28   NY    High     "
      ]
     },
     "metadata": {},
     "output_type": "display_data"
    }
   ],
   "source": [
    "# younger than 30 WITH education level 2 or 3\n",
    "condition=c(\"Medium\",\"High\")\n",
    "people[people$ages<30 & people$education %in% condition,]"
   ]
  },
  {
   "cell_type": "code",
   "execution_count": 24,
   "metadata": {},
   "outputs": [
    {
     "data": {
      "text/html": [
       "<table>\n",
       "<thead><tr><th></th><th scope=col>cod</th><th scope=col>ages</th><th scope=col>state</th><th scope=col>education</th></tr></thead>\n",
       "<tbody>\n",
       "\t<tr><th scope=row>6</th><td>A6    </td><td>37    </td><td>NY    </td><td>High  </td></tr>\n",
       "\t<tr><th scope=row>7</th><td>A7    </td><td>37    </td><td>NY    </td><td>Medium</td></tr>\n",
       "\t<tr><th scope=row>19</th><td>A19   </td><td>40    </td><td>NY    </td><td>Medium</td></tr>\n",
       "</tbody>\n",
       "</table>\n"
      ],
      "text/latex": [
       "\\begin{tabular}{r|llll}\n",
       "  & cod & ages & state & education\\\\\n",
       "\\hline\n",
       "\t6 & A6     & 37     & NY     & High  \\\\\n",
       "\t7 & A7     & 37     & NY     & Medium\\\\\n",
       "\t19 & A19    & 40     & NY     & Medium\\\\\n",
       "\\end{tabular}\n"
      ],
      "text/markdown": [
       "\n",
       "| <!--/--> | cod | ages | state | education | \n",
       "|---|---|---|\n",
       "| 6 | A6     | 37     | NY     | High   | \n",
       "| 7 | A7     | 37     | NY     | Medium | \n",
       "| 19 | A19    | 40     | NY     | Medium | \n",
       "\n",
       "\n"
      ],
      "text/plain": [
       "   cod ages state education\n",
       "6  A6  37   NY    High     \n",
       "7  A7  37   NY    Medium   \n",
       "19 A19 40   NY    Medium   "
      ]
     },
     "metadata": {},
     "output_type": "display_data"
    }
   ],
   "source": [
    "# older than 30 WITH education level 2 OR 3 FROM NY\n",
    "\n",
    "people[ people$ages>30& \n",
    "           people$education %in% condition &\n",
    "           people$state=='NY',]"
   ]
  },
  {
   "cell_type": "markdown",
   "metadata": {},
   "source": [
    "R has the **filter()** function which allows the selection of rows in an 'english language' approach:"
   ]
  },
  {
   "cell_type": "code",
   "execution_count": 26,
   "metadata": {},
   "outputs": [
    {
     "data": {
      "text/html": [
       "<table>\n",
       "<thead><tr><th scope=col>cod</th><th scope=col>ages</th><th scope=col>state</th><th scope=col>education</th></tr></thead>\n",
       "<tbody>\n",
       "\t<tr><td>A6    </td><td>37    </td><td>NY    </td><td>High  </td></tr>\n",
       "\t<tr><td>A7    </td><td>37    </td><td>NY    </td><td>Medium</td></tr>\n",
       "\t<tr><td>A19   </td><td>40    </td><td>NY    </td><td>Medium</td></tr>\n",
       "</tbody>\n",
       "</table>\n"
      ],
      "text/latex": [
       "\\begin{tabular}{r|llll}\n",
       " cod & ages & state & education\\\\\n",
       "\\hline\n",
       "\t A6     & 37     & NY     & High  \\\\\n",
       "\t A7     & 37     & NY     & Medium\\\\\n",
       "\t A19    & 40     & NY     & Medium\\\\\n",
       "\\end{tabular}\n"
      ],
      "text/markdown": [
       "\n",
       "cod | ages | state | education | \n",
       "|---|---|---|\n",
       "| A6     | 37     | NY     | High   | \n",
       "| A7     | 37     | NY     | Medium | \n",
       "| A19    | 40     | NY     | Medium | \n",
       "\n",
       "\n"
      ],
      "text/plain": [
       "  cod ages state education\n",
       "1 A6  37   NY    High     \n",
       "2 A7  37   NY    Medium   \n",
       "3 A19 40   NY    Medium   "
      ]
     },
     "metadata": {},
     "output_type": "display_data"
    }
   ],
   "source": [
    "library(dplyr)\n",
    "\n",
    "filter( people, ages > 30 & \n",
    "            education %in% condition & \n",
    "            state=='NY'  )"
   ]
  },
  {
   "cell_type": "markdown",
   "metadata": {},
   "source": [
    "**Case 2: selecting columns**\n",
    "\n",
    "This is how you can get some columns:\n"
   ]
  },
  {
   "cell_type": "code",
   "execution_count": 27,
   "metadata": {},
   "outputs": [
    {
     "data": {
      "text/html": [
       "<table>\n",
       "<thead><tr><th scope=col>cod</th><th scope=col>state</th></tr></thead>\n",
       "<tbody>\n",
       "\t<tr><td>A1 </td><td>NY </td></tr>\n",
       "\t<tr><td>A2 </td><td>WA </td></tr>\n",
       "\t<tr><td>A3 </td><td>WA </td></tr>\n",
       "\t<tr><td>A4 </td><td>CO </td></tr>\n",
       "\t<tr><td>A5 </td><td>CO </td></tr>\n",
       "\t<tr><td>A6 </td><td>NY </td></tr>\n",
       "\t<tr><td>A7 </td><td>NY </td></tr>\n",
       "\t<tr><td>A8 </td><td>NY </td></tr>\n",
       "\t<tr><td>A9 </td><td>CO </td></tr>\n",
       "\t<tr><td>A10</td><td>VA </td></tr>\n",
       "\t<tr><td>A11</td><td>WA </td></tr>\n",
       "\t<tr><td>A12</td><td>WA </td></tr>\n",
       "\t<tr><td>A13</td><td>NY </td></tr>\n",
       "\t<tr><td>A14</td><td>CO </td></tr>\n",
       "\t<tr><td>A15</td><td>NY </td></tr>\n",
       "\t<tr><td>A16</td><td>WA </td></tr>\n",
       "\t<tr><td>A17</td><td>WA </td></tr>\n",
       "\t<tr><td>A18</td><td>WA </td></tr>\n",
       "\t<tr><td>A19</td><td>NY </td></tr>\n",
       "\t<tr><td>A20</td><td>NY </td></tr>\n",
       "</tbody>\n",
       "</table>\n"
      ],
      "text/latex": [
       "\\begin{tabular}{r|ll}\n",
       " cod & state\\\\\n",
       "\\hline\n",
       "\t A1  & NY \\\\\n",
       "\t A2  & WA \\\\\n",
       "\t A3  & WA \\\\\n",
       "\t A4  & CO \\\\\n",
       "\t A5  & CO \\\\\n",
       "\t A6  & NY \\\\\n",
       "\t A7  & NY \\\\\n",
       "\t A8  & NY \\\\\n",
       "\t A9  & CO \\\\\n",
       "\t A10 & VA \\\\\n",
       "\t A11 & WA \\\\\n",
       "\t A12 & WA \\\\\n",
       "\t A13 & NY \\\\\n",
       "\t A14 & CO \\\\\n",
       "\t A15 & NY \\\\\n",
       "\t A16 & WA \\\\\n",
       "\t A17 & WA \\\\\n",
       "\t A18 & WA \\\\\n",
       "\t A19 & NY \\\\\n",
       "\t A20 & NY \\\\\n",
       "\\end{tabular}\n"
      ],
      "text/markdown": [
       "\n",
       "cod | state | \n",
       "|---|---|---|---|---|---|---|---|---|---|---|---|---|---|---|---|---|---|---|---|\n",
       "| A1  | NY  | \n",
       "| A2  | WA  | \n",
       "| A3  | WA  | \n",
       "| A4  | CO  | \n",
       "| A5  | CO  | \n",
       "| A6  | NY  | \n",
       "| A7  | NY  | \n",
       "| A8  | NY  | \n",
       "| A9  | CO  | \n",
       "| A10 | VA  | \n",
       "| A11 | WA  | \n",
       "| A12 | WA  | \n",
       "| A13 | NY  | \n",
       "| A14 | CO  | \n",
       "| A15 | NY  | \n",
       "| A16 | WA  | \n",
       "| A17 | WA  | \n",
       "| A18 | WA  | \n",
       "| A19 | NY  | \n",
       "| A20 | NY  | \n",
       "\n",
       "\n"
      ],
      "text/plain": [
       "   cod state\n",
       "1  A1  NY   \n",
       "2  A2  WA   \n",
       "3  A3  WA   \n",
       "4  A4  CO   \n",
       "5  A5  CO   \n",
       "6  A6  NY   \n",
       "7  A7  NY   \n",
       "8  A8  NY   \n",
       "9  A9  CO   \n",
       "10 A10 VA   \n",
       "11 A11 WA   \n",
       "12 A12 WA   \n",
       "13 A13 NY   \n",
       "14 A14 CO   \n",
       "15 A15 NY   \n",
       "16 A16 WA   \n",
       "17 A17 WA   \n",
       "18 A18 WA   \n",
       "19 A19 NY   \n",
       "20 A20 NY   "
      ]
     },
     "metadata": {},
     "output_type": "display_data"
    }
   ],
   "source": [
    "people[,c('cod','state')] # notice the comma position"
   ]
  },
  {
   "cell_type": "markdown",
   "metadata": {},
   "source": [
    "This can be also done by using **select** (from dplyr)"
   ]
  },
  {
   "cell_type": "code",
   "execution_count": 28,
   "metadata": {},
   "outputs": [
    {
     "data": {
      "text/html": [
       "<table>\n",
       "<thead><tr><th scope=col>cod</th><th scope=col>state</th></tr></thead>\n",
       "<tbody>\n",
       "\t<tr><td>A1 </td><td>NY </td></tr>\n",
       "\t<tr><td>A2 </td><td>WA </td></tr>\n",
       "\t<tr><td>A3 </td><td>WA </td></tr>\n",
       "\t<tr><td>A4 </td><td>CO </td></tr>\n",
       "\t<tr><td>A5 </td><td>CO </td></tr>\n",
       "\t<tr><td>A6 </td><td>NY </td></tr>\n",
       "\t<tr><td>A7 </td><td>NY </td></tr>\n",
       "\t<tr><td>A8 </td><td>NY </td></tr>\n",
       "\t<tr><td>A9 </td><td>CO </td></tr>\n",
       "\t<tr><td>A10</td><td>VA </td></tr>\n",
       "\t<tr><td>A11</td><td>WA </td></tr>\n",
       "\t<tr><td>A12</td><td>WA </td></tr>\n",
       "\t<tr><td>A13</td><td>NY </td></tr>\n",
       "\t<tr><td>A14</td><td>CO </td></tr>\n",
       "\t<tr><td>A15</td><td>NY </td></tr>\n",
       "\t<tr><td>A16</td><td>WA </td></tr>\n",
       "\t<tr><td>A17</td><td>WA </td></tr>\n",
       "\t<tr><td>A18</td><td>WA </td></tr>\n",
       "\t<tr><td>A19</td><td>NY </td></tr>\n",
       "\t<tr><td>A20</td><td>NY </td></tr>\n",
       "</tbody>\n",
       "</table>\n"
      ],
      "text/latex": [
       "\\begin{tabular}{r|ll}\n",
       " cod & state\\\\\n",
       "\\hline\n",
       "\t A1  & NY \\\\\n",
       "\t A2  & WA \\\\\n",
       "\t A3  & WA \\\\\n",
       "\t A4  & CO \\\\\n",
       "\t A5  & CO \\\\\n",
       "\t A6  & NY \\\\\n",
       "\t A7  & NY \\\\\n",
       "\t A8  & NY \\\\\n",
       "\t A9  & CO \\\\\n",
       "\t A10 & VA \\\\\n",
       "\t A11 & WA \\\\\n",
       "\t A12 & WA \\\\\n",
       "\t A13 & NY \\\\\n",
       "\t A14 & CO \\\\\n",
       "\t A15 & NY \\\\\n",
       "\t A16 & WA \\\\\n",
       "\t A17 & WA \\\\\n",
       "\t A18 & WA \\\\\n",
       "\t A19 & NY \\\\\n",
       "\t A20 & NY \\\\\n",
       "\\end{tabular}\n"
      ],
      "text/markdown": [
       "\n",
       "cod | state | \n",
       "|---|---|---|---|---|---|---|---|---|---|---|---|---|---|---|---|---|---|---|---|\n",
       "| A1  | NY  | \n",
       "| A2  | WA  | \n",
       "| A3  | WA  | \n",
       "| A4  | CO  | \n",
       "| A5  | CO  | \n",
       "| A6  | NY  | \n",
       "| A7  | NY  | \n",
       "| A8  | NY  | \n",
       "| A9  | CO  | \n",
       "| A10 | VA  | \n",
       "| A11 | WA  | \n",
       "| A12 | WA  | \n",
       "| A13 | NY  | \n",
       "| A14 | CO  | \n",
       "| A15 | NY  | \n",
       "| A16 | WA  | \n",
       "| A17 | WA  | \n",
       "| A18 | WA  | \n",
       "| A19 | NY  | \n",
       "| A20 | NY  | \n",
       "\n",
       "\n"
      ],
      "text/plain": [
       "   cod state\n",
       "1  A1  NY   \n",
       "2  A2  WA   \n",
       "3  A3  WA   \n",
       "4  A4  CO   \n",
       "5  A5  CO   \n",
       "6  A6  NY   \n",
       "7  A7  NY   \n",
       "8  A8  NY   \n",
       "9  A9  CO   \n",
       "10 A10 VA   \n",
       "11 A11 WA   \n",
       "12 A12 WA   \n",
       "13 A13 NY   \n",
       "14 A14 CO   \n",
       "15 A15 NY   \n",
       "16 A16 WA   \n",
       "17 A17 WA   \n",
       "18 A18 WA   \n",
       "19 A19 NY   \n",
       "20 A20 NY   "
      ]
     },
     "metadata": {},
     "output_type": "display_data"
    }
   ],
   "source": [
    "select(people, c('cod','state'))"
   ]
  },
  {
   "cell_type": "markdown",
   "metadata": {},
   "source": [
    "Or like this:"
   ]
  },
  {
   "cell_type": "code",
   "execution_count": 29,
   "metadata": {},
   "outputs": [
    {
     "data": {
      "text/html": [
       "<table>\n",
       "<thead><tr><th scope=col>cod</th><th scope=col>state</th></tr></thead>\n",
       "<tbody>\n",
       "\t<tr><td>A1 </td><td>NY </td></tr>\n",
       "\t<tr><td>A2 </td><td>WA </td></tr>\n",
       "\t<tr><td>A3 </td><td>WA </td></tr>\n",
       "\t<tr><td>A4 </td><td>CO </td></tr>\n",
       "\t<tr><td>A5 </td><td>CO </td></tr>\n",
       "\t<tr><td>A6 </td><td>NY </td></tr>\n",
       "\t<tr><td>A7 </td><td>NY </td></tr>\n",
       "\t<tr><td>A8 </td><td>NY </td></tr>\n",
       "\t<tr><td>A9 </td><td>CO </td></tr>\n",
       "\t<tr><td>A10</td><td>VA </td></tr>\n",
       "\t<tr><td>A11</td><td>WA </td></tr>\n",
       "\t<tr><td>A12</td><td>WA </td></tr>\n",
       "\t<tr><td>A13</td><td>NY </td></tr>\n",
       "\t<tr><td>A14</td><td>CO </td></tr>\n",
       "\t<tr><td>A15</td><td>NY </td></tr>\n",
       "\t<tr><td>A16</td><td>WA </td></tr>\n",
       "\t<tr><td>A17</td><td>WA </td></tr>\n",
       "\t<tr><td>A18</td><td>WA </td></tr>\n",
       "\t<tr><td>A19</td><td>NY </td></tr>\n",
       "\t<tr><td>A20</td><td>NY </td></tr>\n",
       "</tbody>\n",
       "</table>\n"
      ],
      "text/latex": [
       "\\begin{tabular}{r|ll}\n",
       " cod & state\\\\\n",
       "\\hline\n",
       "\t A1  & NY \\\\\n",
       "\t A2  & WA \\\\\n",
       "\t A3  & WA \\\\\n",
       "\t A4  & CO \\\\\n",
       "\t A5  & CO \\\\\n",
       "\t A6  & NY \\\\\n",
       "\t A7  & NY \\\\\n",
       "\t A8  & NY \\\\\n",
       "\t A9  & CO \\\\\n",
       "\t A10 & VA \\\\\n",
       "\t A11 & WA \\\\\n",
       "\t A12 & WA \\\\\n",
       "\t A13 & NY \\\\\n",
       "\t A14 & CO \\\\\n",
       "\t A15 & NY \\\\\n",
       "\t A16 & WA \\\\\n",
       "\t A17 & WA \\\\\n",
       "\t A18 & WA \\\\\n",
       "\t A19 & NY \\\\\n",
       "\t A20 & NY \\\\\n",
       "\\end{tabular}\n"
      ],
      "text/markdown": [
       "\n",
       "cod | state | \n",
       "|---|---|---|---|---|---|---|---|---|---|---|---|---|---|---|---|---|---|---|---|\n",
       "| A1  | NY  | \n",
       "| A2  | WA  | \n",
       "| A3  | WA  | \n",
       "| A4  | CO  | \n",
       "| A5  | CO  | \n",
       "| A6  | NY  | \n",
       "| A7  | NY  | \n",
       "| A8  | NY  | \n",
       "| A9  | CO  | \n",
       "| A10 | VA  | \n",
       "| A11 | WA  | \n",
       "| A12 | WA  | \n",
       "| A13 | NY  | \n",
       "| A14 | CO  | \n",
       "| A15 | NY  | \n",
       "| A16 | WA  | \n",
       "| A17 | WA  | \n",
       "| A18 | WA  | \n",
       "| A19 | NY  | \n",
       "| A20 | NY  | \n",
       "\n",
       "\n"
      ],
      "text/plain": [
       "   cod state\n",
       "1  A1  NY   \n",
       "2  A2  WA   \n",
       "3  A3  WA   \n",
       "4  A4  CO   \n",
       "5  A5  CO   \n",
       "6  A6  NY   \n",
       "7  A7  NY   \n",
       "8  A8  NY   \n",
       "9  A9  CO   \n",
       "10 A10 VA   \n",
       "11 A11 WA   \n",
       "12 A12 WA   \n",
       "13 A13 NY   \n",
       "14 A14 CO   \n",
       "15 A15 NY   \n",
       "16 A16 WA   \n",
       "17 A17 WA   \n",
       "18 A18 WA   \n",
       "19 A19 NY   \n",
       "20 A20 NY   "
      ]
     },
     "metadata": {},
     "output_type": "display_data"
    }
   ],
   "source": [
    "select(people, cod,state)"
   ]
  },
  {
   "cell_type": "markdown",
   "metadata": {},
   "source": [
    "Of course, you can use conditions for rows and columns. "
   ]
  },
  {
   "cell_type": "code",
   "execution_count": 30,
   "metadata": {},
   "outputs": [
    {
     "data": {
      "text/html": [
       "<table>\n",
       "<thead><tr><th></th><th scope=col>cod</th><th scope=col>state</th></tr></thead>\n",
       "<tbody>\n",
       "\t<tr><th scope=row>3</th><td>A3 </td><td>WA </td></tr>\n",
       "\t<tr><th scope=row>6</th><td>A6 </td><td>NY </td></tr>\n",
       "\t<tr><th scope=row>7</th><td>A7 </td><td>NY </td></tr>\n",
       "\t<tr><th scope=row>8</th><td>A8 </td><td>NY </td></tr>\n",
       "\t<tr><th scope=row>9</th><td>A9 </td><td>CO </td></tr>\n",
       "\t<tr><th scope=row>19</th><td>A19</td><td>NY </td></tr>\n",
       "\t<tr><th scope=row>20</th><td>A20</td><td>NY </td></tr>\n",
       "</tbody>\n",
       "</table>\n"
      ],
      "text/latex": [
       "\\begin{tabular}{r|ll}\n",
       "  & cod & state\\\\\n",
       "\\hline\n",
       "\t3 & A3  & WA \\\\\n",
       "\t6 & A6  & NY \\\\\n",
       "\t7 & A7  & NY \\\\\n",
       "\t8 & A8  & NY \\\\\n",
       "\t9 & A9  & CO \\\\\n",
       "\t19 & A19 & NY \\\\\n",
       "\t20 & A20 & NY \\\\\n",
       "\\end{tabular}\n"
      ],
      "text/markdown": [
       "\n",
       "| <!--/--> | cod | state | \n",
       "|---|---|---|---|---|---|---|\n",
       "| 3 | A3  | WA  | \n",
       "| 6 | A6  | NY  | \n",
       "| 7 | A7  | NY  | \n",
       "| 8 | A8  | NY  | \n",
       "| 9 | A9  | CO  | \n",
       "| 19 | A19 | NY  | \n",
       "| 20 | A20 | NY  | \n",
       "\n",
       "\n"
      ],
      "text/plain": [
       "   cod state\n",
       "3  A3  WA   \n",
       "6  A6  NY   \n",
       "7  A7  NY   \n",
       "8  A8  NY   \n",
       "9  A9  CO   \n",
       "19 A19 NY   \n",
       "20 A20 NY   "
      ]
     },
     "metadata": {},
     "output_type": "display_data"
    }
   ],
   "source": [
    "# older than 35 OR younger than 27\n",
    "people[people$ages>35 | people$ages<27,c('cod','state')]"
   ]
  },
  {
   "cell_type": "markdown",
   "metadata": {},
   "source": [
    "You can turn the previous command using the dplyr tools and the **pip** (%>%) operator:"
   ]
  },
  {
   "cell_type": "code",
   "execution_count": 31,
   "metadata": {},
   "outputs": [
    {
     "data": {
      "text/html": [
       "<table>\n",
       "<thead><tr><th scope=col>cod</th><th scope=col>state</th></tr></thead>\n",
       "<tbody>\n",
       "\t<tr><td>A3 </td><td>WA </td></tr>\n",
       "\t<tr><td>A6 </td><td>NY </td></tr>\n",
       "\t<tr><td>A7 </td><td>NY </td></tr>\n",
       "\t<tr><td>A8 </td><td>NY </td></tr>\n",
       "\t<tr><td>A9 </td><td>CO </td></tr>\n",
       "\t<tr><td>A19</td><td>NY </td></tr>\n",
       "\t<tr><td>A20</td><td>NY </td></tr>\n",
       "</tbody>\n",
       "</table>\n"
      ],
      "text/latex": [
       "\\begin{tabular}{r|ll}\n",
       " cod & state\\\\\n",
       "\\hline\n",
       "\t A3  & WA \\\\\n",
       "\t A6  & NY \\\\\n",
       "\t A7  & NY \\\\\n",
       "\t A8  & NY \\\\\n",
       "\t A9  & CO \\\\\n",
       "\t A19 & NY \\\\\n",
       "\t A20 & NY \\\\\n",
       "\\end{tabular}\n"
      ],
      "text/markdown": [
       "\n",
       "cod | state | \n",
       "|---|---|---|---|---|---|---|\n",
       "| A3  | WA  | \n",
       "| A6  | NY  | \n",
       "| A7  | NY  | \n",
       "| A8  | NY  | \n",
       "| A9  | CO  | \n",
       "| A19 | NY  | \n",
       "| A20 | NY  | \n",
       "\n",
       "\n"
      ],
      "text/plain": [
       "  cod state\n",
       "1 A3  WA   \n",
       "2 A6  NY   \n",
       "3 A7  NY   \n",
       "4 A8  NY   \n",
       "5 A9  CO   \n",
       "6 A19 NY   \n",
       "7 A20 NY   "
      ]
     },
     "metadata": {},
     "output_type": "display_data"
    }
   ],
   "source": [
    "people %>% filter(ages>35 | ages<27) %>% select(cod,state)"
   ]
  },
  {
   "cell_type": "markdown",
   "metadata": {},
   "source": [
    "**Note on missing values**\n",
    "\n",
    "It is always a good practice, when you know missing values are present, so that you can anticipate possible unexpected results."
   ]
  },
  {
   "cell_type": "code",
   "execution_count": 32,
   "metadata": {},
   "outputs": [
    {
     "data": {
      "text/html": [
       "27"
      ],
      "text/latex": [
       "27"
      ],
      "text/markdown": [
       "27"
      ],
      "text/plain": [
       "[1] 27"
      ]
     },
     "metadata": {},
     "output_type": "display_data"
    }
   ],
   "source": [
    "# current value\n",
    "people$ages[1]\n"
   ]
  },
  {
   "cell_type": "code",
   "execution_count": 33,
   "metadata": {},
   "outputs": [],
   "source": [
    "#turning that value to  missing:\n",
    "people$ages[1]=NA\n"
   ]
  },
  {
   "cell_type": "code",
   "execution_count": 34,
   "metadata": {},
   "outputs": [
    {
     "data": {
      "text/html": [
       "<table>\n",
       "<thead><tr><th scope=col>cod</th><th scope=col>ages</th><th scope=col>state</th><th scope=col>education</th></tr></thead>\n",
       "<tbody>\n",
       "\t<tr><td>A1    </td><td>NA    </td><td>NY    </td><td>High  </td></tr>\n",
       "\t<tr><td>A2    </td><td>27    </td><td>WA    </td><td>Low   </td></tr>\n",
       "\t<tr><td>A3    </td><td>25    </td><td>WA    </td><td>High  </td></tr>\n",
       "\t<tr><td>A4    </td><td>31    </td><td>CO    </td><td>Medium</td></tr>\n",
       "\t<tr><td>A5    </td><td>28    </td><td>CO    </td><td>Low   </td></tr>\n",
       "\t<tr><td>A6    </td><td>37    </td><td>NY    </td><td>High  </td></tr>\n",
       "\t<tr><td>A7    </td><td>37    </td><td>NY    </td><td>Medium</td></tr>\n",
       "\t<tr><td>A8    </td><td>25    </td><td>NY    </td><td>Medium</td></tr>\n",
       "\t<tr><td>A9    </td><td>38    </td><td>CO    </td><td>Low   </td></tr>\n",
       "\t<tr><td>A10   </td><td>28    </td><td>VA    </td><td>Low   </td></tr>\n",
       "\t<tr><td>A11   </td><td>31    </td><td>WA    </td><td>Medium</td></tr>\n",
       "\t<tr><td>A12   </td><td>34    </td><td>WA    </td><td>High  </td></tr>\n",
       "\t<tr><td>A13   </td><td>27    </td><td>NY    </td><td>Low   </td></tr>\n",
       "\t<tr><td>A14   </td><td>27    </td><td>CO    </td><td>Medium</td></tr>\n",
       "\t<tr><td>A15   </td><td>28    </td><td>NY    </td><td>High  </td></tr>\n",
       "\t<tr><td>A16   </td><td>28    </td><td>WA    </td><td>Low   </td></tr>\n",
       "\t<tr><td>A17   </td><td>27    </td><td>WA    </td><td>Low   </td></tr>\n",
       "\t<tr><td>A18   </td><td>32    </td><td>WA    </td><td>Low   </td></tr>\n",
       "\t<tr><td>A19   </td><td>40    </td><td>NY    </td><td>Medium</td></tr>\n",
       "\t<tr><td>A20   </td><td>25    </td><td>NY    </td><td>Low   </td></tr>\n",
       "</tbody>\n",
       "</table>\n"
      ],
      "text/latex": [
       "\\begin{tabular}{r|llll}\n",
       " cod & ages & state & education\\\\\n",
       "\\hline\n",
       "\t A1     & NA     & NY     & High  \\\\\n",
       "\t A2     & 27     & WA     & Low   \\\\\n",
       "\t A3     & 25     & WA     & High  \\\\\n",
       "\t A4     & 31     & CO     & Medium\\\\\n",
       "\t A5     & 28     & CO     & Low   \\\\\n",
       "\t A6     & 37     & NY     & High  \\\\\n",
       "\t A7     & 37     & NY     & Medium\\\\\n",
       "\t A8     & 25     & NY     & Medium\\\\\n",
       "\t A9     & 38     & CO     & Low   \\\\\n",
       "\t A10    & 28     & VA     & Low   \\\\\n",
       "\t A11    & 31     & WA     & Medium\\\\\n",
       "\t A12    & 34     & WA     & High  \\\\\n",
       "\t A13    & 27     & NY     & Low   \\\\\n",
       "\t A14    & 27     & CO     & Medium\\\\\n",
       "\t A15    & 28     & NY     & High  \\\\\n",
       "\t A16    & 28     & WA     & Low   \\\\\n",
       "\t A17    & 27     & WA     & Low   \\\\\n",
       "\t A18    & 32     & WA     & Low   \\\\\n",
       "\t A19    & 40     & NY     & Medium\\\\\n",
       "\t A20    & 25     & NY     & Low   \\\\\n",
       "\\end{tabular}\n"
      ],
      "text/markdown": [
       "\n",
       "cod | ages | state | education | \n",
       "|---|---|---|---|---|---|---|---|---|---|---|---|---|---|---|---|---|---|---|---|\n",
       "| A1     | NA     | NY     | High   | \n",
       "| A2     | 27     | WA     | Low    | \n",
       "| A3     | 25     | WA     | High   | \n",
       "| A4     | 31     | CO     | Medium | \n",
       "| A5     | 28     | CO     | Low    | \n",
       "| A6     | 37     | NY     | High   | \n",
       "| A7     | 37     | NY     | Medium | \n",
       "| A8     | 25     | NY     | Medium | \n",
       "| A9     | 38     | CO     | Low    | \n",
       "| A10    | 28     | VA     | Low    | \n",
       "| A11    | 31     | WA     | Medium | \n",
       "| A12    | 34     | WA     | High   | \n",
       "| A13    | 27     | NY     | Low    | \n",
       "| A14    | 27     | CO     | Medium | \n",
       "| A15    | 28     | NY     | High   | \n",
       "| A16    | 28     | WA     | Low    | \n",
       "| A17    | 27     | WA     | Low    | \n",
       "| A18    | 32     | WA     | Low    | \n",
       "| A19    | 40     | NY     | Medium | \n",
       "| A20    | 25     | NY     | Low    | \n",
       "\n",
       "\n"
      ],
      "text/plain": [
       "   cod ages state education\n",
       "1  A1  NA   NY    High     \n",
       "2  A2  27   WA    Low      \n",
       "3  A3  25   WA    High     \n",
       "4  A4  31   CO    Medium   \n",
       "5  A5  28   CO    Low      \n",
       "6  A6  37   NY    High     \n",
       "7  A7  37   NY    Medium   \n",
       "8  A8  25   NY    Medium   \n",
       "9  A9  38   CO    Low      \n",
       "10 A10 28   VA    Low      \n",
       "11 A11 31   WA    Medium   \n",
       "12 A12 34   WA    High     \n",
       "13 A13 27   NY    Low      \n",
       "14 A14 27   CO    Medium   \n",
       "15 A15 28   NY    High     \n",
       "16 A16 28   WA    Low      \n",
       "17 A17 27   WA    Low      \n",
       "18 A18 32   WA    Low      \n",
       "19 A19 40   NY    Medium   \n",
       "20 A20 25   NY    Low      "
      ]
     },
     "metadata": {},
     "output_type": "display_data"
    }
   ],
   "source": [
    "# then\n",
    "people\n"
   ]
  },
  {
   "cell_type": "markdown",
   "metadata": {},
   "source": [
    "Let me query:"
   ]
  },
  {
   "cell_type": "code",
   "execution_count": 35,
   "metadata": {},
   "outputs": [
    {
     "data": {
      "text/html": [
       "<table>\n",
       "<thead><tr><th></th><th scope=col>cod</th><th scope=col>ages</th><th scope=col>state</th><th scope=col>education</th></tr></thead>\n",
       "<tbody>\n",
       "\t<tr><th scope=row>NA</th><td>NA    </td><td>NA    </td><td>NA    </td><td>NA    </td></tr>\n",
       "\t<tr><th scope=row>4</th><td>A4    </td><td>31    </td><td>CO    </td><td>Medium</td></tr>\n",
       "\t<tr><th scope=row>5</th><td>A5    </td><td>28    </td><td>CO    </td><td>Low   </td></tr>\n",
       "\t<tr><th scope=row>6</th><td>A6    </td><td>37    </td><td>NY    </td><td>High  </td></tr>\n",
       "\t<tr><th scope=row>7</th><td>A7    </td><td>37    </td><td>NY    </td><td>Medium</td></tr>\n",
       "\t<tr><th scope=row>9</th><td>A9    </td><td>38    </td><td>CO    </td><td>Low   </td></tr>\n",
       "\t<tr><th scope=row>10</th><td>A10   </td><td>28    </td><td>VA    </td><td>Low   </td></tr>\n",
       "\t<tr><th scope=row>11</th><td>A11   </td><td>31    </td><td>WA    </td><td>Medium</td></tr>\n",
       "\t<tr><th scope=row>12</th><td>A12   </td><td>34    </td><td>WA    </td><td>High  </td></tr>\n",
       "\t<tr><th scope=row>15</th><td>A15   </td><td>28    </td><td>NY    </td><td>High  </td></tr>\n",
       "\t<tr><th scope=row>16</th><td>A16   </td><td>28    </td><td>WA    </td><td>Low   </td></tr>\n",
       "\t<tr><th scope=row>18</th><td>A18   </td><td>32    </td><td>WA    </td><td>Low   </td></tr>\n",
       "\t<tr><th scope=row>19</th><td>A19   </td><td>40    </td><td>NY    </td><td>Medium</td></tr>\n",
       "</tbody>\n",
       "</table>\n"
      ],
      "text/latex": [
       "\\begin{tabular}{r|llll}\n",
       "  & cod & ages & state & education\\\\\n",
       "\\hline\n",
       "\tNA & NA     & NA     & NA     & NA    \\\\\n",
       "\t4 & A4     & 31     & CO     & Medium\\\\\n",
       "\t5 & A5     & 28     & CO     & Low   \\\\\n",
       "\t6 & A6     & 37     & NY     & High  \\\\\n",
       "\t7 & A7     & 37     & NY     & Medium\\\\\n",
       "\t9 & A9     & 38     & CO     & Low   \\\\\n",
       "\t10 & A10    & 28     & VA     & Low   \\\\\n",
       "\t11 & A11    & 31     & WA     & Medium\\\\\n",
       "\t12 & A12    & 34     & WA     & High  \\\\\n",
       "\t15 & A15    & 28     & NY     & High  \\\\\n",
       "\t16 & A16    & 28     & WA     & Low   \\\\\n",
       "\t18 & A18    & 32     & WA     & Low   \\\\\n",
       "\t19 & A19    & 40     & NY     & Medium\\\\\n",
       "\\end{tabular}\n"
      ],
      "text/markdown": [
       "\n",
       "| <!--/--> | cod | ages | state | education | \n",
       "|---|---|---|---|---|---|---|---|---|---|---|---|---|\n",
       "| NA | NA     | NA     | NA     | NA     | \n",
       "| 4 | A4     | 31     | CO     | Medium | \n",
       "| 5 | A5     | 28     | CO     | Low    | \n",
       "| 6 | A6     | 37     | NY     | High   | \n",
       "| 7 | A7     | 37     | NY     | Medium | \n",
       "| 9 | A9     | 38     | CO     | Low    | \n",
       "| 10 | A10    | 28     | VA     | Low    | \n",
       "| 11 | A11    | 31     | WA     | Medium | \n",
       "| 12 | A12    | 34     | WA     | High   | \n",
       "| 15 | A15    | 28     | NY     | High   | \n",
       "| 16 | A16    | 28     | WA     | Low    | \n",
       "| 18 | A18    | 32     | WA     | Low    | \n",
       "| 19 | A19    | 40     | NY     | Medium | \n",
       "\n",
       "\n"
      ],
      "text/plain": [
       "   cod ages state education\n",
       "NA NA  NA   NA    NA       \n",
       "4  A4  31   CO    Medium   \n",
       "5  A5  28   CO    Low      \n",
       "6  A6  37   NY    High     \n",
       "7  A7  37   NY    Medium   \n",
       "9  A9  38   CO    Low      \n",
       "10 A10 28   VA    Low      \n",
       "11 A11 31   WA    Medium   \n",
       "12 A12 34   WA    High     \n",
       "15 A15 28   NY    High     \n",
       "16 A16 28   WA    Low      \n",
       "18 A18 32   WA    Low      \n",
       "19 A19 40   NY    Medium   "
      ]
     },
     "metadata": {},
     "output_type": "display_data"
    }
   ],
   "source": [
    "people[people$ages>27,]"
   ]
  },
  {
   "cell_type": "markdown",
   "metadata": {},
   "source": [
    "What is the row at the top?\n",
    "\n",
    "Now,\n"
   ]
  },
  {
   "cell_type": "code",
   "execution_count": 36,
   "metadata": {},
   "outputs": [
    {
     "data": {
      "text/html": [
       "<table>\n",
       "<thead><tr><th></th><th scope=col>cod</th><th scope=col>ages</th><th scope=col>state</th><th scope=col>education</th></tr></thead>\n",
       "<tbody>\n",
       "\t<tr><th scope=row>NA</th><td>NA    </td><td>NA    </td><td>NA    </td><td>NA    </td></tr>\n",
       "\t<tr><th scope=row>2</th><td>A2    </td><td>27    </td><td>WA    </td><td>Low   </td></tr>\n",
       "\t<tr><th scope=row>3</th><td>A3    </td><td>25    </td><td>WA    </td><td>High  </td></tr>\n",
       "\t<tr><th scope=row>8</th><td>A8    </td><td>25    </td><td>NY    </td><td>Medium</td></tr>\n",
       "\t<tr><th scope=row>13</th><td>A13   </td><td>27    </td><td>NY    </td><td>Low   </td></tr>\n",
       "\t<tr><th scope=row>14</th><td>A14   </td><td>27    </td><td>CO    </td><td>Medium</td></tr>\n",
       "\t<tr><th scope=row>17</th><td>A17   </td><td>27    </td><td>WA    </td><td>Low   </td></tr>\n",
       "\t<tr><th scope=row>20</th><td>A20   </td><td>25    </td><td>NY    </td><td>Low   </td></tr>\n",
       "</tbody>\n",
       "</table>\n"
      ],
      "text/latex": [
       "\\begin{tabular}{r|llll}\n",
       "  & cod & ages & state & education\\\\\n",
       "\\hline\n",
       "\tNA & NA     & NA     & NA     & NA    \\\\\n",
       "\t2 & A2     & 27     & WA     & Low   \\\\\n",
       "\t3 & A3     & 25     & WA     & High  \\\\\n",
       "\t8 & A8     & 25     & NY     & Medium\\\\\n",
       "\t13 & A13    & 27     & NY     & Low   \\\\\n",
       "\t14 & A14    & 27     & CO     & Medium\\\\\n",
       "\t17 & A17    & 27     & WA     & Low   \\\\\n",
       "\t20 & A20    & 25     & NY     & Low   \\\\\n",
       "\\end{tabular}\n"
      ],
      "text/markdown": [
       "\n",
       "| <!--/--> | cod | ages | state | education | \n",
       "|---|---|---|---|---|---|---|---|\n",
       "| NA | NA     | NA     | NA     | NA     | \n",
       "| 2 | A2     | 27     | WA     | Low    | \n",
       "| 3 | A3     | 25     | WA     | High   | \n",
       "| 8 | A8     | 25     | NY     | Medium | \n",
       "| 13 | A13    | 27     | NY     | Low    | \n",
       "| 14 | A14    | 27     | CO     | Medium | \n",
       "| 17 | A17    | 27     | WA     | Low    | \n",
       "| 20 | A20    | 25     | NY     | Low    | \n",
       "\n",
       "\n"
      ],
      "text/plain": [
       "   cod ages state education\n",
       "NA NA  NA   NA    NA       \n",
       "2  A2  27   WA    Low      \n",
       "3  A3  25   WA    High     \n",
       "8  A8  25   NY    Medium   \n",
       "13 A13 27   NY    Low      \n",
       "14 A14 27   CO    Medium   \n",
       "17 A17 27   WA    Low      \n",
       "20 A20 25   NY    Low      "
      ]
     },
     "metadata": {},
     "output_type": "display_data"
    }
   ],
   "source": [
    "people[people$ages<=27,]"
   ]
  },
  {
   "cell_type": "markdown",
   "metadata": {},
   "source": [
    "Again the same row appears.\n",
    "\n",
    "R gave you a row with all missing values. This happens when your query does not control the _NA_. You may want to use this to create your sub data frame:\n"
   ]
  },
  {
   "cell_type": "code",
   "execution_count": 37,
   "metadata": {},
   "outputs": [
    {
     "data": {
      "text/html": [
       "<table>\n",
       "<thead><tr><th></th><th scope=col>cod</th><th scope=col>ages</th><th scope=col>state</th><th scope=col>education</th></tr></thead>\n",
       "<tbody>\n",
       "\t<tr><th scope=row>4</th><td>A4    </td><td>31    </td><td>CO    </td><td>Medium</td></tr>\n",
       "\t<tr><th scope=row>5</th><td>A5    </td><td>28    </td><td>CO    </td><td>Low   </td></tr>\n",
       "\t<tr><th scope=row>6</th><td>A6    </td><td>37    </td><td>NY    </td><td>High  </td></tr>\n",
       "\t<tr><th scope=row>7</th><td>A7    </td><td>37    </td><td>NY    </td><td>Medium</td></tr>\n",
       "\t<tr><th scope=row>9</th><td>A9    </td><td>38    </td><td>CO    </td><td>Low   </td></tr>\n",
       "\t<tr><th scope=row>10</th><td>A10   </td><td>28    </td><td>VA    </td><td>Low   </td></tr>\n",
       "\t<tr><th scope=row>11</th><td>A11   </td><td>31    </td><td>WA    </td><td>Medium</td></tr>\n",
       "\t<tr><th scope=row>12</th><td>A12   </td><td>34    </td><td>WA    </td><td>High  </td></tr>\n",
       "\t<tr><th scope=row>15</th><td>A15   </td><td>28    </td><td>NY    </td><td>High  </td></tr>\n",
       "\t<tr><th scope=row>16</th><td>A16   </td><td>28    </td><td>WA    </td><td>Low   </td></tr>\n",
       "\t<tr><th scope=row>18</th><td>A18   </td><td>32    </td><td>WA    </td><td>Low   </td></tr>\n",
       "\t<tr><th scope=row>19</th><td>A19   </td><td>40    </td><td>NY    </td><td>Medium</td></tr>\n",
       "</tbody>\n",
       "</table>\n"
      ],
      "text/latex": [
       "\\begin{tabular}{r|llll}\n",
       "  & cod & ages & state & education\\\\\n",
       "\\hline\n",
       "\t4 & A4     & 31     & CO     & Medium\\\\\n",
       "\t5 & A5     & 28     & CO     & Low   \\\\\n",
       "\t6 & A6     & 37     & NY     & High  \\\\\n",
       "\t7 & A7     & 37     & NY     & Medium\\\\\n",
       "\t9 & A9     & 38     & CO     & Low   \\\\\n",
       "\t10 & A10    & 28     & VA     & Low   \\\\\n",
       "\t11 & A11    & 31     & WA     & Medium\\\\\n",
       "\t12 & A12    & 34     & WA     & High  \\\\\n",
       "\t15 & A15    & 28     & NY     & High  \\\\\n",
       "\t16 & A16    & 28     & WA     & Low   \\\\\n",
       "\t18 & A18    & 32     & WA     & Low   \\\\\n",
       "\t19 & A19    & 40     & NY     & Medium\\\\\n",
       "\\end{tabular}\n"
      ],
      "text/markdown": [
       "\n",
       "| <!--/--> | cod | ages | state | education | \n",
       "|---|---|---|---|---|---|---|---|---|---|---|---|\n",
       "| 4 | A4     | 31     | CO     | Medium | \n",
       "| 5 | A5     | 28     | CO     | Low    | \n",
       "| 6 | A6     | 37     | NY     | High   | \n",
       "| 7 | A7     | 37     | NY     | Medium | \n",
       "| 9 | A9     | 38     | CO     | Low    | \n",
       "| 10 | A10    | 28     | VA     | Low    | \n",
       "| 11 | A11    | 31     | WA     | Medium | \n",
       "| 12 | A12    | 34     | WA     | High   | \n",
       "| 15 | A15    | 28     | NY     | High   | \n",
       "| 16 | A16    | 28     | WA     | Low    | \n",
       "| 18 | A18    | 32     | WA     | Low    | \n",
       "| 19 | A19    | 40     | NY     | Medium | \n",
       "\n",
       "\n"
      ],
      "text/plain": [
       "   cod ages state education\n",
       "4  A4  31   CO    Medium   \n",
       "5  A5  28   CO    Low      \n",
       "6  A6  37   NY    High     \n",
       "7  A7  37   NY    Medium   \n",
       "9  A9  38   CO    Low      \n",
       "10 A10 28   VA    Low      \n",
       "11 A11 31   WA    Medium   \n",
       "12 A12 34   WA    High     \n",
       "15 A15 28   NY    High     \n",
       "16 A16 28   WA    Low      \n",
       "18 A18 32   WA    Low      \n",
       "19 A19 40   NY    Medium   "
      ]
     },
     "metadata": {},
     "output_type": "display_data"
    }
   ],
   "source": [
    "people[people$ages>27 & !is.na(people$ages) ,]"
   ]
  },
  {
   "cell_type": "markdown",
   "metadata": {},
   "source": [
    "It is different if the query does not refer to a column with missing values:"
   ]
  },
  {
   "cell_type": "code",
   "execution_count": 38,
   "metadata": {},
   "outputs": [
    {
     "data": {
      "text/html": [
       "<table>\n",
       "<thead><tr><th></th><th scope=col>cod</th><th scope=col>ages</th><th scope=col>state</th><th scope=col>education</th></tr></thead>\n",
       "<tbody>\n",
       "\t<tr><th scope=row>1</th><td>A1  </td><td>NA  </td><td>NY  </td><td>High</td></tr>\n",
       "\t<tr><th scope=row>3</th><td>A3  </td><td>25  </td><td>WA  </td><td>High</td></tr>\n",
       "\t<tr><th scope=row>6</th><td>A6  </td><td>37  </td><td>NY  </td><td>High</td></tr>\n",
       "\t<tr><th scope=row>12</th><td>A12 </td><td>34  </td><td>WA  </td><td>High</td></tr>\n",
       "\t<tr><th scope=row>15</th><td>A15 </td><td>28  </td><td>NY  </td><td>High</td></tr>\n",
       "</tbody>\n",
       "</table>\n"
      ],
      "text/latex": [
       "\\begin{tabular}{r|llll}\n",
       "  & cod & ages & state & education\\\\\n",
       "\\hline\n",
       "\t1 & A1   & NA   & NY   & High\\\\\n",
       "\t3 & A3   & 25   & WA   & High\\\\\n",
       "\t6 & A6   & 37   & NY   & High\\\\\n",
       "\t12 & A12  & 34   & WA   & High\\\\\n",
       "\t15 & A15  & 28   & NY   & High\\\\\n",
       "\\end{tabular}\n"
      ],
      "text/markdown": [
       "\n",
       "| <!--/--> | cod | ages | state | education | \n",
       "|---|---|---|---|---|\n",
       "| 1 | A1   | NA   | NY   | High | \n",
       "| 3 | A3   | 25   | WA   | High | \n",
       "| 6 | A6   | 37   | NY   | High | \n",
       "| 12 | A12  | 34   | WA   | High | \n",
       "| 15 | A15  | 28   | NY   | High | \n",
       "\n",
       "\n"
      ],
      "text/plain": [
       "   cod ages state education\n",
       "1  A1  NA   NY    High     \n",
       "3  A3  25   WA    High     \n",
       "6  A6  37   NY    High     \n",
       "12 A12 34   WA    High     \n",
       "15 A15 28   NY    High     "
      ]
     },
     "metadata": {},
     "output_type": "display_data"
    }
   ],
   "source": [
    "people[people$education==\"High\",]"
   ]
  },
  {
   "cell_type": "markdown",
   "metadata": {},
   "source": [
    "[Go to page beginning](#beginning)\n",
    "\n",
    "____\n",
    "\n",
    "<a id='part2'></a>\n",
    "\n",
    "## Control of Execution\n",
    "\n",
    "We will teach soon how to build functions, and for that you may want to have some knowledge on how to program in R. For that, you need to know how you can control the execution of code. This is done via:\n",
    "\n",
    "* Conditional execution\n",
    "* Repetitive execution\n",
    "\n",
    "**CONDITIONAL EXECUTION** is how you tell the computer what part of a code to execute, depending if an event is true or false.\n"
   ]
  },
  {
   "cell_type": "code",
   "execution_count": 41,
   "metadata": {},
   "outputs": [
    {
     "name": "stdout",
     "output_type": "stream",
     "text": [
      "[1] \"Sorry, I do not compute square roots of negative numbers\"\n"
     ]
    }
   ],
   "source": [
    "###### INPUT\n",
    "value=-100\n",
    "\n",
    "###### CONDITIONAL EXECUTION\n",
    "\n",
    "if (value >= 0){ \n",
    "  # what to do if condition is TRUE\n",
    "  rootValue=sqrt(value)\n",
    "  print (rootValue)\n",
    "} else {  \n",
    "  # what to do if condition is FALSE\n",
    "  print('Sorry, I do not compute square roots of negative numbers')\n",
    "}"
   ]
  },
  {
   "cell_type": "markdown",
   "metadata": {},
   "source": [
    "Notice the use of **parenthesis** in the condition. Also, the use of **{}**  to enclose the commands. You do not need those curly braces if you have just _one_ command after the condition. If you omitted the whole **else{}** section, the program will still run, but the program will not get a message when the input is invalid.\n",
    "\n",
    "\n",
    "**REPETITIVE EXECUTION** is how you tell the computer to do something many times (and stop when it has to):\n"
   ]
  },
  {
   "cell_type": "code",
   "execution_count": 45,
   "metadata": {},
   "outputs": [
    {
     "name": "stdout",
     "output_type": "stream",
     "text": [
      "[1] 3\n",
      "[1] 5\n",
      "[1] 10\n"
     ]
    }
   ],
   "source": [
    "values=c(9,25,100)\n",
    "\n",
    "for (element in values){ # do this for each value in values\n",
    "  print(sqrt(element))\n",
    "}\n"
   ]
  },
  {
   "cell_type": "markdown",
   "metadata": {},
   "source": [
    "You do not need to show each result, you could save the results."
   ]
  },
  {
   "cell_type": "code",
   "execution_count": 46,
   "metadata": {},
   "outputs": [],
   "source": [
    "values=c(9,25,100,500)\n",
    "\n",
    "rootValues=c() # empty vector\n",
    "\n",
    "for (value in values){\n",
    "  rootValues=c(rootValues,sqrt(value)) # updating vector\n",
    "}\n"
   ]
  },
  {
   "cell_type": "markdown",
   "metadata": {},
   "source": [
    "Then, you see what you saved:"
   ]
  },
  {
   "cell_type": "code",
   "execution_count": 47,
   "metadata": {},
   "outputs": [
    {
     "data": {
      "text/html": [
       "<ol class=list-inline>\n",
       "\t<li>3</li>\n",
       "\t<li>5</li>\n",
       "\t<li>10</li>\n",
       "\t<li>22.3606797749979</li>\n",
       "</ol>\n"
      ],
      "text/latex": [
       "\\begin{enumerate*}\n",
       "\\item 3\n",
       "\\item 5\n",
       "\\item 10\n",
       "\\item 22.3606797749979\n",
       "\\end{enumerate*}\n"
      ],
      "text/markdown": [
       "1. 3\n",
       "2. 5\n",
       "3. 10\n",
       "4. 22.3606797749979\n",
       "\n",
       "\n"
      ],
      "text/plain": [
       "[1]  3.00000  5.00000 10.00000 22.36068"
      ]
     },
     "metadata": {},
     "output_type": "display_data"
    }
   ],
   "source": [
    "# to see the results:\n",
    "rootValues\n"
   ]
  },
  {
   "cell_type": "markdown",
   "metadata": {},
   "source": [
    "It is evident that combining *loops* and *control of execution*, we can make better programs. For example, this code is not controlling well the process:\n"
   ]
  },
  {
   "cell_type": "code",
   "execution_count": 48,
   "metadata": {},
   "outputs": [
    {
     "name": "stderr",
     "output_type": "stream",
     "text": [
      "Warning message in sqrt(value):\n",
      "“NaNs produced”"
     ]
    }
   ],
   "source": [
    "values=c(9,25,-100)\n",
    "rootValues=c()\n",
    "for (value in values){\n",
    "  rootValues=c(rootValues,sqrt(value))\n",
    "}\n"
   ]
  },
  {
   "cell_type": "markdown",
   "metadata": {},
   "source": [
    "Then,"
   ]
  },
  {
   "cell_type": "code",
   "execution_count": 49,
   "metadata": {},
   "outputs": [
    {
     "data": {
      "text/html": [
       "<ol class=list-inline>\n",
       "\t<li>3</li>\n",
       "\t<li>5</li>\n",
       "\t<li>NaN</li>\n",
       "</ol>\n"
      ],
      "text/latex": [
       "\\begin{enumerate*}\n",
       "\\item 3\n",
       "\\item 5\n",
       "\\item NaN\n",
       "\\end{enumerate*}\n"
      ],
      "text/markdown": [
       "1. 3\n",
       "2. 5\n",
       "3. NaN\n",
       "\n",
       "\n"
      ],
      "text/plain": [
       "[1]   3   5 NaN"
      ]
     },
     "metadata": {},
     "output_type": "display_data"
    }
   ],
   "source": [
    "# to see the results:\n",
    "rootValues\n"
   ]
  },
  {
   "cell_type": "markdown",
   "metadata": {},
   "source": [
    "In the last result, R decided what to do when a negative value was input (it also sent a warning). This one does a better job:\n"
   ]
  },
  {
   "cell_type": "code",
   "execution_count": 50,
   "metadata": {},
   "outputs": [
    {
     "name": "stdout",
     "output_type": "stream",
     "text": [
      "[1] \"We added a missing value, negative input detected\"\n",
      "[1] \"We added a missing value, negative input detected\"\n"
     ]
    }
   ],
   "source": [
    "values=c(9,25,-100,144,-72)\n",
    "rootValuesNew=c()\n",
    "\n",
    "for (value in values){\n",
    "  if (value >=0){\n",
    "    rootValuesNew=c(rootValuesNew,sqrt(value))\n",
    "  }else {\n",
    "    print('We added a missing value, negative input detected')\n",
    "    rootValuesNew=c(rootValuesNew,NA)\n",
    "  }\n",
    "}"
   ]
  },
  {
   "cell_type": "markdown",
   "metadata": {},
   "source": [
    "Then,"
   ]
  },
  {
   "cell_type": "code",
   "execution_count": 51,
   "metadata": {},
   "outputs": [
    {
     "data": {
      "text/html": [
       "<ol class=list-inline>\n",
       "\t<li>3</li>\n",
       "\t<li>5</li>\n",
       "\t<li>&lt;NA&gt;</li>\n",
       "\t<li>12</li>\n",
       "\t<li>&lt;NA&gt;</li>\n",
       "</ol>\n"
      ],
      "text/latex": [
       "\\begin{enumerate*}\n",
       "\\item 3\n",
       "\\item 5\n",
       "\\item <NA>\n",
       "\\item 12\n",
       "\\item <NA>\n",
       "\\end{enumerate*}\n"
      ],
      "text/markdown": [
       "1. 3\n",
       "2. 5\n",
       "3. &lt;NA&gt;\n",
       "4. 12\n",
       "5. &lt;NA&gt;\n",
       "\n",
       "\n"
      ],
      "text/plain": [
       "[1]  3  5 NA 12 NA"
      ]
     },
     "metadata": {},
     "output_type": "display_data"
    }
   ],
   "source": [
    "# to see the results:\n",
    "rootValuesNew"
   ]
  },
  {
   "cell_type": "markdown",
   "metadata": {},
   "source": [
    "We are producing an ouput with the same size as input. If we omit the **else** structure, we will produce an output with smaller size than the input. \n",
    "\n",
    "\n",
    "You can also use **break** when you consider the execution should stop:\n"
   ]
  },
  {
   "cell_type": "code",
   "execution_count": 52,
   "metadata": {},
   "outputs": [
    {
     "name": "stdout",
     "output_type": "stream",
     "text": [
      "[1] \"We need to stop, invalid value detected\"\n"
     ]
    }
   ],
   "source": [
    "values=c(9,25,-100,144,-72)\n",
    "rootValues=c()\n",
    "for (value in values){\n",
    "  if (value <0){\n",
    "    print('We need to stop, invalid value detected')\n",
    "    break\n",
    "  }\n",
    "  rootValues=c(rootValues,sqrt(value))\n",
    "}"
   ]
  },
  {
   "cell_type": "markdown",
   "metadata": {},
   "source": [
    "The code above halted the program, but some results were saved:"
   ]
  },
  {
   "cell_type": "code",
   "execution_count": 53,
   "metadata": {},
   "outputs": [
    {
     "data": {
      "text/html": [
       "<ol class=list-inline>\n",
       "\t<li>3</li>\n",
       "\t<li>5</li>\n",
       "</ol>\n"
      ],
      "text/latex": [
       "\\begin{enumerate*}\n",
       "\\item 3\n",
       "\\item 5\n",
       "\\end{enumerate*}\n"
      ],
      "text/markdown": [
       "1. 3\n",
       "2. 5\n",
       "\n",
       "\n"
      ],
      "text/plain": [
       "[1] 3 5"
      ]
     },
     "metadata": {},
     "output_type": "display_data"
    }
   ],
   "source": [
    "rootValues"
   ]
  },
  {
   "cell_type": "markdown",
   "metadata": {},
   "source": [
    "You can use **next** when you consider the execution should continue:\n"
   ]
  },
  {
   "cell_type": "code",
   "execution_count": 54,
   "metadata": {},
   "outputs": [
    {
     "name": "stdout",
     "output_type": "stream",
     "text": [
      "[1] \"3 is the root of  9\"\n",
      "[1] \"missing value as input\"\n",
      "[1] \"char as input\"\n",
      "[1] \"negative value as input\"\n",
      "[1] \"12 is the root of  144\"\n",
      "[1] \"negative value as input\"\n"
     ]
    }
   ],
   "source": [
    "values=list(9,NA,'1000',-100,144,-72)\n",
    "\n",
    "\n",
    "for (value in values){\n",
    "  if (is.na(value)){\n",
    "    print('missing value as input')\n",
    "    next\n",
    "  }\n",
    "  \n",
    "  if (value <0){\n",
    "    print('negative value as input')\n",
    "    next\n",
    "  }\n",
    "  \n",
    "  if (is.character(value)){\n",
    "    print('char as input')\n",
    "    next\n",
    "  }\n",
    "  rootVal=sqrt(value)\n",
    "  print(paste(rootVal,'is the root of ',value))\n",
    "}"
   ]
  },
  {
   "cell_type": "markdown",
   "metadata": {},
   "source": [
    "[Go to page beginning](#beginning)\n",
    "\n",
    "____\n",
    "<a id='part3'></a>\n",
    "\n",
    "\n",
    "## Functions\n",
    "\n",
    "We build functions to make the code more readable. Functions plus the data structures and control of execution capabilities you saw before will give you the basic tools you need to develop your own programs. \n",
    "\n",
    "A function is a three-step process: Input, Transformation, Output. For example, if you need to convert a numeric value from Fahrenheit into Celsius , the input is the value in Fahrenheit, the transformation is the formula, and the output the result of the formula (a value in Celsius).\n"
   ]
  },
  {
   "cell_type": "code",
   "execution_count": 55,
   "metadata": {},
   "outputs": [],
   "source": [
    "converterToCelsius=function(valueInFarenheit){ #input\n",
    "  #transformation\n",
    "  resultInCelsius= (valueInFarenheit-32)*5/9\n",
    "  #output\n",
    "  return (resultInCelsius)}\n"
   ]
  },
  {
   "cell_type": "markdown",
   "metadata": {},
   "source": [
    "\n",
    "* A function has a name (for example: _converterToCelsius_) to the left of the **=**; \n",
    "* then _a definition of the input of the function_ using the reserved word **function**; \n",
    "* the _transformation process_ between **{}**; \n",
    "* the process  _output_ (for example: _resultInCelsius_), which requires the keyword **return** and **()**. \n",
    "\n",
    "You can omit the _return_ command and a function still works; in that case, R will output the last line that was **executed**; I avoid doing that as it impoverishes reading the code. \n",
    "\n",
    "Above, we created a function, and after you run it,  R has a new function available:\n",
    "\n"
   ]
  },
  {
   "cell_type": "code",
   "execution_count": 56,
   "metadata": {},
   "outputs": [
    {
     "data": {
      "text/html": [
       "37.7777777777778"
      ],
      "text/latex": [
       "37.7777777777778"
      ],
      "text/markdown": [
       "37.7777777777778"
      ],
      "text/plain": [
       "[1] 37.77778"
      ]
     },
     "metadata": {},
     "output_type": "display_data"
    }
   ],
   "source": [
    "converterToCelsius(100)"
   ]
  },
  {
   "cell_type": "markdown",
   "metadata": {},
   "source": [
    "### The function input\n",
    "\n",
    "We control the amount of input in a function:\n"
   ]
  },
  {
   "cell_type": "code",
   "execution_count": 57,
   "metadata": {},
   "outputs": [],
   "source": [
    "# this function requires TWO inputs:\n",
    "XsumY=function(valueX,valueY){\n",
    "  ###\n",
    "  resultSum=valueX+valueY\n",
    "  ###\n",
    "  return (resultSum)\n",
    "}\n"
   ]
  },
  {
   "cell_type": "markdown",
   "metadata": {},
   "source": [
    "The code above receives two values and outputs their sum. You can see how it works this way:"
   ]
  },
  {
   "cell_type": "code",
   "execution_count": 58,
   "metadata": {},
   "outputs": [
    {
     "data": {
      "text/html": [
       "13"
      ],
      "text/latex": [
       "13"
      ],
      "text/markdown": [
       "13"
      ],
      "text/plain": [
       "[1] 13"
      ]
     },
     "metadata": {},
     "output_type": "display_data"
    }
   ],
   "source": [
    "XsumY(3,10)"
   ]
  },
  {
   "cell_type": "markdown",
   "metadata": {},
   "source": [
    "You can have some inputs with _default_ values:"
   ]
  },
  {
   "cell_type": "code",
   "execution_count": 59,
   "metadata": {},
   "outputs": [],
   "source": [
    "riseToPower=function(base,exponent=2){\n",
    "  #####\n",
    "  result=1\n",
    "  if (exponent > 0){\n",
    "    for (time in 1:exponent){\n",
    "      result=result*base\n",
    "    }\n",
    "  }\n",
    "  #####\n",
    "  return(result)\n",
    "}"
   ]
  },
  {
   "cell_type": "markdown",
   "metadata": {},
   "source": [
    "Since you have a default value in the input arguments, you decide if you give that input or not. Let's see how it works:"
   ]
  },
  {
   "cell_type": "code",
   "execution_count": 60,
   "metadata": {},
   "outputs": [
    {
     "data": {
      "text/html": [
       "81"
      ],
      "text/latex": [
       "81"
      ],
      "text/markdown": [
       "81"
      ],
      "text/plain": [
       "[1] 81"
      ]
     },
     "metadata": {},
     "output_type": "display_data"
    }
   ],
   "source": [
    "# to the power 2 by default\n",
    "riseToPower(9) \n"
   ]
  },
  {
   "cell_type": "code",
   "execution_count": 61,
   "metadata": {},
   "outputs": [
    {
     "data": {
      "text/html": [
       "729"
      ],
      "text/latex": [
       "729"
      ],
      "text/markdown": [
       "729"
      ],
      "text/plain": [
       "[1] 729"
      ]
     },
     "metadata": {},
     "output_type": "display_data"
    }
   ],
   "source": [
    "# to the power 3\n",
    "riseToPower(9,3) \n"
   ]
  },
  {
   "cell_type": "code",
   "execution_count": 62,
   "metadata": {},
   "outputs": [
    {
     "data": {
      "text/html": [
       "1"
      ],
      "text/latex": [
       "1"
      ],
      "text/markdown": [
       "1"
      ],
      "text/plain": [
       "[1] 1"
      ]
     },
     "metadata": {},
     "output_type": "display_data"
    }
   ],
   "source": [
    "# using argument names does not require order:\n",
    "riseToPower(exponent=0,base=9)\n"
   ]
  },
  {
   "cell_type": "markdown",
   "metadata": {},
   "source": [
    "### The function output\n",
    "\n",
    "\n",
    "Our output has been a single value, but it can be several ones; however, you need the right structure.\n"
   ]
  },
  {
   "cell_type": "code",
   "execution_count": 63,
   "metadata": {},
   "outputs": [],
   "source": [
    "# one input, and several output in simple data structure:\n",
    "factors=function(number){\n",
    "    # empty vector that will collect output\n",
    "    vectorOfAnswers=c()\n",
    "    \n",
    "    # for every value in the sequence...\n",
    "    for (i in 1:number){\n",
    "        \n",
    "        #if the remainder of 'number'/'i' equals zero...\n",
    "        if ((number %% i) == 0){ \n",
    "            \n",
    "            # ...add 'i' to the vector of factors!\n",
    "            vectorOfAnswers=c(vectorOfAnswers,i)\n",
    "    }\n",
    "  }\n",
    "  return (vectorOfAnswers) # returning  the vector\n",
    "}"
   ]
  },
  {
   "cell_type": "markdown",
   "metadata": {},
   "source": [
    "Testing:"
   ]
  },
  {
   "cell_type": "code",
   "execution_count": 64,
   "metadata": {},
   "outputs": [
    {
     "data": {
      "text/html": [
       "<ol class=list-inline>\n",
       "\t<li>1</li>\n",
       "\t<li>2</li>\n",
       "\t<li>4</li>\n",
       "\t<li>5</li>\n",
       "\t<li>10</li>\n",
       "\t<li>20</li>\n",
       "</ol>\n"
      ],
      "text/latex": [
       "\\begin{enumerate*}\n",
       "\\item 1\n",
       "\\item 2\n",
       "\\item 4\n",
       "\\item 5\n",
       "\\item 10\n",
       "\\item 20\n",
       "\\end{enumerate*}\n"
      ],
      "text/markdown": [
       "1. 1\n",
       "2. 2\n",
       "3. 4\n",
       "4. 5\n",
       "5. 10\n",
       "6. 20\n",
       "\n",
       "\n"
      ],
      "text/plain": [
       "[1]  1  2  4  5 10 20"
      ]
     },
     "metadata": {},
     "output_type": "display_data"
    }
   ],
   "source": [
    "factors(20) "
   ]
  },
  {
   "cell_type": "markdown",
   "metadata": {},
   "source": [
    "### Applying functions to data structures\n",
    "\n",
    "Imaging you have created a function that takes a value and multiplies it by two, like this:\n"
   ]
  },
  {
   "cell_type": "code",
   "execution_count": 65,
   "metadata": {},
   "outputs": [],
   "source": [
    "double=function(x){\n",
    "    return (2*x)\n",
    "    }\n"
   ]
  },
  {
   "cell_type": "markdown",
   "metadata": {},
   "source": [
    "and you have this vector:"
   ]
  },
  {
   "cell_type": "code",
   "execution_count": 66,
   "metadata": {},
   "outputs": [],
   "source": [
    "myVector=c(1,2,3)"
   ]
  },
  {
   "cell_type": "markdown",
   "metadata": {},
   "source": [
    "What will you get here?"
   ]
  },
  {
   "cell_type": "code",
   "execution_count": 67,
   "metadata": {},
   "outputs": [
    {
     "data": {
      "text/html": [
       "<ol class=list-inline>\n",
       "\t<li>2</li>\n",
       "\t<li>4</li>\n",
       "\t<li>6</li>\n",
       "</ol>\n"
      ],
      "text/latex": [
       "\\begin{enumerate*}\n",
       "\\item 2\n",
       "\\item 4\n",
       "\\item 6\n",
       "\\end{enumerate*}\n"
      ],
      "text/markdown": [
       "1. 2\n",
       "2. 4\n",
       "3. 6\n",
       "\n",
       "\n"
      ],
      "text/plain": [
       "[1] 2 4 6"
      ]
     },
     "metadata": {},
     "output_type": "display_data"
    }
   ],
   "source": [
    "double(myVector)"
   ]
  },
  {
   "cell_type": "markdown",
   "metadata": {},
   "source": [
    "If you use a vector as an input in a function in R, R will apply the function to each element. \n",
    "\n",
    "If you use a list of numbers as input:\n"
   ]
  },
  {
   "cell_type": "code",
   "execution_count": 68,
   "metadata": {},
   "outputs": [],
   "source": [
    "myList=list(1,2,3)"
   ]
  },
  {
   "cell_type": "markdown",
   "metadata": {},
   "source": [
    "You get:"
   ]
  },
  {
   "cell_type": "code",
   "execution_count": 69,
   "metadata": {},
   "outputs": [
    {
     "ename": "ERROR",
     "evalue": "Error in 2 * x: non-numeric argument to binary operator\n",
     "output_type": "error",
     "traceback": [
      "Error in 2 * x: non-numeric argument to binary operator\nTraceback:\n",
      "1. double(myList)"
     ]
    }
   ],
   "source": [
    "double(myList)"
   ]
  },
  {
   "cell_type": "markdown",
   "metadata": {},
   "source": [
    "...you get an error. In this case, you can use **Map** or **mapply**:"
   ]
  },
  {
   "cell_type": "code",
   "execution_count": 70,
   "metadata": {},
   "outputs": [
    {
     "data": {
      "text/html": [
       "<ol>\n",
       "\t<li>2</li>\n",
       "\t<li>4</li>\n",
       "\t<li>6</li>\n",
       "</ol>\n"
      ],
      "text/latex": [
       "\\begin{enumerate}\n",
       "\\item 2\n",
       "\\item 4\n",
       "\\item 6\n",
       "\\end{enumerate}\n"
      ],
      "text/markdown": [
       "1. 2\n",
       "2. 4\n",
       "3. 6\n",
       "\n",
       "\n"
      ],
      "text/plain": [
       "[[1]]\n",
       "[1] 2\n",
       "\n",
       "[[2]]\n",
       "[1] 4\n",
       "\n",
       "[[3]]\n",
       "[1] 6\n"
      ]
     },
     "metadata": {},
     "output_type": "display_data"
    }
   ],
   "source": [
    "# Map returns a list, and the input can be a vector or a list\n",
    "Map(double,myList)\n"
   ]
  },
  {
   "cell_type": "markdown",
   "metadata": {},
   "source": [
    "You can also use **mapply**:"
   ]
  },
  {
   "cell_type": "code",
   "execution_count": 71,
   "metadata": {},
   "outputs": [
    {
     "data": {
      "text/html": [
       "<ol class=list-inline>\n",
       "\t<li>2</li>\n",
       "\t<li>4</li>\n",
       "\t<li>6</li>\n",
       "</ol>\n"
      ],
      "text/latex": [
       "\\begin{enumerate*}\n",
       "\\item 2\n",
       "\\item 4\n",
       "\\item 6\n",
       "\\end{enumerate*}\n"
      ],
      "text/markdown": [
       "1. 2\n",
       "2. 4\n",
       "3. 6\n",
       "\n",
       "\n"
      ],
      "text/plain": [
       "[1] 2 4 6"
      ]
     },
     "metadata": {},
     "output_type": "display_data"
    }
   ],
   "source": [
    "# mapply returns a vector, and the input can be a vector or a list\n",
    "mapply(double,myList)"
   ]
  },
  {
   "cell_type": "markdown",
   "metadata": {},
   "source": [
    "Notice that the outputs are returned in different data structures.\n",
    "\n",
    "As we use data frames most of the time, pay attention on how you use a function and what you get as result:\n",
    "\n"
   ]
  },
  {
   "cell_type": "code",
   "execution_count": 72,
   "metadata": {},
   "outputs": [
    {
     "data": {
      "text/html": [
       "<table>\n",
       "<thead><tr><th scope=col>numberA</th><th scope=col>numberB</th></tr></thead>\n",
       "<tbody>\n",
       "\t<tr><td>10</td><td> 6</td></tr>\n",
       "\t<tr><td>20</td><td> 7</td></tr>\n",
       "\t<tr><td>30</td><td> 8</td></tr>\n",
       "\t<tr><td>40</td><td> 9</td></tr>\n",
       "\t<tr><td>50</td><td>10</td></tr>\n",
       "</tbody>\n",
       "</table>\n"
      ],
      "text/latex": [
       "\\begin{tabular}{r|ll}\n",
       " numberA & numberB\\\\\n",
       "\\hline\n",
       "\t 10 &  6\\\\\n",
       "\t 20 &  7\\\\\n",
       "\t 30 &  8\\\\\n",
       "\t 40 &  9\\\\\n",
       "\t 50 & 10\\\\\n",
       "\\end{tabular}\n"
      ],
      "text/markdown": [
       "\n",
       "numberA | numberB | \n",
       "|---|---|---|---|---|\n",
       "| 10 |  6 | \n",
       "| 20 |  7 | \n",
       "| 30 |  8 | \n",
       "| 40 |  9 | \n",
       "| 50 | 10 | \n",
       "\n",
       "\n"
      ],
      "text/plain": [
       "  numberA numberB\n",
       "1 10       6     \n",
       "2 20       7     \n",
       "3 30       8     \n",
       "4 40       9     \n",
       "5 50      10     "
      ]
     },
     "metadata": {},
     "output_type": "display_data"
    }
   ],
   "source": [
    "numberA=c(10,20,30,40,50)\n",
    "numberB=c(6,7,8,9,10)\n",
    "dataDF=data.frame(numberA,numberB)\n",
    "dataDF\n"
   ]
  },
  {
   "cell_type": "markdown",
   "metadata": {},
   "source": [
    "Let's _double_ each value applying the function _directly_ to the data frame:\n"
   ]
  },
  {
   "cell_type": "code",
   "execution_count": 73,
   "metadata": {},
   "outputs": [
    {
     "data": {
      "text/html": [
       "<table>\n",
       "<thead><tr><th scope=col>numberA</th><th scope=col>numberB</th></tr></thead>\n",
       "<tbody>\n",
       "\t<tr><td> 20</td><td>12 </td></tr>\n",
       "\t<tr><td> 40</td><td>14 </td></tr>\n",
       "\t<tr><td> 60</td><td>16 </td></tr>\n",
       "\t<tr><td> 80</td><td>18 </td></tr>\n",
       "\t<tr><td>100</td><td>20 </td></tr>\n",
       "</tbody>\n",
       "</table>\n"
      ],
      "text/latex": [
       "\\begin{tabular}{r|ll}\n",
       " numberA & numberB\\\\\n",
       "\\hline\n",
       "\t  20 & 12 \\\\\n",
       "\t  40 & 14 \\\\\n",
       "\t  60 & 16 \\\\\n",
       "\t  80 & 18 \\\\\n",
       "\t 100 & 20 \\\\\n",
       "\\end{tabular}\n"
      ],
      "text/markdown": [
       "\n",
       "numberA | numberB | \n",
       "|---|---|---|---|---|\n",
       "|  20 | 12  | \n",
       "|  40 | 14  | \n",
       "|  60 | 16  | \n",
       "|  80 | 18  | \n",
       "| 100 | 20  | \n",
       "\n",
       "\n"
      ],
      "text/plain": [
       "  numberA numberB\n",
       "1  20     12     \n",
       "2  40     14     \n",
       "3  60     16     \n",
       "4  80     18     \n",
       "5 100     20     "
      ]
     },
     "metadata": {},
     "output_type": "display_data"
    }
   ],
   "source": [
    "double(dataDF)"
   ]
  },
  {
   "cell_type": "markdown",
   "metadata": {},
   "source": [
    "As you saw above, the function _double_ was designed to receive as input a simple value (a number). Then, without effort from your side, R itself decided to apply it to each element in the data frame. \n",
    "\n",
    "Try now simple function as **as.character()** :\n"
   ]
  },
  {
   "cell_type": "code",
   "execution_count": 74,
   "metadata": {},
   "outputs": [
    {
     "data": {
      "text/html": [
       "<ol class=list-inline>\n",
       "\t<li>'c(10, 20, 30, 40, 50)'</li>\n",
       "\t<li>'c(6, 7, 8, 9, 10)'</li>\n",
       "</ol>\n"
      ],
      "text/latex": [
       "\\begin{enumerate*}\n",
       "\\item 'c(10, 20, 30, 40, 50)'\n",
       "\\item 'c(6, 7, 8, 9, 10)'\n",
       "\\end{enumerate*}\n"
      ],
      "text/markdown": [
       "1. 'c(10, 20, 30, 40, 50)'\n",
       "2. 'c(6, 7, 8, 9, 10)'\n",
       "\n",
       "\n"
      ],
      "text/plain": [
       "[1] \"c(10, 20, 30, 40, 50)\" \"c(6, 7, 8, 9, 10)\"    "
      ]
     },
     "metadata": {},
     "output_type": "display_data"
    }
   ],
   "source": [
    "as.character(dataDF)"
   ]
  },
  {
   "cell_type": "markdown",
   "metadata": {},
   "source": [
    "I am pretty sure, this is not what you wanted.\n",
    "\n",
    "You know that it works in one column (but not in a data frame):\n"
   ]
  },
  {
   "cell_type": "code",
   "execution_count": 75,
   "metadata": {},
   "outputs": [
    {
     "data": {
      "text/html": [
       "<ol class=list-inline>\n",
       "\t<li>'10'</li>\n",
       "\t<li>'20'</li>\n",
       "\t<li>'30'</li>\n",
       "\t<li>'40'</li>\n",
       "\t<li>'50'</li>\n",
       "</ol>\n"
      ],
      "text/latex": [
       "\\begin{enumerate*}\n",
       "\\item '10'\n",
       "\\item '20'\n",
       "\\item '30'\n",
       "\\item '40'\n",
       "\\item '50'\n",
       "\\end{enumerate*}\n"
      ],
      "text/markdown": [
       "1. '10'\n",
       "2. '20'\n",
       "3. '30'\n",
       "4. '40'\n",
       "5. '50'\n",
       "\n",
       "\n"
      ],
      "text/plain": [
       "[1] \"10\" \"20\" \"30\" \"40\" \"50\""
      ]
     },
     "metadata": {},
     "output_type": "display_data"
    }
   ],
   "source": [
    "as.character(dataDF$numberA)"
   ]
  },
  {
   "cell_type": "markdown",
   "metadata": {},
   "source": [
    "We can use *Map()*:"
   ]
  },
  {
   "cell_type": "code",
   "execution_count": 76,
   "metadata": {},
   "outputs": [
    {
     "data": {
      "text/html": [
       "<dl>\n",
       "\t<dt>$numberA</dt>\n",
       "\t\t<dd><ol class=list-inline>\n",
       "\t<li>'10'</li>\n",
       "\t<li>'20'</li>\n",
       "\t<li>'30'</li>\n",
       "\t<li>'40'</li>\n",
       "\t<li>'50'</li>\n",
       "</ol>\n",
       "</dd>\n",
       "\t<dt>$numberB</dt>\n",
       "\t\t<dd><ol class=list-inline>\n",
       "\t<li>'6'</li>\n",
       "\t<li>'7'</li>\n",
       "\t<li>'8'</li>\n",
       "\t<li>'9'</li>\n",
       "\t<li>'10'</li>\n",
       "</ol>\n",
       "</dd>\n",
       "</dl>\n"
      ],
      "text/latex": [
       "\\begin{description}\n",
       "\\item[\\$numberA] \\begin{enumerate*}\n",
       "\\item '10'\n",
       "\\item '20'\n",
       "\\item '30'\n",
       "\\item '40'\n",
       "\\item '50'\n",
       "\\end{enumerate*}\n",
       "\n",
       "\\item[\\$numberB] \\begin{enumerate*}\n",
       "\\item '6'\n",
       "\\item '7'\n",
       "\\item '8'\n",
       "\\item '9'\n",
       "\\item '10'\n",
       "\\end{enumerate*}\n",
       "\n",
       "\\end{description}\n"
      ],
      "text/markdown": [
       "$numberA\n",
       ":   1. '10'\n",
       "2. '20'\n",
       "3. '30'\n",
       "4. '40'\n",
       "5. '50'\n",
       "\n",
       "\n",
       "\n",
       "$numberB\n",
       ":   1. '6'\n",
       "2. '7'\n",
       "3. '8'\n",
       "4. '9'\n",
       "5. '10'\n",
       "\n",
       "\n",
       "\n",
       "\n",
       "\n"
      ],
      "text/plain": [
       "$numberA\n",
       "[1] \"10\" \"20\" \"30\" \"40\" \"50\"\n",
       "\n",
       "$numberB\n",
       "[1] \"6\"  \"7\"  \"8\"  \"9\"  \"10\"\n"
      ]
     },
     "metadata": {},
     "output_type": "display_data"
    }
   ],
   "source": [
    "Map(as.character,dataDF)"
   ]
  },
  {
   "cell_type": "markdown",
   "metadata": {},
   "source": [
    "Or the very common **lapply()**:"
   ]
  },
  {
   "cell_type": "code",
   "execution_count": 77,
   "metadata": {},
   "outputs": [
    {
     "data": {
      "text/html": [
       "<dl>\n",
       "\t<dt>$numberA</dt>\n",
       "\t\t<dd><ol class=list-inline>\n",
       "\t<li>'10'</li>\n",
       "\t<li>'20'</li>\n",
       "\t<li>'30'</li>\n",
       "\t<li>'40'</li>\n",
       "\t<li>'50'</li>\n",
       "</ol>\n",
       "</dd>\n",
       "\t<dt>$numberB</dt>\n",
       "\t\t<dd><ol class=list-inline>\n",
       "\t<li>'6'</li>\n",
       "\t<li>'7'</li>\n",
       "\t<li>'8'</li>\n",
       "\t<li>'9'</li>\n",
       "\t<li>'10'</li>\n",
       "</ol>\n",
       "</dd>\n",
       "</dl>\n"
      ],
      "text/latex": [
       "\\begin{description}\n",
       "\\item[\\$numberA] \\begin{enumerate*}\n",
       "\\item '10'\n",
       "\\item '20'\n",
       "\\item '30'\n",
       "\\item '40'\n",
       "\\item '50'\n",
       "\\end{enumerate*}\n",
       "\n",
       "\\item[\\$numberB] \\begin{enumerate*}\n",
       "\\item '6'\n",
       "\\item '7'\n",
       "\\item '8'\n",
       "\\item '9'\n",
       "\\item '10'\n",
       "\\end{enumerate*}\n",
       "\n",
       "\\end{description}\n"
      ],
      "text/markdown": [
       "$numberA\n",
       ":   1. '10'\n",
       "2. '20'\n",
       "3. '30'\n",
       "4. '40'\n",
       "5. '50'\n",
       "\n",
       "\n",
       "\n",
       "$numberB\n",
       ":   1. '6'\n",
       "2. '7'\n",
       "3. '8'\n",
       "4. '9'\n",
       "5. '10'\n",
       "\n",
       "\n",
       "\n",
       "\n",
       "\n"
      ],
      "text/plain": [
       "$numberA\n",
       "[1] \"10\" \"20\" \"30\" \"40\" \"50\"\n",
       "\n",
       "$numberB\n",
       "[1] \"6\"  \"7\"  \"8\"  \"9\"  \"10\"\n"
      ]
     },
     "metadata": {},
     "output_type": "display_data"
    }
   ],
   "source": [
    "lapply(dataDF,as.character)"
   ]
  },
  {
   "cell_type": "markdown",
   "metadata": {},
   "source": [
    "In both cases, the function worked with a data frame as an input; but the output was a list. If you want a data frame as output:\n"
   ]
  },
  {
   "cell_type": "code",
   "execution_count": 78,
   "metadata": {},
   "outputs": [
    {
     "data": {
      "text/html": [
       "<table>\n",
       "<thead><tr><th scope=col>numberA</th><th scope=col>numberB</th></tr></thead>\n",
       "<tbody>\n",
       "\t<tr><td>10</td><td>6 </td></tr>\n",
       "\t<tr><td>20</td><td>7 </td></tr>\n",
       "\t<tr><td>30</td><td>8 </td></tr>\n",
       "\t<tr><td>40</td><td>9 </td></tr>\n",
       "\t<tr><td>50</td><td>10</td></tr>\n",
       "</tbody>\n",
       "</table>\n"
      ],
      "text/latex": [
       "\\begin{tabular}{r|ll}\n",
       " numberA & numberB\\\\\n",
       "\\hline\n",
       "\t 10 & 6 \\\\\n",
       "\t 20 & 7 \\\\\n",
       "\t 30 & 8 \\\\\n",
       "\t 40 & 9 \\\\\n",
       "\t 50 & 10\\\\\n",
       "\\end{tabular}\n"
      ],
      "text/markdown": [
       "\n",
       "numberA | numberB | \n",
       "|---|---|---|---|---|\n",
       "| 10 | 6  | \n",
       "| 20 | 7  | \n",
       "| 30 | 8  | \n",
       "| 40 | 9  | \n",
       "| 50 | 10 | \n",
       "\n",
       "\n"
      ],
      "text/plain": [
       "  numberA numberB\n",
       "1 10      6      \n",
       "2 20      7      \n",
       "3 30      8      \n",
       "4 40      9      \n",
       "5 50      10     "
      ]
     },
     "metadata": {},
     "output_type": "display_data"
    }
   ],
   "source": [
    "# selecting columns:\n",
    "dataDF[,c(1,2)]=lapply(dataDF[,c(1,2)],as.character)\n",
    "\n",
    "dataDF\n"
   ]
  },
  {
   "cell_type": "code",
   "execution_count": 79,
   "metadata": {},
   "outputs": [
    {
     "name": "stdout",
     "output_type": "stream",
     "text": [
      "'data.frame':\t5 obs. of  2 variables:\n",
      " $ numberA: chr  \"10\" \"20\" \"30\" \"40\" ...\n",
      " $ numberB: chr  \"6\" \"7\" \"8\" \"9\" ...\n"
     ]
    }
   ],
   "source": [
    "str(dataDF)"
   ]
  },
  {
   "cell_type": "markdown",
   "metadata": {},
   "source": [
    "Then, to get the data frame using **lapply**, you need to specify the columns.\n",
    "\n",
    "Let me turn the values back to numbers:\n"
   ]
  },
  {
   "cell_type": "code",
   "execution_count": 80,
   "metadata": {},
   "outputs": [],
   "source": [
    "dataDF[,c(1,2)]=lapply(dataDF[,c(1,2)],as.numeric)"
   ]
  },
  {
   "cell_type": "markdown",
   "metadata": {},
   "source": [
    "There are functions that could be applied to columns or rows and get a total from them. Keep in mind that **lapply** applies a function to columns."
   ]
  },
  {
   "cell_type": "code",
   "execution_count": 81,
   "metadata": {},
   "outputs": [
    {
     "data": {
      "text/html": [
       "<table>\n",
       "<thead><tr><th scope=col>numberA</th><th scope=col>numberB</th></tr></thead>\n",
       "<tbody>\n",
       "\t<tr><td>150</td><td>40 </td></tr>\n",
       "</tbody>\n",
       "</table>\n"
      ],
      "text/latex": [
       "\\begin{tabular}{r|ll}\n",
       " numberA & numberB\\\\\n",
       "\\hline\n",
       "\t 150 & 40 \\\\\n",
       "\\end{tabular}\n"
      ],
      "text/markdown": [
       "\n",
       "numberA | numberB | \n",
       "|---|\n",
       "| 150 | 40  | \n",
       "\n",
       "\n"
      ],
      "text/plain": [
       "  numberA numberB\n",
       "1 150     40     "
      ]
     },
     "metadata": {},
     "output_type": "display_data"
    }
   ],
   "source": [
    "# you are adding the column values here:\n",
    "as.data.frame(lapply(dataDF,sum))"
   ]
  },
  {
   "cell_type": "markdown",
   "metadata": {},
   "source": [
    "If you need to apply a function by row or by column, the right option is **apply**:"
   ]
  },
  {
   "cell_type": "code",
   "execution_count": 82,
   "metadata": {},
   "outputs": [
    {
     "data": {
      "text/html": [
       "<ol class=list-inline>\n",
       "\t<li>16</li>\n",
       "\t<li>27</li>\n",
       "\t<li>38</li>\n",
       "\t<li>49</li>\n",
       "\t<li>60</li>\n",
       "</ol>\n"
      ],
      "text/latex": [
       "\\begin{enumerate*}\n",
       "\\item 16\n",
       "\\item 27\n",
       "\\item 38\n",
       "\\item 49\n",
       "\\item 60\n",
       "\\end{enumerate*}\n"
      ],
      "text/markdown": [
       "1. 16\n",
       "2. 27\n",
       "3. 38\n",
       "4. 49\n",
       "5. 60\n",
       "\n",
       "\n"
      ],
      "text/plain": [
       "[1] 16 27 38 49 60"
      ]
     },
     "metadata": {},
     "output_type": "display_data"
    }
   ],
   "source": [
    "# you are adding by row:\n",
    "apply(dataDF,1,sum) # 1 to apply by row (2 for column)."
   ]
  },
  {
   "cell_type": "markdown",
   "metadata": {},
   "source": [
    "Let me use the data frame _people_ to show **tapply**\n"
   ]
  },
  {
   "cell_type": "code",
   "execution_count": 83,
   "metadata": {},
   "outputs": [
    {
     "name": "stderr",
     "output_type": "stream",
     "text": [
      "ERROR while rich displaying an object: Error in dn[[2L]]: subscript out of bounds\n",
      "\n",
      "Traceback:\n",
      "1. FUN(X[[i]], ...)\n",
      "2. tryCatch(withCallingHandlers({\n",
      " .     rpr <- mime2repr[[mime]](obj)\n",
      " .     if (is.null(rpr)) \n",
      " .         return(NULL)\n",
      " .     prepare_content(is.raw(rpr), rpr)\n",
      " . }, error = error_handler), error = outer_handler)\n",
      "3. tryCatchList(expr, classes, parentenv, handlers)\n",
      "4. tryCatchOne(expr, names, parentenv, handlers[[1L]])\n",
      "5. doTryCatch(return(expr), name, parentenv, handler)\n",
      "6. withCallingHandlers({\n",
      " .     rpr <- mime2repr[[mime]](obj)\n",
      " .     if (is.null(rpr)) \n",
      " .         return(NULL)\n",
      " .     prepare_content(is.raw(rpr), rpr)\n",
      " . }, error = error_handler)\n",
      "7. mime2repr[[mime]](obj)\n",
      "8. repr_markdown.numeric(obj)\n",
      "9. repr_vector_generic(html_escape_names(obj), \"%s. %s\\n\", \"%s\\n:   %s\", \n",
      " .     \"**%s:** %s\", \"%s\\n\\n\", item_uses_numbers = TRUE, escape_fun = html_escape)\n",
      "10. html_escape_names(obj)\n",
      "11. .escape_names(obj, \"html\")\n",
      "12. colnames(obj)\n",
      "ERROR while rich displaying an object: Error in dn[[2L]]: subscript out of bounds\n",
      "\n",
      "Traceback:\n",
      "1. FUN(X[[i]], ...)\n",
      "2. tryCatch(withCallingHandlers({\n",
      " .     rpr <- mime2repr[[mime]](obj)\n",
      " .     if (is.null(rpr)) \n",
      " .         return(NULL)\n",
      " .     prepare_content(is.raw(rpr), rpr)\n",
      " . }, error = error_handler), error = outer_handler)\n",
      "3. tryCatchList(expr, classes, parentenv, handlers)\n",
      "4. tryCatchOne(expr, names, parentenv, handlers[[1L]])\n",
      "5. doTryCatch(return(expr), name, parentenv, handler)\n",
      "6. withCallingHandlers({\n",
      " .     rpr <- mime2repr[[mime]](obj)\n",
      " .     if (is.null(rpr)) \n",
      " .         return(NULL)\n",
      " .     prepare_content(is.raw(rpr), rpr)\n",
      " . }, error = error_handler)\n",
      "7. mime2repr[[mime]](obj)\n",
      "8. repr_latex.numeric(obj)\n",
      "9. repr_vector_generic(latex_escape_names(obj), \"\\\\item %s\\n\", \"\\\\item[%s] %s\\n\", \n",
      " .     \"\\\\textbf{%s:} %s\", enum_wrap = \"\\\\begin{enumerate*}\\n%s\\\\end{enumerate*}\\n\", \n",
      " .     named_wrap = \"\\\\begin{description*}\\n%s\\\\end{description*}\\n\", \n",
      " .     only_named_item = \"\\\\textbf{%s:} %s\", escape_fun = latex_escape)\n",
      "10. latex_escape_names(obj)\n",
      "11. .escape_names(obj, \"latex\")\n",
      "12. colnames(obj)\n"
     ]
    },
    {
     "data": {
      "text/html": [
       "<dl class=dl-horizontal>\n",
       "\t<dt>Low</dt>\n",
       "\t\t<dd>28.8888888888889</dd>\n",
       "\t<dt>Medium</dt>\n",
       "\t\t<dd>31.8333333333333</dd>\n",
       "\t<dt>High</dt>\n",
       "\t\t<dd>&lt;NA&gt;</dd>\n",
       "</dl>\n"
      ],
      "text/plain": [
       "     Low   Medium     High \n",
       "28.88889 31.83333       NA "
      ]
     },
     "metadata": {},
     "output_type": "display_data"
    }
   ],
   "source": [
    "tapply(X=people$ages,INDEX=list(people$education),FUN=mean)"
   ]
  },
  {
   "cell_type": "markdown",
   "metadata": {},
   "source": [
    "This function applies a function to X, organised by the variables in INDEX. Then:"
   ]
  },
  {
   "cell_type": "code",
   "execution_count": 84,
   "metadata": {},
   "outputs": [
    {
     "data": {
      "text/html": [
       "<table>\n",
       "<thead><tr><th></th><th scope=col>CO</th><th scope=col>NY</th><th scope=col>VA</th><th scope=col>WA</th></tr></thead>\n",
       "<tbody>\n",
       "\t<tr><th scope=row>Low</th><td>33  </td><td>26  </td><td>28  </td><td>28.5</td></tr>\n",
       "\t<tr><th scope=row>Medium</th><td>29  </td><td>34  </td><td>NA  </td><td>31.0</td></tr>\n",
       "\t<tr><th scope=row>High</th><td>NA  </td><td>NA  </td><td>NA  </td><td>29.5</td></tr>\n",
       "</tbody>\n",
       "</table>\n"
      ],
      "text/latex": [
       "\\begin{tabular}{r|llll}\n",
       "  & CO & NY & VA & WA\\\\\n",
       "\\hline\n",
       "\tLow & 33   & 26   & 28   & 28.5\\\\\n",
       "\tMedium & 29   & 34   & NA   & 31.0\\\\\n",
       "\tHigh & NA   & NA   & NA   & 29.5\\\\\n",
       "\\end{tabular}\n"
      ],
      "text/markdown": [
       "\n",
       "| <!--/--> | CO | NY | VA | WA | \n",
       "|---|---|---|\n",
       "| Low | 33   | 26   | 28   | 28.5 | \n",
       "| Medium | 29   | 34   | NA   | 31.0 | \n",
       "| High | NA   | NA   | NA   | 29.5 | \n",
       "\n",
       "\n"
      ],
      "text/plain": [
       "       CO NY VA WA  \n",
       "Low    33 26 28 28.5\n",
       "Medium 29 34 NA 31.0\n",
       "High   NA NA NA 29.5"
      ]
     },
     "metadata": {},
     "output_type": "display_data"
    }
   ],
   "source": [
    "tapply(X=people$ages,\n",
    "       INDEX=list(people$education,people$state),\n",
    "       FUN=mean)"
   ]
  },
  {
   "cell_type": "markdown",
   "metadata": {},
   "source": [
    "The results are not data frames. You can get them using:"
   ]
  },
  {
   "cell_type": "code",
   "execution_count": 85,
   "metadata": {},
   "outputs": [
    {
     "data": {
      "text/html": [
       "<table>\n",
       "<thead><tr><th scope=col>education</th><th scope=col>state</th><th scope=col>mean(ages)</th></tr></thead>\n",
       "<tbody>\n",
       "\t<tr><td>Low   </td><td>CO    </td><td>33.0  </td></tr>\n",
       "\t<tr><td>Low   </td><td>NY    </td><td>26.0  </td></tr>\n",
       "\t<tr><td>Low   </td><td>VA    </td><td>28.0  </td></tr>\n",
       "\t<tr><td>Low   </td><td>WA    </td><td>28.5  </td></tr>\n",
       "\t<tr><td>Medium</td><td>CO    </td><td>29.0  </td></tr>\n",
       "\t<tr><td>Medium</td><td>NY    </td><td>34.0  </td></tr>\n",
       "\t<tr><td>Medium</td><td>WA    </td><td>31.0  </td></tr>\n",
       "\t<tr><td>High  </td><td>NY    </td><td>  NA  </td></tr>\n",
       "\t<tr><td>High  </td><td>WA    </td><td>29.5  </td></tr>\n",
       "</tbody>\n",
       "</table>\n"
      ],
      "text/latex": [
       "\\begin{tabular}{r|lll}\n",
       " education & state & mean(ages)\\\\\n",
       "\\hline\n",
       "\t Low    & CO     & 33.0  \\\\\n",
       "\t Low    & NY     & 26.0  \\\\\n",
       "\t Low    & VA     & 28.0  \\\\\n",
       "\t Low    & WA     & 28.5  \\\\\n",
       "\t Medium & CO     & 29.0  \\\\\n",
       "\t Medium & NY     & 34.0  \\\\\n",
       "\t Medium & WA     & 31.0  \\\\\n",
       "\t High   & NY     &   NA  \\\\\n",
       "\t High   & WA     & 29.5  \\\\\n",
       "\\end{tabular}\n"
      ],
      "text/markdown": [
       "\n",
       "education | state | mean(ages) | \n",
       "|---|---|---|---|---|---|---|---|---|\n",
       "| Low    | CO     | 33.0   | \n",
       "| Low    | NY     | 26.0   | \n",
       "| Low    | VA     | 28.0   | \n",
       "| Low    | WA     | 28.5   | \n",
       "| Medium | CO     | 29.0   | \n",
       "| Medium | NY     | 34.0   | \n",
       "| Medium | WA     | 31.0   | \n",
       "| High   | NY     |   NA   | \n",
       "| High   | WA     | 29.5   | \n",
       "\n",
       "\n"
      ],
      "text/plain": [
       "  education state mean(ages)\n",
       "1 Low       CO    33.0      \n",
       "2 Low       NY    26.0      \n",
       "3 Low       VA    28.0      \n",
       "4 Low       WA    28.5      \n",
       "5 Medium    CO    29.0      \n",
       "6 Medium    NY    34.0      \n",
       "7 Medium    WA    31.0      \n",
       "8 High      NY      NA      \n",
       "9 High      WA    29.5      "
      ]
     },
     "metadata": {},
     "output_type": "display_data"
    }
   ],
   "source": [
    "people  %>%  #then\n",
    "    group_by( education, state )  %>%  \n",
    "    summarize(mean(ages))  # summarize('means'=mean(ages))\n"
   ]
  },
  {
   "cell_type": "markdown",
   "metadata": {},
   "source": [
    "### Manipulating the data frame structure\n",
    "\n",
    "I have two spreadsheets. One has information on the democracy index:\n",
    "\n",
    "![](democracy.png)\n",
    "\n",
    "The other one about the Human Development Index:\n",
    "\n",
    "![](hdi.png)\n",
    "\n",
    "\n",
    "The first spreadsheet has three tables, _Full_, _notFull_ and _scoresALL_; while the second has only one.\n",
    "\n",
    "**APPENDING** is when you combine blocks of data that have a similar structure. \n",
    "\n",
    "From the first spreadsheet, we can append the first two tables horizontally:\n",
    "\n"
   ]
  },
  {
   "cell_type": "code",
   "execution_count": 86,
   "metadata": {},
   "outputs": [],
   "source": [
    "# read data\n",
    "\n",
    "full=import(\"Democracy.xlsx\",which = \"Full\")\n",
    "notfull=import(\"Democracy.xlsx\",which=\"notFull\")\n"
   ]
  },
  {
   "cell_type": "markdown",
   "metadata": {},
   "source": [
    "Then,"
   ]
  },
  {
   "cell_type": "code",
   "execution_count": 87,
   "metadata": {},
   "outputs": [
    {
     "name": "stdout",
     "output_type": "stream",
     "text": [
      "'data.frame':\t167 obs. of  2 variables:\n",
      " $ country: chr  \"Norway\" \"Iceland\" \"Sweden\" \"New Zealand\" ...\n",
      " $ demType: chr  \"Full democracy\" \"Full democracy\" \"Full democracy\" \"Full democracy\" ...\n"
     ]
    }
   ],
   "source": [
    "all=rbind(full,notfull)\n",
    "str(all)\n"
   ]
  },
  {
   "cell_type": "markdown",
   "metadata": {},
   "source": [
    "We can add the last column, by doing a vertical appending:"
   ]
  },
  {
   "cell_type": "code",
   "execution_count": 88,
   "metadata": {},
   "outputs": [],
   "source": [
    "# read in\n",
    "scores=import(\"Democracy.xlsx\",which=\"scoresALL\")"
   ]
  },
  {
   "cell_type": "markdown",
   "metadata": {},
   "source": [
    "First let's see the first rows:"
   ]
  },
  {
   "cell_type": "code",
   "execution_count": 89,
   "metadata": {},
   "outputs": [
    {
     "data": {
      "text/html": [
       "<table>\n",
       "<thead><tr><th scope=col>country</th><th scope=col>demScore</th></tr></thead>\n",
       "<tbody>\n",
       "\t<tr><td>Nepal      </td><td>5.18       </td></tr>\n",
       "\t<tr><td>Switzerland</td><td>9.03       </td></tr>\n",
       "\t<tr><td>Afghanistan</td><td>2.97       </td></tr>\n",
       "\t<tr><td>Albania    </td><td>5.98       </td></tr>\n",
       "\t<tr><td>Algeria    </td><td>3.50       </td></tr>\n",
       "\t<tr><td>Angola     </td><td>3.62       </td></tr>\n",
       "</tbody>\n",
       "</table>\n"
      ],
      "text/latex": [
       "\\begin{tabular}{r|ll}\n",
       " country & demScore\\\\\n",
       "\\hline\n",
       "\t Nepal       & 5.18       \\\\\n",
       "\t Switzerland & 9.03       \\\\\n",
       "\t Afghanistan & 2.97       \\\\\n",
       "\t Albania     & 5.98       \\\\\n",
       "\t Algeria     & 3.50       \\\\\n",
       "\t Angola      & 3.62       \\\\\n",
       "\\end{tabular}\n"
      ],
      "text/markdown": [
       "\n",
       "country | demScore | \n",
       "|---|---|---|---|---|---|\n",
       "| Nepal       | 5.18        | \n",
       "| Switzerland | 9.03        | \n",
       "| Afghanistan | 2.97        | \n",
       "| Albania     | 5.98        | \n",
       "| Algeria     | 3.50        | \n",
       "| Angola      | 3.62        | \n",
       "\n",
       "\n"
      ],
      "text/plain": [
       "  country     demScore\n",
       "1 Nepal       5.18    \n",
       "2 Switzerland 9.03    \n",
       "3 Afghanistan 2.97    \n",
       "4 Albania     5.98    \n",
       "5 Algeria     3.50    \n",
       "6 Angola      3.62    "
      ]
     },
     "metadata": {},
     "output_type": "display_data"
    }
   ],
   "source": [
    "head(scores)"
   ]
  },
  {
   "cell_type": "code",
   "execution_count": 90,
   "metadata": {},
   "outputs": [
    {
     "data": {
      "text/html": [
       "<table>\n",
       "<thead><tr><th scope=col>country</th><th scope=col>demType</th></tr></thead>\n",
       "<tbody>\n",
       "\t<tr><td>Norway        </td><td>Full democracy</td></tr>\n",
       "\t<tr><td>Iceland       </td><td>Full democracy</td></tr>\n",
       "\t<tr><td>Sweden        </td><td>Full democracy</td></tr>\n",
       "\t<tr><td>New Zealand   </td><td>Full democracy</td></tr>\n",
       "\t<tr><td>Denmark       </td><td>Full democracy</td></tr>\n",
       "\t<tr><td>Ireland       </td><td>Full democracy</td></tr>\n",
       "</tbody>\n",
       "</table>\n"
      ],
      "text/latex": [
       "\\begin{tabular}{r|ll}\n",
       " country & demType\\\\\n",
       "\\hline\n",
       "\t Norway         & Full democracy\\\\\n",
       "\t Iceland        & Full democracy\\\\\n",
       "\t Sweden         & Full democracy\\\\\n",
       "\t New Zealand    & Full democracy\\\\\n",
       "\t Denmark        & Full democracy\\\\\n",
       "\t Ireland        & Full democracy\\\\\n",
       "\\end{tabular}\n"
      ],
      "text/markdown": [
       "\n",
       "country | demType | \n",
       "|---|---|---|---|---|---|\n",
       "| Norway         | Full democracy | \n",
       "| Iceland        | Full democracy | \n",
       "| Sweden         | Full democracy | \n",
       "| New Zealand    | Full democracy | \n",
       "| Denmark        | Full democracy | \n",
       "| Ireland        | Full democracy | \n",
       "\n",
       "\n"
      ],
      "text/plain": [
       "  country     demType       \n",
       "1 Norway      Full democracy\n",
       "2 Iceland     Full democracy\n",
       "3 Sweden      Full democracy\n",
       "4 New Zealand Full democracy\n",
       "5 Denmark     Full democracy\n",
       "6 Ireland     Full democracy"
      ]
     },
     "metadata": {},
     "output_type": "display_data"
    }
   ],
   "source": [
    "head(all)"
   ]
  },
  {
   "cell_type": "markdown",
   "metadata": {},
   "source": [
    "We can not append vertically if the size or order are different. In this case, the order is.\n",
    "\n",
    "Then,"
   ]
  },
  {
   "cell_type": "code",
   "execution_count": 91,
   "metadata": {},
   "outputs": [],
   "source": [
    "all=arrange(all, country) \n",
    "scores=arrange(scores, country) \n"
   ]
  },
  {
   "cell_type": "markdown",
   "metadata": {},
   "source": [
    "This has sorted BOTH data frames by the column country.\n",
    "\n",
    "Now you can do:\n"
   ]
  },
  {
   "cell_type": "code",
   "execution_count": 92,
   "metadata": {},
   "outputs": [],
   "source": [
    "demo=cbind(all,scores)"
   ]
  },
  {
   "cell_type": "markdown",
   "metadata": {},
   "source": [
    "However..."
   ]
  },
  {
   "cell_type": "code",
   "execution_count": 93,
   "metadata": {},
   "outputs": [
    {
     "data": {
      "text/html": [
       "<table>\n",
       "<thead><tr><th scope=col>country</th><th scope=col>demType</th><th scope=col>country</th><th scope=col>demScore</th></tr></thead>\n",
       "<tbody>\n",
       "\t<tr><td>Afghanistan     </td><td>Authoritarian   </td><td>Afghanistan     </td><td>2.97            </td></tr>\n",
       "\t<tr><td>Albania         </td><td>Hybrid regime   </td><td>Albania         </td><td>5.98            </td></tr>\n",
       "\t<tr><td>Algeria         </td><td>Authoritarian   </td><td>Algeria         </td><td>3.50            </td></tr>\n",
       "\t<tr><td>Angola          </td><td>Authoritarian   </td><td>Angola          </td><td>3.62            </td></tr>\n",
       "\t<tr><td>Argentina       </td><td>Flawed democracy</td><td>Argentina       </td><td>7.02            </td></tr>\n",
       "\t<tr><td>Armenia         </td><td>Hybrid regime   </td><td>Armenia         </td><td>4.79            </td></tr>\n",
       "\t<tr><td>Australia       </td><td>Full democracy  </td><td>Australia       </td><td>9.09            </td></tr>\n",
       "\t<tr><td>Austria         </td><td>Full democracy  </td><td>Austria         </td><td>8.29            </td></tr>\n",
       "\t<tr><td>Azerbaijan      </td><td>Authoritarian   </td><td>Azerbaijan      </td><td>2.65            </td></tr>\n",
       "\t<tr><td>Bahrain         </td><td>Authoritarian   </td><td>Bahrain         </td><td>2.71            </td></tr>\n",
       "</tbody>\n",
       "</table>\n"
      ],
      "text/latex": [
       "\\begin{tabular}{r|llll}\n",
       " country & demType & country & demScore\\\\\n",
       "\\hline\n",
       "\t Afghanistan      & Authoritarian    & Afghanistan      & 2.97            \\\\\n",
       "\t Albania          & Hybrid regime    & Albania          & 5.98            \\\\\n",
       "\t Algeria          & Authoritarian    & Algeria          & 3.50            \\\\\n",
       "\t Angola           & Authoritarian    & Angola           & 3.62            \\\\\n",
       "\t Argentina        & Flawed democracy & Argentina        & 7.02            \\\\\n",
       "\t Armenia          & Hybrid regime    & Armenia          & 4.79            \\\\\n",
       "\t Australia        & Full democracy   & Australia        & 9.09            \\\\\n",
       "\t Austria          & Full democracy   & Austria          & 8.29            \\\\\n",
       "\t Azerbaijan       & Authoritarian    & Azerbaijan       & 2.65            \\\\\n",
       "\t Bahrain          & Authoritarian    & Bahrain          & 2.71            \\\\\n",
       "\\end{tabular}\n"
      ],
      "text/markdown": [
       "\n",
       "country | demType | country | demScore | \n",
       "|---|---|---|---|---|---|---|---|---|---|\n",
       "| Afghanistan      | Authoritarian    | Afghanistan      | 2.97             | \n",
       "| Albania          | Hybrid regime    | Albania          | 5.98             | \n",
       "| Algeria          | Authoritarian    | Algeria          | 3.50             | \n",
       "| Angola           | Authoritarian    | Angola           | 3.62             | \n",
       "| Argentina        | Flawed democracy | Argentina        | 7.02             | \n",
       "| Armenia          | Hybrid regime    | Armenia          | 4.79             | \n",
       "| Australia        | Full democracy   | Australia        | 9.09             | \n",
       "| Austria          | Full democracy   | Austria          | 8.29             | \n",
       "| Azerbaijan       | Authoritarian    | Azerbaijan       | 2.65             | \n",
       "| Bahrain          | Authoritarian    | Bahrain          | 2.71             | \n",
       "\n",
       "\n"
      ],
      "text/plain": [
       "   country     demType          country     demScore\n",
       "1  Afghanistan Authoritarian    Afghanistan 2.97    \n",
       "2  Albania     Hybrid regime    Albania     5.98    \n",
       "3  Algeria     Authoritarian    Algeria     3.50    \n",
       "4  Angola      Authoritarian    Angola      3.62    \n",
       "5  Argentina   Flawed democracy Argentina   7.02    \n",
       "6  Armenia     Hybrid regime    Armenia     4.79    \n",
       "7  Australia   Full democracy   Australia   9.09    \n",
       "8  Austria     Full democracy   Austria     8.29    \n",
       "9  Azerbaijan  Authoritarian    Azerbaijan  2.65    \n",
       "10 Bahrain     Authoritarian    Bahrain     2.71    "
      ]
     },
     "metadata": {},
     "output_type": "display_data"
    }
   ],
   "source": [
    "head(demo,10)"
   ]
  },
  {
   "cell_type": "markdown",
   "metadata": {},
   "source": [
    "This appending produced a repeated column. Then,"
   ]
  },
  {
   "cell_type": "code",
   "execution_count": 94,
   "metadata": {},
   "outputs": [],
   "source": [
    "demo=demo[,-c(3)] # without the third."
   ]
  },
  {
   "cell_type": "markdown",
   "metadata": {},
   "source": [
    "Now let me get the other data frame:"
   ]
  },
  {
   "cell_type": "code",
   "execution_count": 95,
   "metadata": {},
   "outputs": [
    {
     "name": "stdout",
     "output_type": "stream",
     "text": [
      "'data.frame':\t190 obs. of  2 variables:\n",
      " $ COUNTRY: chr  \"Afghanistan\" \"Albania\" \"Algeria\" \"Andorra\" ...\n",
      " $ hdi    : num  0.498 0.785 0.754 0.858 0.581 0.78 0.825 0.755 0.939 0.908 ...\n"
     ]
    }
   ],
   "source": [
    "hdi=import(\"hdi.xlsx\")\n",
    "str(hdi)\n"
   ]
  },
  {
   "cell_type": "markdown",
   "metadata": {},
   "source": [
    "**MERGING** has the goal of integrating two data frames that have a common column, the _key_. Merging will not produced a repeated column, as _cbind_ did. \n",
    "\n",
    "Let's do it:\n"
   ]
  },
  {
   "cell_type": "code",
   "execution_count": 96,
   "metadata": {},
   "outputs": [
    {
     "data": {
      "text/html": [
       "<table>\n",
       "<thead><tr><th scope=col>country</th><th scope=col>demType</th><th scope=col>demScore</th><th scope=col>hdi</th></tr></thead>\n",
       "<tbody>\n",
       "\t<tr><td>Afghanistan     </td><td>Authoritarian   </td><td>2.97            </td><td>0.498           </td></tr>\n",
       "\t<tr><td>Albania         </td><td>Hybrid regime   </td><td>5.98            </td><td>0.785           </td></tr>\n",
       "\t<tr><td>Algeria         </td><td>Authoritarian   </td><td>3.50            </td><td>0.754           </td></tr>\n",
       "\t<tr><td>Angola          </td><td>Authoritarian   </td><td>3.62            </td><td>0.581           </td></tr>\n",
       "\t<tr><td>Argentina       </td><td>Flawed democracy</td><td>7.02            </td><td>0.825           </td></tr>\n",
       "\t<tr><td>Armenia         </td><td>Hybrid regime   </td><td>4.79            </td><td>0.755           </td></tr>\n",
       "</tbody>\n",
       "</table>\n"
      ],
      "text/latex": [
       "\\begin{tabular}{r|llll}\n",
       " country & demType & demScore & hdi\\\\\n",
       "\\hline\n",
       "\t Afghanistan      & Authoritarian    & 2.97             & 0.498           \\\\\n",
       "\t Albania          & Hybrid regime    & 5.98             & 0.785           \\\\\n",
       "\t Algeria          & Authoritarian    & 3.50             & 0.754           \\\\\n",
       "\t Angola           & Authoritarian    & 3.62             & 0.581           \\\\\n",
       "\t Argentina        & Flawed democracy & 7.02             & 0.825           \\\\\n",
       "\t Armenia          & Hybrid regime    & 4.79             & 0.755           \\\\\n",
       "\\end{tabular}\n"
      ],
      "text/markdown": [
       "\n",
       "country | demType | demScore | hdi | \n",
       "|---|---|---|---|---|---|\n",
       "| Afghanistan      | Authoritarian    | 2.97             | 0.498            | \n",
       "| Albania          | Hybrid regime    | 5.98             | 0.785            | \n",
       "| Algeria          | Authoritarian    | 3.50             | 0.754            | \n",
       "| Angola           | Authoritarian    | 3.62             | 0.581            | \n",
       "| Argentina        | Flawed democracy | 7.02             | 0.825            | \n",
       "| Armenia          | Hybrid regime    | 4.79             | 0.755            | \n",
       "\n",
       "\n"
      ],
      "text/plain": [
       "  country     demType          demScore hdi  \n",
       "1 Afghanistan Authoritarian    2.97     0.498\n",
       "2 Albania     Hybrid regime    5.98     0.785\n",
       "3 Algeria     Authoritarian    3.50     0.754\n",
       "4 Angola      Authoritarian    3.62     0.581\n",
       "5 Argentina   Flawed democracy 7.02     0.825\n",
       "6 Armenia     Hybrid regime    4.79     0.755"
      ]
     },
     "metadata": {},
     "output_type": "display_data"
    }
   ],
   "source": [
    "demo_hdi=merge(demo,hdi,by.x = 'country', by.y = 'COUNTRY')\n",
    "head(demo_hdi)\n"
   ]
  },
  {
   "cell_type": "code",
   "execution_count": 97,
   "metadata": {},
   "outputs": [
    {
     "name": "stdout",
     "output_type": "stream",
     "text": [
      "'data.frame':\t161 obs. of  4 variables:\n",
      " $ country : chr  \"Afghanistan\" \"Albania\" \"Algeria\" \"Angola\" ...\n",
      " $ demType : chr  \"Authoritarian\" \"Hybrid regime\" \"Authoritarian\" \"Authoritarian\" ...\n",
      " $ demScore: num  2.97 5.98 3.5 3.62 7.02 4.79 9.09 8.29 2.65 2.71 ...\n",
      " $ hdi     : num  0.498 0.785 0.754 0.581 0.825 0.755 0.939 0.908 0.757 0.846 ...\n"
     ]
    }
   ],
   "source": [
    "str(demo_hdi)"
   ]
  },
  {
   "cell_type": "markdown",
   "metadata": {},
   "source": [
    "Notice some details:\n",
    "\n",
    "1. One of the _key_ columns dissappeared, as it becomes redundant.\n",
    "\n",
    "2. You do not use _cbind_ this time, because data comes from different sources, and that you are not sure the _key_ columns are the same.\n",
    "\n",
    "3. The democray data had 167 rows, and the hdi 190. But the merge produces 161 rows. Those are the countries from demo that found a country with hdi in the second data frame.\n",
    "\n",
    "From the last point, let's try to keep all countries from both files:\n"
   ]
  },
  {
   "cell_type": "code",
   "execution_count": 98,
   "metadata": {},
   "outputs": [],
   "source": [
    "ALLALL=merge(demo,hdi,by.x = 'country', by.y = 'COUNTRY',\n",
    "             all.x = T, all.y = T)"
   ]
  },
  {
   "cell_type": "markdown",
   "metadata": {},
   "source": [
    "This one has 196 countries. This means that there are countries in one data set that are not present in the other. These are the countries that are not present in the DEMOCRACY data frame:\n"
   ]
  },
  {
   "cell_type": "code",
   "execution_count": 99,
   "metadata": {},
   "outputs": [
    {
     "data": {
      "text/html": [
       "<ol class=list-inline>\n",
       "\t<li>'Democratic Republic of the Congo'</li>\n",
       "\t<li>'North Korea'</li>\n",
       "\t<li>'North Macedonia'</li>\n",
       "\t<li>'Republic of the Congo'</li>\n",
       "\t<li>'Taiwan Republic of China (Taiwan)'</li>\n",
       "\t<li>'Timor-Leste'</li>\n",
       "</ol>\n"
      ],
      "text/latex": [
       "\\begin{enumerate*}\n",
       "\\item 'Democratic Republic of the Congo'\n",
       "\\item 'North Korea'\n",
       "\\item 'North Macedonia'\n",
       "\\item 'Republic of the Congo'\n",
       "\\item 'Taiwan Republic of China (Taiwan)'\n",
       "\\item 'Timor-Leste'\n",
       "\\end{enumerate*}\n"
      ],
      "text/markdown": [
       "1. 'Democratic Republic of the Congo'\n",
       "2. 'North Korea'\n",
       "3. 'North Macedonia'\n",
       "4. 'Republic of the Congo'\n",
       "5. 'Taiwan Republic of China (Taiwan)'\n",
       "6. 'Timor-Leste'\n",
       "\n",
       "\n"
      ],
      "text/plain": [
       "[1] \"Democratic Republic of the Congo\"  \"North Korea\"                      \n",
       "[3] \"North Macedonia\"                   \"Republic of the Congo\"            \n",
       "[5] \"Taiwan Republic of China (Taiwan)\" \"Timor-Leste\"                      "
      ]
     },
     "metadata": {},
     "output_type": "display_data"
    }
   ],
   "source": [
    "ALLALL[!complete.cases(ALLALL$hdi),\"country\"]"
   ]
  },
  {
   "cell_type": "markdown",
   "metadata": {},
   "source": [
    "These are the countries that are not present in the HDI data frame:"
   ]
  },
  {
   "cell_type": "code",
   "execution_count": 100,
   "metadata": {},
   "outputs": [
    {
     "data": {
      "text/html": [
       "<ol class=list-inline>\n",
       "\t<li>'Andorra'</li>\n",
       "\t<li>'Antigua and Barbuda'</li>\n",
       "\t<li>'Bahamas'</li>\n",
       "\t<li>'Barbados'</li>\n",
       "\t<li>'Belize'</li>\n",
       "\t<li>'Brunei'</li>\n",
       "\t<li>'Congo, Democratic Republic of the'</li>\n",
       "\t<li>'Congo, Republic of the'</li>\n",
       "\t<li>'Dominica'</li>\n",
       "\t<li>'East Timor'</li>\n",
       "\t<li>'Grenada'</li>\n",
       "\t<li>'Kiribati'</li>\n",
       "\t<li>'Liechtenstein'</li>\n",
       "\t<li>'Macedonia'</li>\n",
       "\t<li>'Maldives'</li>\n",
       "\t<li>'Marshall Islands'</li>\n",
       "\t<li>'Micronesia'</li>\n",
       "\t<li>'Palau'</li>\n",
       "\t<li>'Saint Kitts and Nevis'</li>\n",
       "\t<li>'Saint Lucia'</li>\n",
       "\t<li>'Saint Vincent and the Grenadines'</li>\n",
       "\t<li>'Samoa'</li>\n",
       "\t<li>'São Tomé and Príncipe'</li>\n",
       "\t<li>'Seychelles'</li>\n",
       "\t<li>'Solomon Islands'</li>\n",
       "\t<li>'South Sudan'</li>\n",
       "\t<li>'Tonga'</li>\n",
       "\t<li>'Vanuatu'</li>\n",
       "\t<li>'World'</li>\n",
       "</ol>\n"
      ],
      "text/latex": [
       "\\begin{enumerate*}\n",
       "\\item 'Andorra'\n",
       "\\item 'Antigua and Barbuda'\n",
       "\\item 'Bahamas'\n",
       "\\item 'Barbados'\n",
       "\\item 'Belize'\n",
       "\\item 'Brunei'\n",
       "\\item 'Congo, Democratic Republic of the'\n",
       "\\item 'Congo, Republic of the'\n",
       "\\item 'Dominica'\n",
       "\\item 'East Timor'\n",
       "\\item 'Grenada'\n",
       "\\item 'Kiribati'\n",
       "\\item 'Liechtenstein'\n",
       "\\item 'Macedonia'\n",
       "\\item 'Maldives'\n",
       "\\item 'Marshall Islands'\n",
       "\\item 'Micronesia'\n",
       "\\item 'Palau'\n",
       "\\item 'Saint Kitts and Nevis'\n",
       "\\item 'Saint Lucia'\n",
       "\\item 'Saint Vincent and the Grenadines'\n",
       "\\item 'Samoa'\n",
       "\\item 'São Tomé and Príncipe'\n",
       "\\item 'Seychelles'\n",
       "\\item 'Solomon Islands'\n",
       "\\item 'South Sudan'\n",
       "\\item 'Tonga'\n",
       "\\item 'Vanuatu'\n",
       "\\item 'World'\n",
       "\\end{enumerate*}\n"
      ],
      "text/markdown": [
       "1. 'Andorra'\n",
       "2. 'Antigua and Barbuda'\n",
       "3. 'Bahamas'\n",
       "4. 'Barbados'\n",
       "5. 'Belize'\n",
       "6. 'Brunei'\n",
       "7. 'Congo, Democratic Republic of the'\n",
       "8. 'Congo, Republic of the'\n",
       "9. 'Dominica'\n",
       "10. 'East Timor'\n",
       "11. 'Grenada'\n",
       "12. 'Kiribati'\n",
       "13. 'Liechtenstein'\n",
       "14. 'Macedonia'\n",
       "15. 'Maldives'\n",
       "16. 'Marshall Islands'\n",
       "17. 'Micronesia'\n",
       "18. 'Palau'\n",
       "19. 'Saint Kitts and Nevis'\n",
       "20. 'Saint Lucia'\n",
       "21. 'Saint Vincent and the Grenadines'\n",
       "22. 'Samoa'\n",
       "23. 'São Tomé and Príncipe'\n",
       "24. 'Seychelles'\n",
       "25. 'Solomon Islands'\n",
       "26. 'South Sudan'\n",
       "27. 'Tonga'\n",
       "28. 'Vanuatu'\n",
       "29. 'World'\n",
       "\n",
       "\n"
      ],
      "text/plain": [
       " [1] \"Andorra\"                           \"Antigua and Barbuda\"              \n",
       " [3] \"Bahamas\"                           \"Barbados\"                         \n",
       " [5] \"Belize\"                            \"Brunei\"                           \n",
       " [7] \"Congo, Democratic Republic of the\" \"Congo, Republic of the\"           \n",
       " [9] \"Dominica\"                          \"East Timor\"                       \n",
       "[11] \"Grenada\"                           \"Kiribati\"                         \n",
       "[13] \"Liechtenstein\"                     \"Macedonia\"                        \n",
       "[15] \"Maldives\"                          \"Marshall Islands\"                 \n",
       "[17] \"Micronesia\"                        \"Palau\"                            \n",
       "[19] \"Saint Kitts and Nevis\"             \"Saint Lucia\"                      \n",
       "[21] \"Saint Vincent and the Grenadines\"  \"Samoa\"                            \n",
       "[23] \"São Tomé and Príncipe\"             \"Seychelles\"                       \n",
       "[25] \"Solomon Islands\"                   \"South Sudan\"                      \n",
       "[27] \"Tonga\"                             \"Vanuatu\"                          \n",
       "[29] \"World\"                            "
      ]
     },
     "metadata": {},
     "output_type": "display_data"
    }
   ],
   "source": [
    "ALLALL[!complete.cases(ALLALL$demScore),\"country\"]"
   ]
  },
  {
   "cell_type": "markdown",
   "metadata": {},
   "source": [
    "In both cases, you see that there are countries or territories that are not common. But also you see that the CONGO countries are present in both countries, but are written differently.\n",
    "\n",
    "**RESHAPING** is the process of turning the data frame from wide format to long format, and viceversa. So far we have used only wide format. \n"
   ]
  },
  {
   "cell_type": "code",
   "execution_count": 101,
   "metadata": {},
   "outputs": [
    {
     "data": {
      "text/html": [
       "<table>\n",
       "<thead><tr><th scope=col>cod</th><th scope=col>ages</th><th scope=col>state</th><th scope=col>education</th></tr></thead>\n",
       "<tbody>\n",
       "\t<tr><td>A1    </td><td>NA    </td><td>NY    </td><td>High  </td></tr>\n",
       "\t<tr><td>A2    </td><td>27    </td><td>WA    </td><td>Low   </td></tr>\n",
       "\t<tr><td>A3    </td><td>25    </td><td>WA    </td><td>High  </td></tr>\n",
       "\t<tr><td>A4    </td><td>31    </td><td>CO    </td><td>Medium</td></tr>\n",
       "\t<tr><td>A5    </td><td>28    </td><td>CO    </td><td>Low   </td></tr>\n",
       "\t<tr><td>A6    </td><td>37    </td><td>NY    </td><td>High  </td></tr>\n",
       "</tbody>\n",
       "</table>\n"
      ],
      "text/latex": [
       "\\begin{tabular}{r|llll}\n",
       " cod & ages & state & education\\\\\n",
       "\\hline\n",
       "\t A1     & NA     & NY     & High  \\\\\n",
       "\t A2     & 27     & WA     & Low   \\\\\n",
       "\t A3     & 25     & WA     & High  \\\\\n",
       "\t A4     & 31     & CO     & Medium\\\\\n",
       "\t A5     & 28     & CO     & Low   \\\\\n",
       "\t A6     & 37     & NY     & High  \\\\\n",
       "\\end{tabular}\n"
      ],
      "text/markdown": [
       "\n",
       "cod | ages | state | education | \n",
       "|---|---|---|---|---|---|\n",
       "| A1     | NA     | NY     | High   | \n",
       "| A2     | 27     | WA     | Low    | \n",
       "| A3     | 25     | WA     | High   | \n",
       "| A4     | 31     | CO     | Medium | \n",
       "| A5     | 28     | CO     | Low    | \n",
       "| A6     | 37     | NY     | High   | \n",
       "\n",
       "\n"
      ],
      "text/plain": [
       "  cod ages state education\n",
       "1 A1  NA   NY    High     \n",
       "2 A2  27   WA    Low      \n",
       "3 A3  25   WA    High     \n",
       "4 A4  31   CO    Medium   \n",
       "5 A5  28   CO    Low      \n",
       "6 A6  37   NY    High     "
      ]
     },
     "metadata": {},
     "output_type": "display_data"
    }
   ],
   "source": [
    "head(people)"
   ]
  },
  {
   "cell_type": "markdown",
   "metadata": {},
   "source": [
    "The long format for this data frame is:"
   ]
  },
  {
   "cell_type": "code",
   "execution_count": 102,
   "metadata": {},
   "outputs": [
    {
     "name": "stderr",
     "output_type": "stream",
     "text": [
      "Using cod, state, education as id variables\n"
     ]
    },
    {
     "data": {
      "text/html": [
       "<table>\n",
       "<thead><tr><th scope=col>cod</th><th scope=col>state</th><th scope=col>education</th><th scope=col>variable</th><th scope=col>value</th></tr></thead>\n",
       "<tbody>\n",
       "\t<tr><td>A1    </td><td>NY    </td><td>High  </td><td>ages  </td><td>NA    </td></tr>\n",
       "\t<tr><td>A2    </td><td>WA    </td><td>Low   </td><td>ages  </td><td>27    </td></tr>\n",
       "\t<tr><td>A3    </td><td>WA    </td><td>High  </td><td>ages  </td><td>25    </td></tr>\n",
       "\t<tr><td>A4    </td><td>CO    </td><td>Medium</td><td>ages  </td><td>31    </td></tr>\n",
       "\t<tr><td>A5    </td><td>CO    </td><td>Low   </td><td>ages  </td><td>28    </td></tr>\n",
       "\t<tr><td>A6    </td><td>NY    </td><td>High  </td><td>ages  </td><td>37    </td></tr>\n",
       "\t<tr><td>A7    </td><td>NY    </td><td>Medium</td><td>ages  </td><td>37    </td></tr>\n",
       "\t<tr><td>A8    </td><td>NY    </td><td>Medium</td><td>ages  </td><td>25    </td></tr>\n",
       "\t<tr><td>A9    </td><td>CO    </td><td>Low   </td><td>ages  </td><td>38    </td></tr>\n",
       "\t<tr><td>A10   </td><td>VA    </td><td>Low   </td><td>ages  </td><td>28    </td></tr>\n",
       "\t<tr><td>A11   </td><td>WA    </td><td>Medium</td><td>ages  </td><td>31    </td></tr>\n",
       "\t<tr><td>A12   </td><td>WA    </td><td>High  </td><td>ages  </td><td>34    </td></tr>\n",
       "\t<tr><td>A13   </td><td>NY    </td><td>Low   </td><td>ages  </td><td>27    </td></tr>\n",
       "\t<tr><td>A14   </td><td>CO    </td><td>Medium</td><td>ages  </td><td>27    </td></tr>\n",
       "\t<tr><td>A15   </td><td>NY    </td><td>High  </td><td>ages  </td><td>28    </td></tr>\n",
       "\t<tr><td>A16   </td><td>WA    </td><td>Low   </td><td>ages  </td><td>28    </td></tr>\n",
       "\t<tr><td>A17   </td><td>WA    </td><td>Low   </td><td>ages  </td><td>27    </td></tr>\n",
       "\t<tr><td>A18   </td><td>WA    </td><td>Low   </td><td>ages  </td><td>32    </td></tr>\n",
       "\t<tr><td>A19   </td><td>NY    </td><td>Medium</td><td>ages  </td><td>40    </td></tr>\n",
       "\t<tr><td>A20   </td><td>NY    </td><td>Low   </td><td>ages  </td><td>25    </td></tr>\n",
       "</tbody>\n",
       "</table>\n"
      ],
      "text/latex": [
       "\\begin{tabular}{r|lllll}\n",
       " cod & state & education & variable & value\\\\\n",
       "\\hline\n",
       "\t A1     & NY     & High   & ages   & NA    \\\\\n",
       "\t A2     & WA     & Low    & ages   & 27    \\\\\n",
       "\t A3     & WA     & High   & ages   & 25    \\\\\n",
       "\t A4     & CO     & Medium & ages   & 31    \\\\\n",
       "\t A5     & CO     & Low    & ages   & 28    \\\\\n",
       "\t A6     & NY     & High   & ages   & 37    \\\\\n",
       "\t A7     & NY     & Medium & ages   & 37    \\\\\n",
       "\t A8     & NY     & Medium & ages   & 25    \\\\\n",
       "\t A9     & CO     & Low    & ages   & 38    \\\\\n",
       "\t A10    & VA     & Low    & ages   & 28    \\\\\n",
       "\t A11    & WA     & Medium & ages   & 31    \\\\\n",
       "\t A12    & WA     & High   & ages   & 34    \\\\\n",
       "\t A13    & NY     & Low    & ages   & 27    \\\\\n",
       "\t A14    & CO     & Medium & ages   & 27    \\\\\n",
       "\t A15    & NY     & High   & ages   & 28    \\\\\n",
       "\t A16    & WA     & Low    & ages   & 28    \\\\\n",
       "\t A17    & WA     & Low    & ages   & 27    \\\\\n",
       "\t A18    & WA     & Low    & ages   & 32    \\\\\n",
       "\t A19    & NY     & Medium & ages   & 40    \\\\\n",
       "\t A20    & NY     & Low    & ages   & 25    \\\\\n",
       "\\end{tabular}\n"
      ],
      "text/markdown": [
       "\n",
       "cod | state | education | variable | value | \n",
       "|---|---|---|---|---|---|---|---|---|---|---|---|---|---|---|---|---|---|---|---|\n",
       "| A1     | NY     | High   | ages   | NA     | \n",
       "| A2     | WA     | Low    | ages   | 27     | \n",
       "| A3     | WA     | High   | ages   | 25     | \n",
       "| A4     | CO     | Medium | ages   | 31     | \n",
       "| A5     | CO     | Low    | ages   | 28     | \n",
       "| A6     | NY     | High   | ages   | 37     | \n",
       "| A7     | NY     | Medium | ages   | 37     | \n",
       "| A8     | NY     | Medium | ages   | 25     | \n",
       "| A9     | CO     | Low    | ages   | 38     | \n",
       "| A10    | VA     | Low    | ages   | 28     | \n",
       "| A11    | WA     | Medium | ages   | 31     | \n",
       "| A12    | WA     | High   | ages   | 34     | \n",
       "| A13    | NY     | Low    | ages   | 27     | \n",
       "| A14    | CO     | Medium | ages   | 27     | \n",
       "| A15    | NY     | High   | ages   | 28     | \n",
       "| A16    | WA     | Low    | ages   | 28     | \n",
       "| A17    | WA     | Low    | ages   | 27     | \n",
       "| A18    | WA     | Low    | ages   | 32     | \n",
       "| A19    | NY     | Medium | ages   | 40     | \n",
       "| A20    | NY     | Low    | ages   | 25     | \n",
       "\n",
       "\n"
      ],
      "text/plain": [
       "   cod state education variable value\n",
       "1  A1  NY    High      ages     NA   \n",
       "2  A2  WA    Low       ages     27   \n",
       "3  A3  WA    High      ages     25   \n",
       "4  A4  CO    Medium    ages     31   \n",
       "5  A5  CO    Low       ages     28   \n",
       "6  A6  NY    High      ages     37   \n",
       "7  A7  NY    Medium    ages     37   \n",
       "8  A8  NY    Medium    ages     25   \n",
       "9  A9  CO    Low       ages     38   \n",
       "10 A10 VA    Low       ages     28   \n",
       "11 A11 WA    Medium    ages     31   \n",
       "12 A12 WA    High      ages     34   \n",
       "13 A13 NY    Low       ages     27   \n",
       "14 A14 CO    Medium    ages     27   \n",
       "15 A15 NY    High      ages     28   \n",
       "16 A16 WA    Low       ages     28   \n",
       "17 A17 WA    Low       ages     27   \n",
       "18 A18 WA    Low       ages     32   \n",
       "19 A19 NY    Medium    ages     40   \n",
       "20 A20 NY    Low       ages     25   "
      ]
     },
     "metadata": {},
     "output_type": "display_data"
    }
   ],
   "source": [
    "library(reshape2)\n",
    "\n",
    "people_L1=melt(people)\n",
    "people_L1"
   ]
  },
  {
   "cell_type": "markdown",
   "metadata": {},
   "source": [
    "The melt function assumed that the only variables were _ages_ and _agesGroup_, as this were the only numeric ones. Then the column _value_ is filled with numeric values, and the column named _variable_ holds the names of the melted variables. The rest were considered *id*entifiers:\n",
    "\n",
    "\n",
    "\n",
    "This is how you separate the variables from the identifiers:\n"
   ]
  },
  {
   "cell_type": "code",
   "execution_count": 103,
   "metadata": {},
   "outputs": [
    {
     "name": "stderr",
     "output_type": "stream",
     "text": [
      "Warning message:\n",
      "“attributes are not identical across measure variables; they will be dropped”"
     ]
    },
    {
     "data": {
      "text/html": [
       "<table>\n",
       "<thead><tr><th scope=col>cod</th><th scope=col>state</th><th scope=col>variable</th><th scope=col>value</th></tr></thead>\n",
       "<tbody>\n",
       "\t<tr><td>A1       </td><td>NY       </td><td>ages     </td><td>NA       </td></tr>\n",
       "\t<tr><td>A2       </td><td>WA       </td><td>ages     </td><td>27       </td></tr>\n",
       "\t<tr><td>A3       </td><td>WA       </td><td>ages     </td><td>25       </td></tr>\n",
       "\t<tr><td>A4       </td><td>CO       </td><td>ages     </td><td>31       </td></tr>\n",
       "\t<tr><td>A5       </td><td>CO       </td><td>ages     </td><td>28       </td></tr>\n",
       "\t<tr><td>A6       </td><td>NY       </td><td>ages     </td><td>37       </td></tr>\n",
       "\t<tr><td>A7       </td><td>NY       </td><td>ages     </td><td>37       </td></tr>\n",
       "\t<tr><td>A8       </td><td>NY       </td><td>ages     </td><td>25       </td></tr>\n",
       "\t<tr><td>A9       </td><td>CO       </td><td>ages     </td><td>38       </td></tr>\n",
       "\t<tr><td>A10      </td><td>VA       </td><td>ages     </td><td>28       </td></tr>\n",
       "\t<tr><td>A11      </td><td>WA       </td><td>ages     </td><td>31       </td></tr>\n",
       "\t<tr><td>A12      </td><td>WA       </td><td>ages     </td><td>34       </td></tr>\n",
       "\t<tr><td>A13      </td><td>NY       </td><td>ages     </td><td>27       </td></tr>\n",
       "\t<tr><td>A14      </td><td>CO       </td><td>ages     </td><td>27       </td></tr>\n",
       "\t<tr><td>A15      </td><td>NY       </td><td>ages     </td><td>28       </td></tr>\n",
       "\t<tr><td>A16      </td><td>WA       </td><td>ages     </td><td>28       </td></tr>\n",
       "\t<tr><td>A17      </td><td>WA       </td><td>ages     </td><td>27       </td></tr>\n",
       "\t<tr><td>A18      </td><td>WA       </td><td>ages     </td><td>32       </td></tr>\n",
       "\t<tr><td>A19      </td><td>NY       </td><td>ages     </td><td>40       </td></tr>\n",
       "\t<tr><td>A20      </td><td>NY       </td><td>ages     </td><td>25       </td></tr>\n",
       "\t<tr><td>A1       </td><td>NY       </td><td>education</td><td>High     </td></tr>\n",
       "\t<tr><td>A2       </td><td>WA       </td><td>education</td><td>Low      </td></tr>\n",
       "\t<tr><td>A3       </td><td>WA       </td><td>education</td><td>High     </td></tr>\n",
       "\t<tr><td>A4       </td><td>CO       </td><td>education</td><td>Medium   </td></tr>\n",
       "\t<tr><td>A5       </td><td>CO       </td><td>education</td><td>Low      </td></tr>\n",
       "\t<tr><td>A6       </td><td>NY       </td><td>education</td><td>High     </td></tr>\n",
       "\t<tr><td>A7       </td><td>NY       </td><td>education</td><td>Medium   </td></tr>\n",
       "\t<tr><td>A8       </td><td>NY       </td><td>education</td><td>Medium   </td></tr>\n",
       "\t<tr><td>A9       </td><td>CO       </td><td>education</td><td>Low      </td></tr>\n",
       "\t<tr><td>A10      </td><td>VA       </td><td>education</td><td>Low      </td></tr>\n",
       "\t<tr><td>A11      </td><td>WA       </td><td>education</td><td>Medium   </td></tr>\n",
       "\t<tr><td>A12      </td><td>WA       </td><td>education</td><td>High     </td></tr>\n",
       "\t<tr><td>A13      </td><td>NY       </td><td>education</td><td>Low      </td></tr>\n",
       "\t<tr><td>A14      </td><td>CO       </td><td>education</td><td>Medium   </td></tr>\n",
       "\t<tr><td>A15      </td><td>NY       </td><td>education</td><td>High     </td></tr>\n",
       "\t<tr><td>A16      </td><td>WA       </td><td>education</td><td>Low      </td></tr>\n",
       "\t<tr><td>A17      </td><td>WA       </td><td>education</td><td>Low      </td></tr>\n",
       "\t<tr><td>A18      </td><td>WA       </td><td>education</td><td>Low      </td></tr>\n",
       "\t<tr><td>A19      </td><td>NY       </td><td>education</td><td>Medium   </td></tr>\n",
       "\t<tr><td>A20      </td><td>NY       </td><td>education</td><td>Low      </td></tr>\n",
       "</tbody>\n",
       "</table>\n"
      ],
      "text/latex": [
       "\\begin{tabular}{r|llll}\n",
       " cod & state & variable & value\\\\\n",
       "\\hline\n",
       "\t A1        & NY        & ages      & NA       \\\\\n",
       "\t A2        & WA        & ages      & 27       \\\\\n",
       "\t A3        & WA        & ages      & 25       \\\\\n",
       "\t A4        & CO        & ages      & 31       \\\\\n",
       "\t A5        & CO        & ages      & 28       \\\\\n",
       "\t A6        & NY        & ages      & 37       \\\\\n",
       "\t A7        & NY        & ages      & 37       \\\\\n",
       "\t A8        & NY        & ages      & 25       \\\\\n",
       "\t A9        & CO        & ages      & 38       \\\\\n",
       "\t A10       & VA        & ages      & 28       \\\\\n",
       "\t A11       & WA        & ages      & 31       \\\\\n",
       "\t A12       & WA        & ages      & 34       \\\\\n",
       "\t A13       & NY        & ages      & 27       \\\\\n",
       "\t A14       & CO        & ages      & 27       \\\\\n",
       "\t A15       & NY        & ages      & 28       \\\\\n",
       "\t A16       & WA        & ages      & 28       \\\\\n",
       "\t A17       & WA        & ages      & 27       \\\\\n",
       "\t A18       & WA        & ages      & 32       \\\\\n",
       "\t A19       & NY        & ages      & 40       \\\\\n",
       "\t A20       & NY        & ages      & 25       \\\\\n",
       "\t A1        & NY        & education & High     \\\\\n",
       "\t A2        & WA        & education & Low      \\\\\n",
       "\t A3        & WA        & education & High     \\\\\n",
       "\t A4        & CO        & education & Medium   \\\\\n",
       "\t A5        & CO        & education & Low      \\\\\n",
       "\t A6        & NY        & education & High     \\\\\n",
       "\t A7        & NY        & education & Medium   \\\\\n",
       "\t A8        & NY        & education & Medium   \\\\\n",
       "\t A9        & CO        & education & Low      \\\\\n",
       "\t A10       & VA        & education & Low      \\\\\n",
       "\t A11       & WA        & education & Medium   \\\\\n",
       "\t A12       & WA        & education & High     \\\\\n",
       "\t A13       & NY        & education & Low      \\\\\n",
       "\t A14       & CO        & education & Medium   \\\\\n",
       "\t A15       & NY        & education & High     \\\\\n",
       "\t A16       & WA        & education & Low      \\\\\n",
       "\t A17       & WA        & education & Low      \\\\\n",
       "\t A18       & WA        & education & Low      \\\\\n",
       "\t A19       & NY        & education & Medium   \\\\\n",
       "\t A20       & NY        & education & Low      \\\\\n",
       "\\end{tabular}\n"
      ],
      "text/markdown": [
       "\n",
       "cod | state | variable | value | \n",
       "|---|---|---|---|---|---|---|---|---|---|---|---|---|---|---|---|---|---|---|---|---|---|---|---|---|---|---|---|---|---|---|---|---|---|---|---|---|---|---|---|\n",
       "| A1        | NY        | ages      | NA        | \n",
       "| A2        | WA        | ages      | 27        | \n",
       "| A3        | WA        | ages      | 25        | \n",
       "| A4        | CO        | ages      | 31        | \n",
       "| A5        | CO        | ages      | 28        | \n",
       "| A6        | NY        | ages      | 37        | \n",
       "| A7        | NY        | ages      | 37        | \n",
       "| A8        | NY        | ages      | 25        | \n",
       "| A9        | CO        | ages      | 38        | \n",
       "| A10       | VA        | ages      | 28        | \n",
       "| A11       | WA        | ages      | 31        | \n",
       "| A12       | WA        | ages      | 34        | \n",
       "| A13       | NY        | ages      | 27        | \n",
       "| A14       | CO        | ages      | 27        | \n",
       "| A15       | NY        | ages      | 28        | \n",
       "| A16       | WA        | ages      | 28        | \n",
       "| A17       | WA        | ages      | 27        | \n",
       "| A18       | WA        | ages      | 32        | \n",
       "| A19       | NY        | ages      | 40        | \n",
       "| A20       | NY        | ages      | 25        | \n",
       "| A1        | NY        | education | High      | \n",
       "| A2        | WA        | education | Low       | \n",
       "| A3        | WA        | education | High      | \n",
       "| A4        | CO        | education | Medium    | \n",
       "| A5        | CO        | education | Low       | \n",
       "| A6        | NY        | education | High      | \n",
       "| A7        | NY        | education | Medium    | \n",
       "| A8        | NY        | education | Medium    | \n",
       "| A9        | CO        | education | Low       | \n",
       "| A10       | VA        | education | Low       | \n",
       "| A11       | WA        | education | Medium    | \n",
       "| A12       | WA        | education | High      | \n",
       "| A13       | NY        | education | Low       | \n",
       "| A14       | CO        | education | Medium    | \n",
       "| A15       | NY        | education | High      | \n",
       "| A16       | WA        | education | Low       | \n",
       "| A17       | WA        | education | Low       | \n",
       "| A18       | WA        | education | Low       | \n",
       "| A19       | NY        | education | Medium    | \n",
       "| A20       | NY        | education | Low       | \n",
       "\n",
       "\n"
      ],
      "text/plain": [
       "   cod state variable  value \n",
       "1  A1  NY    ages      NA    \n",
       "2  A2  WA    ages      27    \n",
       "3  A3  WA    ages      25    \n",
       "4  A4  CO    ages      31    \n",
       "5  A5  CO    ages      28    \n",
       "6  A6  NY    ages      37    \n",
       "7  A7  NY    ages      37    \n",
       "8  A8  NY    ages      25    \n",
       "9  A9  CO    ages      38    \n",
       "10 A10 VA    ages      28    \n",
       "11 A11 WA    ages      31    \n",
       "12 A12 WA    ages      34    \n",
       "13 A13 NY    ages      27    \n",
       "14 A14 CO    ages      27    \n",
       "15 A15 NY    ages      28    \n",
       "16 A16 WA    ages      28    \n",
       "17 A17 WA    ages      27    \n",
       "18 A18 WA    ages      32    \n",
       "19 A19 NY    ages      40    \n",
       "20 A20 NY    ages      25    \n",
       "21 A1  NY    education High  \n",
       "22 A2  WA    education Low   \n",
       "23 A3  WA    education High  \n",
       "24 A4  CO    education Medium\n",
       "25 A5  CO    education Low   \n",
       "26 A6  NY    education High  \n",
       "27 A7  NY    education Medium\n",
       "28 A8  NY    education Medium\n",
       "29 A9  CO    education Low   \n",
       "30 A10 VA    education Low   \n",
       "31 A11 WA    education Medium\n",
       "32 A12 WA    education High  \n",
       "33 A13 NY    education Low   \n",
       "34 A14 CO    education Medium\n",
       "35 A15 NY    education High  \n",
       "36 A16 WA    education Low   \n",
       "37 A17 WA    education Low   \n",
       "38 A18 WA    education Low   \n",
       "39 A19 NY    education Medium\n",
       "40 A20 NY    education Low   "
      ]
     },
     "metadata": {},
     "output_type": "display_data"
    }
   ],
   "source": [
    "people_L2=melt(people, id=c('cod','state'))\n",
    "people_L2\n"
   ]
  },
  {
   "cell_type": "markdown",
   "metadata": {},
   "source": [
    "Notice that the last column has been formatted as character.\n",
    "\n",
    "Once you have created a long format, you can turn it back into a wide format with **dcast()**:\n"
   ]
  },
  {
   "cell_type": "code",
   "execution_count": 104,
   "metadata": {},
   "outputs": [
    {
     "data": {
      "text/html": [
       "<table>\n",
       "<thead><tr><th scope=col>cod</th><th scope=col>state</th><th scope=col>education</th><th scope=col>ages</th></tr></thead>\n",
       "<tbody>\n",
       "\t<tr><td>A1    </td><td>NY    </td><td>High  </td><td>NA    </td></tr>\n",
       "\t<tr><td>A10   </td><td>VA    </td><td>Low   </td><td>28    </td></tr>\n",
       "\t<tr><td>A11   </td><td>WA    </td><td>Medium</td><td>31    </td></tr>\n",
       "\t<tr><td>A12   </td><td>WA    </td><td>High  </td><td>34    </td></tr>\n",
       "\t<tr><td>A13   </td><td>NY    </td><td>Low   </td><td>27    </td></tr>\n",
       "\t<tr><td>A14   </td><td>CO    </td><td>Medium</td><td>27    </td></tr>\n",
       "\t<tr><td>A15   </td><td>NY    </td><td>High  </td><td>28    </td></tr>\n",
       "\t<tr><td>A16   </td><td>WA    </td><td>Low   </td><td>28    </td></tr>\n",
       "\t<tr><td>A17   </td><td>WA    </td><td>Low   </td><td>27    </td></tr>\n",
       "\t<tr><td>A18   </td><td>WA    </td><td>Low   </td><td>32    </td></tr>\n",
       "\t<tr><td>A19   </td><td>NY    </td><td>Medium</td><td>40    </td></tr>\n",
       "\t<tr><td>A2    </td><td>WA    </td><td>Low   </td><td>27    </td></tr>\n",
       "\t<tr><td>A20   </td><td>NY    </td><td>Low   </td><td>25    </td></tr>\n",
       "\t<tr><td>A3    </td><td>WA    </td><td>High  </td><td>25    </td></tr>\n",
       "\t<tr><td>A4    </td><td>CO    </td><td>Medium</td><td>31    </td></tr>\n",
       "\t<tr><td>A5    </td><td>CO    </td><td>Low   </td><td>28    </td></tr>\n",
       "\t<tr><td>A6    </td><td>NY    </td><td>High  </td><td>37    </td></tr>\n",
       "\t<tr><td>A7    </td><td>NY    </td><td>Medium</td><td>37    </td></tr>\n",
       "\t<tr><td>A8    </td><td>NY    </td><td>Medium</td><td>25    </td></tr>\n",
       "\t<tr><td>A9    </td><td>CO    </td><td>Low   </td><td>38    </td></tr>\n",
       "</tbody>\n",
       "</table>\n"
      ],
      "text/latex": [
       "\\begin{tabular}{r|llll}\n",
       " cod & state & education & ages\\\\\n",
       "\\hline\n",
       "\t A1     & NY     & High   & NA    \\\\\n",
       "\t A10    & VA     & Low    & 28    \\\\\n",
       "\t A11    & WA     & Medium & 31    \\\\\n",
       "\t A12    & WA     & High   & 34    \\\\\n",
       "\t A13    & NY     & Low    & 27    \\\\\n",
       "\t A14    & CO     & Medium & 27    \\\\\n",
       "\t A15    & NY     & High   & 28    \\\\\n",
       "\t A16    & WA     & Low    & 28    \\\\\n",
       "\t A17    & WA     & Low    & 27    \\\\\n",
       "\t A18    & WA     & Low    & 32    \\\\\n",
       "\t A19    & NY     & Medium & 40    \\\\\n",
       "\t A2     & WA     & Low    & 27    \\\\\n",
       "\t A20    & NY     & Low    & 25    \\\\\n",
       "\t A3     & WA     & High   & 25    \\\\\n",
       "\t A4     & CO     & Medium & 31    \\\\\n",
       "\t A5     & CO     & Low    & 28    \\\\\n",
       "\t A6     & NY     & High   & 37    \\\\\n",
       "\t A7     & NY     & Medium & 37    \\\\\n",
       "\t A8     & NY     & Medium & 25    \\\\\n",
       "\t A9     & CO     & Low    & 38    \\\\\n",
       "\\end{tabular}\n"
      ],
      "text/markdown": [
       "\n",
       "cod | state | education | ages | \n",
       "|---|---|---|---|---|---|---|---|---|---|---|---|---|---|---|---|---|---|---|---|\n",
       "| A1     | NY     | High   | NA     | \n",
       "| A10    | VA     | Low    | 28     | \n",
       "| A11    | WA     | Medium | 31     | \n",
       "| A12    | WA     | High   | 34     | \n",
       "| A13    | NY     | Low    | 27     | \n",
       "| A14    | CO     | Medium | 27     | \n",
       "| A15    | NY     | High   | 28     | \n",
       "| A16    | WA     | Low    | 28     | \n",
       "| A17    | WA     | Low    | 27     | \n",
       "| A18    | WA     | Low    | 32     | \n",
       "| A19    | NY     | Medium | 40     | \n",
       "| A2     | WA     | Low    | 27     | \n",
       "| A20    | NY     | Low    | 25     | \n",
       "| A3     | WA     | High   | 25     | \n",
       "| A4     | CO     | Medium | 31     | \n",
       "| A5     | CO     | Low    | 28     | \n",
       "| A6     | NY     | High   | 37     | \n",
       "| A7     | NY     | Medium | 37     | \n",
       "| A8     | NY     | Medium | 25     | \n",
       "| A9     | CO     | Low    | 38     | \n",
       "\n",
       "\n"
      ],
      "text/plain": [
       "   cod state education ages\n",
       "1  A1  NY    High      NA  \n",
       "2  A10 VA    Low       28  \n",
       "3  A11 WA    Medium    31  \n",
       "4  A12 WA    High      34  \n",
       "5  A13 NY    Low       27  \n",
       "6  A14 CO    Medium    27  \n",
       "7  A15 NY    High      28  \n",
       "8  A16 WA    Low       28  \n",
       "9  A17 WA    Low       27  \n",
       "10 A18 WA    Low       32  \n",
       "11 A19 NY    Medium    40  \n",
       "12 A2  WA    Low       27  \n",
       "13 A20 NY    Low       25  \n",
       "14 A3  WA    High      25  \n",
       "15 A4  CO    Medium    31  \n",
       "16 A5  CO    Low       28  \n",
       "17 A6  NY    High      37  \n",
       "18 A7  NY    Medium    37  \n",
       "19 A8  NY    Medium    25  \n",
       "20 A9  CO    Low       38  "
      ]
     },
     "metadata": {},
     "output_type": "display_data"
    }
   ],
   "source": [
    "dcast(people_L1,cod + state + education~ variable)"
   ]
  },
  {
   "cell_type": "markdown",
   "metadata": {},
   "source": [
    "Notice this is the original data frame.\n",
    "\n",
    "Now, for the second case:\n"
   ]
  },
  {
   "cell_type": "code",
   "execution_count": 105,
   "metadata": {},
   "outputs": [
    {
     "name": "stderr",
     "output_type": "stream",
     "text": [
      "Warning message:\n",
      "“attributes are not identical across measure variables; they will be dropped”"
     ]
    },
    {
     "data": {
      "text/html": [
       "<table>\n",
       "<thead><tr><th scope=col>cod</th><th scope=col>state</th><th scope=col>ages</th><th scope=col>education</th></tr></thead>\n",
       "<tbody>\n",
       "\t<tr><td>A1    </td><td>NY    </td><td>NA    </td><td>High  </td></tr>\n",
       "\t<tr><td>A10   </td><td>VA    </td><td>28    </td><td>Low   </td></tr>\n",
       "\t<tr><td>A11   </td><td>WA    </td><td>31    </td><td>Medium</td></tr>\n",
       "\t<tr><td>A12   </td><td>WA    </td><td>34    </td><td>High  </td></tr>\n",
       "\t<tr><td>A13   </td><td>NY    </td><td>27    </td><td>Low   </td></tr>\n",
       "\t<tr><td>A14   </td><td>CO    </td><td>27    </td><td>Medium</td></tr>\n",
       "\t<tr><td>A15   </td><td>NY    </td><td>28    </td><td>High  </td></tr>\n",
       "\t<tr><td>A16   </td><td>WA    </td><td>28    </td><td>Low   </td></tr>\n",
       "\t<tr><td>A17   </td><td>WA    </td><td>27    </td><td>Low   </td></tr>\n",
       "\t<tr><td>A18   </td><td>WA    </td><td>32    </td><td>Low   </td></tr>\n",
       "\t<tr><td>A19   </td><td>NY    </td><td>40    </td><td>Medium</td></tr>\n",
       "\t<tr><td>A2    </td><td>WA    </td><td>27    </td><td>Low   </td></tr>\n",
       "\t<tr><td>A20   </td><td>NY    </td><td>25    </td><td>Low   </td></tr>\n",
       "\t<tr><td>A3    </td><td>WA    </td><td>25    </td><td>High  </td></tr>\n",
       "\t<tr><td>A4    </td><td>CO    </td><td>31    </td><td>Medium</td></tr>\n",
       "\t<tr><td>A5    </td><td>CO    </td><td>28    </td><td>Low   </td></tr>\n",
       "\t<tr><td>A6    </td><td>NY    </td><td>37    </td><td>High  </td></tr>\n",
       "\t<tr><td>A7    </td><td>NY    </td><td>37    </td><td>Medium</td></tr>\n",
       "\t<tr><td>A8    </td><td>NY    </td><td>25    </td><td>Medium</td></tr>\n",
       "\t<tr><td>A9    </td><td>CO    </td><td>38    </td><td>Low   </td></tr>\n",
       "</tbody>\n",
       "</table>\n"
      ],
      "text/latex": [
       "\\begin{tabular}{r|llll}\n",
       " cod & state & ages & education\\\\\n",
       "\\hline\n",
       "\t A1     & NY     & NA     & High  \\\\\n",
       "\t A10    & VA     & 28     & Low   \\\\\n",
       "\t A11    & WA     & 31     & Medium\\\\\n",
       "\t A12    & WA     & 34     & High  \\\\\n",
       "\t A13    & NY     & 27     & Low   \\\\\n",
       "\t A14    & CO     & 27     & Medium\\\\\n",
       "\t A15    & NY     & 28     & High  \\\\\n",
       "\t A16    & WA     & 28     & Low   \\\\\n",
       "\t A17    & WA     & 27     & Low   \\\\\n",
       "\t A18    & WA     & 32     & Low   \\\\\n",
       "\t A19    & NY     & 40     & Medium\\\\\n",
       "\t A2     & WA     & 27     & Low   \\\\\n",
       "\t A20    & NY     & 25     & Low   \\\\\n",
       "\t A3     & WA     & 25     & High  \\\\\n",
       "\t A4     & CO     & 31     & Medium\\\\\n",
       "\t A5     & CO     & 28     & Low   \\\\\n",
       "\t A6     & NY     & 37     & High  \\\\\n",
       "\t A7     & NY     & 37     & Medium\\\\\n",
       "\t A8     & NY     & 25     & Medium\\\\\n",
       "\t A9     & CO     & 38     & Low   \\\\\n",
       "\\end{tabular}\n"
      ],
      "text/markdown": [
       "\n",
       "cod | state | ages | education | \n",
       "|---|---|---|---|---|---|---|---|---|---|---|---|---|---|---|---|---|---|---|---|\n",
       "| A1     | NY     | NA     | High   | \n",
       "| A10    | VA     | 28     | Low    | \n",
       "| A11    | WA     | 31     | Medium | \n",
       "| A12    | WA     | 34     | High   | \n",
       "| A13    | NY     | 27     | Low    | \n",
       "| A14    | CO     | 27     | Medium | \n",
       "| A15    | NY     | 28     | High   | \n",
       "| A16    | WA     | 28     | Low    | \n",
       "| A17    | WA     | 27     | Low    | \n",
       "| A18    | WA     | 32     | Low    | \n",
       "| A19    | NY     | 40     | Medium | \n",
       "| A2     | WA     | 27     | Low    | \n",
       "| A20    | NY     | 25     | Low    | \n",
       "| A3     | WA     | 25     | High   | \n",
       "| A4     | CO     | 31     | Medium | \n",
       "| A5     | CO     | 28     | Low    | \n",
       "| A6     | NY     | 37     | High   | \n",
       "| A7     | NY     | 37     | Medium | \n",
       "| A8     | NY     | 25     | Medium | \n",
       "| A9     | CO     | 38     | Low    | \n",
       "\n",
       "\n"
      ],
      "text/plain": [
       "   cod state ages education\n",
       "1  A1  NY    NA   High     \n",
       "2  A10 VA    28   Low      \n",
       "3  A11 WA    31   Medium   \n",
       "4  A12 WA    34   High     \n",
       "5  A13 NY    27   Low      \n",
       "6  A14 CO    27   Medium   \n",
       "7  A15 NY    28   High     \n",
       "8  A16 WA    28   Low      \n",
       "9  A17 WA    27   Low      \n",
       "10 A18 WA    32   Low      \n",
       "11 A19 NY    40   Medium   \n",
       "12 A2  WA    27   Low      \n",
       "13 A20 NY    25   Low      \n",
       "14 A3  WA    25   High     \n",
       "15 A4  CO    31   Medium   \n",
       "16 A5  CO    28   Low      \n",
       "17 A6  NY    37   High     \n",
       "18 A7  NY    37   Medium   \n",
       "19 A8  NY    25   Medium   \n",
       "20 A9  CO    38   Low      "
      ]
     },
     "metadata": {},
     "output_type": "display_data"
    }
   ],
   "source": [
    "people_L2=melt(people, id=c('cod','state'))\n",
    "dcast(people_L2,cod + state ~ variable)\n"
   ]
  },
  {
   "cell_type": "markdown",
   "metadata": {},
   "source": [
    "Notice this look like the original data frame, but the data types are not the original ones."
   ]
  }
 ],
 "metadata": {
  "hide_input": false,
  "kernelspec": {
   "display_name": "R",
   "language": "R",
   "name": "ir"
  },
  "language_info": {
   "codemirror_mode": "r",
   "file_extension": ".r",
   "mimetype": "text/x-r-source",
   "name": "R",
   "pygments_lexer": "r",
   "version": "3.5.1"
  }
 },
 "nbformat": 4,
 "nbformat_minor": 2
}
